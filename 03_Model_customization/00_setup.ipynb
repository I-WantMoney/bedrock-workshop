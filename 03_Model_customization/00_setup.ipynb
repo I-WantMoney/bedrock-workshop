{
 "cells": [
  {
   "cell_type": "markdown",
   "id": "3aa97432-05f5-4089-8fc6-3d45e8436f52",
   "metadata": {},
   "source": [
    "# Setup for running customization notebooks both for fine-tuning and continued pre-training using Amazon Bedrock\n",
    "\n",
    "In this notebook, we will create set of roles and an s3 bucket which will be used for other notebooks in this module. "
   ]
  },
  {
   "cell_type": "markdown",
   "id": "5f7af570-3b64-45e3-a9a9-a976ea7b51e6",
   "metadata": {},
   "source": [
    "> This notebook should work well with the **`Data Science 3.0`**, **`Python 3`**, and **`ml.c5.2xlarge`** kernel in SageMaker Studio\n",
    "\n",
    "## Prerequisites\n",
    "\n",
    "###  Custom job role\n",
    "The notebook allows you to either create a Bedrock role for running customization jobs in the **Create IAM customization job role** section or you can skip this section and create Bedrock Service role for customization jobs following [instructions on managing permissions for customization jobs](https://docs.aws.amazon.com/bedrock/latest/userguide/model-customization-iam-role.html). If you want to use an existing custom job role please edit the variable **customization_role** and also ensure it has access to the S3 bucket containing the dataset. \n",
    "\n",
    "#### Create IAM Pre-requisites\n",
    "\n",
    "This notebook requires permissions to: \n",
    "- create and delete Amazon IAM roles\n",
    "- create, update and delete Amazon S3 buckets \n",
    "- access Amazon Bedrock \n",
    "\n",
    "If you are running this notebook without an Admin role, make sure that your role include the following managed policies:\n",
    "- IAMFullAccess\n",
    "- AmazonS3FullAccess\n",
    "- AmazonBedrockFullAccess\n",
    "\n",
    "\n",
    "\n",
    "- You can also create a custom model in the Bedrock console following the instructions [here](https://docs.aws.amazon.com/bedrock/latest/userguide/model-customization-console.html)."
   ]
  },
  {
   "cell_type": "markdown",
   "id": "3af81567-a342-43ae-b15f-606d13442225",
   "metadata": {},
   "source": [
    "## Setup\n",
    "Install and import all the needed libraries and dependencies to complete this notebook.\n",
    "\n",
    "<div class=\"alert alert-block alert-warning\">\n",
    "<b>Warning:</b> Please ignore error messages related to pip's dependency resolver.\n",
    "</div>"
   ]
  },
  {
   "cell_type": "code",
   "id": "110f5f5a-6443-4ce9-afb2-3a5da004f55b",
   "metadata": {
    "scrolled": true,
    "tags": [],
    "ExecuteTime": {
     "end_time": "2024-04-25T14:51:34.815903Z",
     "start_time": "2024-04-25T14:50:19.140768Z"
    }
   },
   "source": [
    "!pip install --upgrade pip\n",
    "%pip install --no-build-isolation --force-reinstall \\\n",
    "    \"boto3>=1.28.57\" \\\n",
    "    \"awscli>=1.29.57\" \\\n",
    "    \"botocore>=1.31.57\"\n",
    "!pip install -qU --force-reinstall langchain typing_extensions pypdf urllib3==2.1.0\n",
    "!pip install -qU ipywidgets>=7,<8\n",
    "!pip install jsonlines\n",
    "!pip install datasets==2.15.0\n",
    "!pip install pandas==2.1.3\n",
    "!pip install matplotlib==3.8.2"
   ],
   "outputs": [
    {
     "name": "stdout",
     "output_type": "stream",
     "text": [
      "Requirement already satisfied: pip in /Users/jicowan/PycharmProjects/amazon-bedrock-workshop/.venv/lib/python3.11/site-packages (24.0)\r\n",
      "Collecting boto3>=1.28.57\r\n",
      "  Using cached boto3-1.34.91-py3-none-any.whl.metadata (6.6 kB)\r\n",
      "Collecting awscli>=1.29.57\r\n",
      "  Downloading awscli-1.32.91-py3-none-any.whl.metadata (11 kB)\r\n",
      "Collecting botocore>=1.31.57\r\n",
      "  Using cached botocore-1.34.91-py3-none-any.whl.metadata (5.7 kB)\r\n",
      "Collecting jmespath<2.0.0,>=0.7.1 (from boto3>=1.28.57)\r\n",
      "  Using cached jmespath-1.0.1-py3-none-any.whl.metadata (7.6 kB)\r\n",
      "Collecting s3transfer<0.11.0,>=0.10.0 (from boto3>=1.28.57)\r\n",
      "  Using cached s3transfer-0.10.1-py3-none-any.whl.metadata (1.7 kB)\r\n",
      "Collecting docutils<0.17,>=0.10 (from awscli>=1.29.57)\r\n",
      "  Downloading docutils-0.16-py2.py3-none-any.whl.metadata (2.7 kB)\r\n",
      "Collecting PyYAML<6.1,>=3.10 (from awscli>=1.29.57)\r\n",
      "  Using cached PyYAML-6.0.1-cp311-cp311-macosx_10_9_x86_64.whl.metadata (2.1 kB)\r\n",
      "Collecting colorama<0.4.5,>=0.2.5 (from awscli>=1.29.57)\r\n",
      "  Downloading colorama-0.4.4-py2.py3-none-any.whl.metadata (14 kB)\r\n",
      "Collecting rsa<4.8,>=3.1.2 (from awscli>=1.29.57)\r\n",
      "  Downloading rsa-4.7.2-py3-none-any.whl.metadata (3.6 kB)\r\n",
      "Collecting python-dateutil<3.0.0,>=2.1 (from botocore>=1.31.57)\r\n",
      "  Using cached python_dateutil-2.9.0.post0-py2.py3-none-any.whl.metadata (8.4 kB)\r\n",
      "Collecting urllib3!=2.2.0,<3,>=1.25.4 (from botocore>=1.31.57)\r\n",
      "  Using cached urllib3-2.2.1-py3-none-any.whl.metadata (6.4 kB)\r\n",
      "Collecting six>=1.5 (from python-dateutil<3.0.0,>=2.1->botocore>=1.31.57)\r\n",
      "  Using cached six-1.16.0-py2.py3-none-any.whl.metadata (1.8 kB)\r\n",
      "Collecting pyasn1>=0.1.3 (from rsa<4.8,>=3.1.2->awscli>=1.29.57)\r\n",
      "  Downloading pyasn1-0.6.0-py2.py3-none-any.whl.metadata (8.3 kB)\r\n",
      "Using cached boto3-1.34.91-py3-none-any.whl (139 kB)\r\n",
      "Downloading awscli-1.32.91-py3-none-any.whl (4.4 MB)\r\n",
      "\u001B[2K   \u001B[90m━━━━━━━━━━━━━━━━━━━━━━━━━━━━━━━━━━━━━━━━\u001B[0m \u001B[32m4.4/4.4 MB\u001B[0m \u001B[31m9.5 MB/s\u001B[0m eta \u001B[36m0:00:00\u001B[0m:00:01\u001B[0m0:01\u001B[0m\r\n",
      "\u001B[?25hUsing cached botocore-1.34.91-py3-none-any.whl (12.2 MB)\r\n",
      "Downloading colorama-0.4.4-py2.py3-none-any.whl (16 kB)\r\n",
      "Downloading docutils-0.16-py2.py3-none-any.whl (548 kB)\r\n",
      "\u001B[2K   \u001B[90m━━━━━━━━━━━━━━━━━━━━━━━━━━━━━━━━━━━━━━━━\u001B[0m \u001B[32m548.2/548.2 kB\u001B[0m \u001B[31m9.6 MB/s\u001B[0m eta \u001B[36m0:00:00\u001B[0m:00:01\u001B[0m\r\n",
      "\u001B[?25hUsing cached jmespath-1.0.1-py3-none-any.whl (20 kB)\r\n",
      "Using cached python_dateutil-2.9.0.post0-py2.py3-none-any.whl (229 kB)\r\n",
      "Using cached PyYAML-6.0.1-cp311-cp311-macosx_10_9_x86_64.whl (187 kB)\r\n",
      "Downloading rsa-4.7.2-py3-none-any.whl (34 kB)\r\n",
      "Using cached s3transfer-0.10.1-py3-none-any.whl (82 kB)\r\n",
      "Using cached urllib3-2.2.1-py3-none-any.whl (121 kB)\r\n",
      "Downloading pyasn1-0.6.0-py2.py3-none-any.whl (85 kB)\r\n",
      "\u001B[2K   \u001B[90m━━━━━━━━━━━━━━━━━━━━━━━━━━━━━━━━━━━━━━━━\u001B[0m \u001B[32m85.3/85.3 kB\u001B[0m \u001B[31m2.4 MB/s\u001B[0m eta \u001B[36m0:00:00\u001B[0m\r\n",
      "\u001B[?25hUsing cached six-1.16.0-py2.py3-none-any.whl (11 kB)\r\n",
      "Installing collected packages: urllib3, six, PyYAML, pyasn1, jmespath, docutils, colorama, rsa, python-dateutil, botocore, s3transfer, boto3, awscli\r\n",
      "  Attempting uninstall: urllib3\r\n",
      "    Found existing installation: urllib3 2.2.1\r\n",
      "    Uninstalling urllib3-2.2.1:\r\n",
      "      Successfully uninstalled urllib3-2.2.1\r\n",
      "  Attempting uninstall: six\r\n",
      "    Found existing installation: six 1.16.0\r\n",
      "    Uninstalling six-1.16.0:\r\n",
      "      Successfully uninstalled six-1.16.0\r\n",
      "  Attempting uninstall: PyYAML\r\n",
      "    Found existing installation: PyYAML 6.0.1\r\n",
      "    Uninstalling PyYAML-6.0.1:\r\n",
      "      Successfully uninstalled PyYAML-6.0.1\r\n",
      "  Attempting uninstall: jmespath\r\n",
      "    Found existing installation: jmespath 1.0.1\r\n",
      "    Uninstalling jmespath-1.0.1:\r\n",
      "      Successfully uninstalled jmespath-1.0.1\r\n",
      "  Attempting uninstall: python-dateutil\r\n",
      "    Found existing installation: python-dateutil 2.9.0.post0\r\n",
      "    Uninstalling python-dateutil-2.9.0.post0:\r\n",
      "      Successfully uninstalled python-dateutil-2.9.0.post0\r\n",
      "  Attempting uninstall: botocore\r\n",
      "    Found existing installation: botocore 1.34.91\r\n",
      "    Uninstalling botocore-1.34.91:\r\n",
      "      Successfully uninstalled botocore-1.34.91\r\n",
      "  Attempting uninstall: s3transfer\r\n",
      "    Found existing installation: s3transfer 0.10.1\r\n",
      "    Uninstalling s3transfer-0.10.1:\r\n",
      "      Successfully uninstalled s3transfer-0.10.1\r\n",
      "  Attempting uninstall: boto3\r\n",
      "    Found existing installation: boto3 1.34.91\r\n",
      "    Uninstalling boto3-1.34.91:\r\n",
      "      Successfully uninstalled boto3-1.34.91\r\n",
      "\u001B[31mERROR: pip's dependency resolver does not currently take into account all the packages that are installed. This behaviour is the source of the following dependency conflicts.\r\n",
      "opensearch-py 2.3.1 requires urllib3<2,>=1.21.1, but you have urllib3 2.2.1 which is incompatible.\u001B[0m\u001B[31m\r\n",
      "\u001B[0mSuccessfully installed PyYAML-6.0.1 awscli-1.32.91 boto3-1.34.91 botocore-1.34.91 colorama-0.4.4 docutils-0.16 jmespath-1.0.1 pyasn1-0.6.0 python-dateutil-2.9.0.post0 rsa-4.7.2 s3transfer-0.10.1 six-1.16.0 urllib3-2.2.1\r\n",
      "Note: you may need to restart the kernel to use updated packages.\n",
      "\u001B[31mERROR: pip's dependency resolver does not currently take into account all the packages that are installed. This behaviour is the source of the following dependency conflicts.\r\n",
      "opensearch-py 2.3.1 requires urllib3<2,>=1.21.1, but you have urllib3 2.1.0 which is incompatible.\u001B[0m\u001B[31m\r\n",
      "\u001B[0mzsh:1: 7, not found\r\n",
      "Collecting jsonlines\r\n",
      "  Downloading jsonlines-4.0.0-py3-none-any.whl.metadata (1.6 kB)\r\n",
      "Requirement already satisfied: attrs>=19.2.0 in /Users/jicowan/PycharmProjects/amazon-bedrock-workshop/.venv/lib/python3.11/site-packages (from jsonlines) (23.2.0)\r\n",
      "Downloading jsonlines-4.0.0-py3-none-any.whl (8.7 kB)\r\n",
      "Installing collected packages: jsonlines\r\n",
      "Successfully installed jsonlines-4.0.0\r\n",
      "Collecting datasets==2.15.0\r\n",
      "  Downloading datasets-2.15.0-py3-none-any.whl.metadata (20 kB)\r\n",
      "Requirement already satisfied: numpy>=1.17 in /Users/jicowan/PycharmProjects/amazon-bedrock-workshop/.venv/lib/python3.11/site-packages (from datasets==2.15.0) (1.26.4)\r\n",
      "Collecting pyarrow>=8.0.0 (from datasets==2.15.0)\r\n",
      "  Downloading pyarrow-16.0.0-cp311-cp311-macosx_10_15_x86_64.whl.metadata (3.0 kB)\r\n",
      "Collecting pyarrow-hotfix (from datasets==2.15.0)\r\n",
      "  Using cached pyarrow_hotfix-0.6-py3-none-any.whl.metadata (3.6 kB)\r\n",
      "Collecting dill<0.3.8,>=0.3.0 (from datasets==2.15.0)\r\n",
      "  Downloading dill-0.3.7-py3-none-any.whl.metadata (9.9 kB)\r\n",
      "Collecting pandas (from datasets==2.15.0)\r\n",
      "  Using cached pandas-2.2.2-cp311-cp311-macosx_10_9_x86_64.whl.metadata (19 kB)\r\n",
      "Requirement already satisfied: requests>=2.19.0 in /Users/jicowan/PycharmProjects/amazon-bedrock-workshop/.venv/lib/python3.11/site-packages (from datasets==2.15.0) (2.31.0)\r\n",
      "Collecting tqdm>=4.62.1 (from datasets==2.15.0)\r\n",
      "  Using cached tqdm-4.66.2-py3-none-any.whl.metadata (57 kB)\r\n",
      "Collecting xxhash (from datasets==2.15.0)\r\n",
      "  Using cached xxhash-3.4.1-cp311-cp311-macosx_10_9_x86_64.whl.metadata (12 kB)\r\n",
      "Collecting multiprocess (from datasets==2.15.0)\r\n",
      "  Using cached multiprocess-0.70.16-py311-none-any.whl.metadata (7.2 kB)\r\n",
      "Collecting fsspec<=2023.10.0,>=2023.1.0 (from fsspec[http]<=2023.10.0,>=2023.1.0->datasets==2.15.0)\r\n",
      "  Downloading fsspec-2023.10.0-py3-none-any.whl.metadata (6.8 kB)\r\n",
      "Requirement already satisfied: aiohttp in /Users/jicowan/PycharmProjects/amazon-bedrock-workshop/.venv/lib/python3.11/site-packages (from datasets==2.15.0) (3.9.5)\r\n",
      "Collecting huggingface-hub>=0.18.0 (from datasets==2.15.0)\r\n",
      "  Using cached huggingface_hub-0.22.2-py3-none-any.whl.metadata (12 kB)\r\n",
      "Requirement already satisfied: packaging in /Users/jicowan/PycharmProjects/amazon-bedrock-workshop/.venv/lib/python3.11/site-packages (from datasets==2.15.0) (23.2)\r\n",
      "Requirement already satisfied: pyyaml>=5.1 in /Users/jicowan/PycharmProjects/amazon-bedrock-workshop/.venv/lib/python3.11/site-packages (from datasets==2.15.0) (6.0.1)\r\n",
      "Requirement already satisfied: aiosignal>=1.1.2 in /Users/jicowan/PycharmProjects/amazon-bedrock-workshop/.venv/lib/python3.11/site-packages (from aiohttp->datasets==2.15.0) (1.3.1)\r\n",
      "Requirement already satisfied: attrs>=17.3.0 in /Users/jicowan/PycharmProjects/amazon-bedrock-workshop/.venv/lib/python3.11/site-packages (from aiohttp->datasets==2.15.0) (23.2.0)\r\n",
      "Requirement already satisfied: frozenlist>=1.1.1 in /Users/jicowan/PycharmProjects/amazon-bedrock-workshop/.venv/lib/python3.11/site-packages (from aiohttp->datasets==2.15.0) (1.4.1)\r\n",
      "Requirement already satisfied: multidict<7.0,>=4.5 in /Users/jicowan/PycharmProjects/amazon-bedrock-workshop/.venv/lib/python3.11/site-packages (from aiohttp->datasets==2.15.0) (6.0.5)\r\n",
      "Requirement already satisfied: yarl<2.0,>=1.0 in /Users/jicowan/PycharmProjects/amazon-bedrock-workshop/.venv/lib/python3.11/site-packages (from aiohttp->datasets==2.15.0) (1.9.4)\r\n",
      "Collecting filelock (from huggingface-hub>=0.18.0->datasets==2.15.0)\r\n",
      "  Downloading filelock-3.13.4-py3-none-any.whl.metadata (2.8 kB)\r\n",
      "Requirement already satisfied: typing-extensions>=3.7.4.3 in /Users/jicowan/PycharmProjects/amazon-bedrock-workshop/.venv/lib/python3.11/site-packages (from huggingface-hub>=0.18.0->datasets==2.15.0) (4.11.0)\r\n",
      "Requirement already satisfied: charset-normalizer<4,>=2 in /Users/jicowan/PycharmProjects/amazon-bedrock-workshop/.venv/lib/python3.11/site-packages (from requests>=2.19.0->datasets==2.15.0) (3.3.2)\r\n",
      "Requirement already satisfied: idna<4,>=2.5 in /Users/jicowan/PycharmProjects/amazon-bedrock-workshop/.venv/lib/python3.11/site-packages (from requests>=2.19.0->datasets==2.15.0) (3.7)\r\n",
      "Requirement already satisfied: urllib3<3,>=1.21.1 in /Users/jicowan/PycharmProjects/amazon-bedrock-workshop/.venv/lib/python3.11/site-packages (from requests>=2.19.0->datasets==2.15.0) (2.1.0)\r\n",
      "Requirement already satisfied: certifi>=2017.4.17 in /Users/jicowan/PycharmProjects/amazon-bedrock-workshop/.venv/lib/python3.11/site-packages (from requests>=2.19.0->datasets==2.15.0) (2024.2.2)\r\n",
      "INFO: pip is looking at multiple versions of multiprocess to determine which version is compatible with other requirements. This could take a while.\r\n",
      "Collecting multiprocess (from datasets==2.15.0)\r\n",
      "  Downloading multiprocess-0.70.15-py311-none-any.whl.metadata (7.2 kB)\r\n",
      "Requirement already satisfied: python-dateutil>=2.8.2 in /Users/jicowan/PycharmProjects/amazon-bedrock-workshop/.venv/lib/python3.11/site-packages (from pandas->datasets==2.15.0) (2.9.0.post0)\r\n",
      "Collecting pytz>=2020.1 (from pandas->datasets==2.15.0)\r\n",
      "  Using cached pytz-2024.1-py2.py3-none-any.whl.metadata (22 kB)\r\n",
      "Collecting tzdata>=2022.7 (from pandas->datasets==2.15.0)\r\n",
      "  Using cached tzdata-2024.1-py2.py3-none-any.whl.metadata (1.4 kB)\r\n",
      "Requirement already satisfied: six>=1.5 in /Users/jicowan/PycharmProjects/amazon-bedrock-workshop/.venv/lib/python3.11/site-packages (from python-dateutil>=2.8.2->pandas->datasets==2.15.0) (1.16.0)\r\n",
      "Downloading datasets-2.15.0-py3-none-any.whl (521 kB)\r\n",
      "\u001B[2K   \u001B[90m━━━━━━━━━━━━━━━━━━━━━━━━━━━━━━━━━━━━━━━━\u001B[0m \u001B[32m521.2/521.2 kB\u001B[0m \u001B[31m3.6 MB/s\u001B[0m eta \u001B[36m0:00:00\u001B[0ma \u001B[36m0:00:01\u001B[0m\r\n",
      "\u001B[?25hDownloading dill-0.3.7-py3-none-any.whl (115 kB)\r\n",
      "\u001B[2K   \u001B[90m━━━━━━━━━━━━━━━━━━━━━━━━━━━━━━━━━━━━━━━━\u001B[0m \u001B[32m115.3/115.3 kB\u001B[0m \u001B[31m3.3 MB/s\u001B[0m eta \u001B[36m0:00:00\u001B[0m\r\n",
      "\u001B[?25hDownloading fsspec-2023.10.0-py3-none-any.whl (166 kB)\r\n",
      "\u001B[2K   \u001B[90m━━━━━━━━━━━━━━━━━━━━━━━━━━━━━━━━━━━━━━━━\u001B[0m \u001B[32m166.4/166.4 kB\u001B[0m \u001B[31m6.0 MB/s\u001B[0m eta \u001B[36m0:00:00\u001B[0m\r\n",
      "\u001B[?25hUsing cached huggingface_hub-0.22.2-py3-none-any.whl (388 kB)\r\n",
      "Downloading pyarrow-16.0.0-cp311-cp311-macosx_10_15_x86_64.whl (29.2 MB)\r\n",
      "\u001B[2K   \u001B[90m━━━━━━━━━━━━━━━━━━━━━━━━━━━━━━━━━━━━━━━━\u001B[0m \u001B[32m29.2/29.2 MB\u001B[0m \u001B[31m16.6 MB/s\u001B[0m eta \u001B[36m0:00:00\u001B[0m00:01\u001B[0m00:01\u001B[0m\r\n",
      "\u001B[?25hUsing cached tqdm-4.66.2-py3-none-any.whl (78 kB)\r\n",
      "Downloading multiprocess-0.70.15-py311-none-any.whl (135 kB)\r\n",
      "\u001B[2K   \u001B[90m━━━━━━━━━━━━━━━━━━━━━━━━━━━━━━━━━━━━━━━━\u001B[0m \u001B[32m135.4/135.4 kB\u001B[0m \u001B[31m3.5 MB/s\u001B[0m eta \u001B[36m0:00:00\u001B[0m:00:01\u001B[0m\r\n",
      "\u001B[?25hUsing cached pandas-2.2.2-cp311-cp311-macosx_10_9_x86_64.whl (12.6 MB)\r\n",
      "Using cached pyarrow_hotfix-0.6-py3-none-any.whl (7.9 kB)\r\n",
      "Using cached xxhash-3.4.1-cp311-cp311-macosx_10_9_x86_64.whl (31 kB)\r\n",
      "Using cached pytz-2024.1-py2.py3-none-any.whl (505 kB)\r\n",
      "Using cached tzdata-2024.1-py2.py3-none-any.whl (345 kB)\r\n",
      "Downloading filelock-3.13.4-py3-none-any.whl (11 kB)\r\n",
      "Installing collected packages: pytz, xxhash, tzdata, tqdm, pyarrow-hotfix, pyarrow, fsspec, filelock, dill, pandas, multiprocess, huggingface-hub, datasets\r\n",
      "Successfully installed datasets-2.15.0 dill-0.3.7 filelock-3.13.4 fsspec-2023.10.0 huggingface-hub-0.22.2 multiprocess-0.70.15 pandas-2.2.2 pyarrow-16.0.0 pyarrow-hotfix-0.6 pytz-2024.1 tqdm-4.66.2 tzdata-2024.1 xxhash-3.4.1\r\n",
      "Collecting pandas==2.1.3\r\n",
      "  Downloading pandas-2.1.3-cp311-cp311-macosx_10_9_x86_64.whl.metadata (18 kB)\r\n",
      "Requirement already satisfied: numpy<2,>=1.23.2 in /Users/jicowan/PycharmProjects/amazon-bedrock-workshop/.venv/lib/python3.11/site-packages (from pandas==2.1.3) (1.26.4)\r\n",
      "Requirement already satisfied: python-dateutil>=2.8.2 in /Users/jicowan/PycharmProjects/amazon-bedrock-workshop/.venv/lib/python3.11/site-packages (from pandas==2.1.3) (2.9.0.post0)\r\n",
      "Requirement already satisfied: pytz>=2020.1 in /Users/jicowan/PycharmProjects/amazon-bedrock-workshop/.venv/lib/python3.11/site-packages (from pandas==2.1.3) (2024.1)\r\n",
      "Requirement already satisfied: tzdata>=2022.1 in /Users/jicowan/PycharmProjects/amazon-bedrock-workshop/.venv/lib/python3.11/site-packages (from pandas==2.1.3) (2024.1)\r\n",
      "Requirement already satisfied: six>=1.5 in /Users/jicowan/PycharmProjects/amazon-bedrock-workshop/.venv/lib/python3.11/site-packages (from python-dateutil>=2.8.2->pandas==2.1.3) (1.16.0)\r\n",
      "Downloading pandas-2.1.3-cp311-cp311-macosx_10_9_x86_64.whl (11.6 MB)\r\n",
      "\u001B[2K   \u001B[90m━━━━━━━━━━━━━━━━━━━━━━━━━━━━━━━━━━━━━━━━\u001B[0m \u001B[32m11.6/11.6 MB\u001B[0m \u001B[31m13.4 MB/s\u001B[0m eta \u001B[36m0:00:00\u001B[0m00:01\u001B[0m00:01\u001B[0m\r\n",
      "\u001B[?25hInstalling collected packages: pandas\r\n",
      "  Attempting uninstall: pandas\r\n",
      "    Found existing installation: pandas 2.2.2\r\n",
      "    Uninstalling pandas-2.2.2:\r\n",
      "      Successfully uninstalled pandas-2.2.2\r\n",
      "Successfully installed pandas-2.1.3\r\n",
      "Collecting matplotlib==3.8.2\r\n",
      "  Downloading matplotlib-3.8.2-cp311-cp311-macosx_10_12_x86_64.whl.metadata (5.8 kB)\r\n",
      "Collecting contourpy>=1.0.1 (from matplotlib==3.8.2)\r\n",
      "  Using cached contourpy-1.2.1-cp311-cp311-macosx_10_9_x86_64.whl.metadata (5.8 kB)\r\n",
      "Collecting cycler>=0.10 (from matplotlib==3.8.2)\r\n",
      "  Using cached cycler-0.12.1-py3-none-any.whl.metadata (3.8 kB)\r\n",
      "Collecting fonttools>=4.22.0 (from matplotlib==3.8.2)\r\n",
      "  Using cached fonttools-4.51.0-cp311-cp311-macosx_10_9_x86_64.whl.metadata (159 kB)\r\n",
      "Collecting kiwisolver>=1.3.1 (from matplotlib==3.8.2)\r\n",
      "  Using cached kiwisolver-1.4.5-cp311-cp311-macosx_10_9_x86_64.whl.metadata (6.4 kB)\r\n",
      "Requirement already satisfied: numpy<2,>=1.21 in /Users/jicowan/PycharmProjects/amazon-bedrock-workshop/.venv/lib/python3.11/site-packages (from matplotlib==3.8.2) (1.26.4)\r\n",
      "Requirement already satisfied: packaging>=20.0 in /Users/jicowan/PycharmProjects/amazon-bedrock-workshop/.venv/lib/python3.11/site-packages (from matplotlib==3.8.2) (23.2)\r\n",
      "Requirement already satisfied: pillow>=8 in /Users/jicowan/PycharmProjects/amazon-bedrock-workshop/.venv/lib/python3.11/site-packages (from matplotlib==3.8.2) (10.3.0)\r\n",
      "Collecting pyparsing>=2.3.1 (from matplotlib==3.8.2)\r\n",
      "  Using cached pyparsing-3.1.2-py3-none-any.whl.metadata (5.1 kB)\r\n",
      "Requirement already satisfied: python-dateutil>=2.7 in /Users/jicowan/PycharmProjects/amazon-bedrock-workshop/.venv/lib/python3.11/site-packages (from matplotlib==3.8.2) (2.9.0.post0)\r\n",
      "Requirement already satisfied: six>=1.5 in /Users/jicowan/PycharmProjects/amazon-bedrock-workshop/.venv/lib/python3.11/site-packages (from python-dateutil>=2.7->matplotlib==3.8.2) (1.16.0)\r\n",
      "Downloading matplotlib-3.8.2-cp311-cp311-macosx_10_12_x86_64.whl (7.6 MB)\r\n",
      "\u001B[2K   \u001B[90m━━━━━━━━━━━━━━━━━━━━━━━━━━━━━━━━━━━━━━━━\u001B[0m \u001B[32m7.6/7.6 MB\u001B[0m \u001B[31m11.4 MB/s\u001B[0m eta \u001B[36m0:00:00\u001B[0m00:01\u001B[0m00:01\u001B[0m\r\n",
      "\u001B[?25hUsing cached contourpy-1.2.1-cp311-cp311-macosx_10_9_x86_64.whl (262 kB)\r\n",
      "Using cached cycler-0.12.1-py3-none-any.whl (8.3 kB)\r\n",
      "Using cached fonttools-4.51.0-cp311-cp311-macosx_10_9_x86_64.whl (2.3 MB)\r\n",
      "Using cached kiwisolver-1.4.5-cp311-cp311-macosx_10_9_x86_64.whl (68 kB)\r\n",
      "Using cached pyparsing-3.1.2-py3-none-any.whl (103 kB)\r\n",
      "Installing collected packages: pyparsing, kiwisolver, fonttools, cycler, contourpy, matplotlib\r\n",
      "Successfully installed contourpy-1.2.1 cycler-0.12.1 fonttools-4.51.0 kiwisolver-1.4.5 matplotlib-3.8.2 pyparsing-3.1.2\r\n"
     ]
    }
   ],
   "execution_count": 1
  },
  {
   "cell_type": "code",
   "id": "0c80e0aa-f0f4-483c-8477-77f522cee440",
   "metadata": {
    "tags": [],
    "ExecuteTime": {
     "end_time": "2024-04-25T14:51:50.498706Z",
     "start_time": "2024-04-25T14:51:50.484244Z"
    }
   },
   "source": [
    "# restart kernel for packages to take effect\n",
    "from IPython.core.display import HTML\n",
    "HTML(\"<script>Jupyter.notebook.kernel.restart()</script>\")"
   ],
   "outputs": [
    {
     "data": {
      "text/plain": [
       "<IPython.core.display.HTML object>"
      ],
      "text/html": [
       "<script>Jupyter.notebook.kernel.restart()</script>"
      ]
     },
     "execution_count": 1,
     "metadata": {},
     "output_type": "execute_result"
    }
   ],
   "execution_count": 1
  },
  {
   "cell_type": "code",
   "id": "dd869761-fa24-4baf-9049-aec6e032d57d",
   "metadata": {
    "tags": [],
    "ExecuteTime": {
     "end_time": "2024-04-25T14:52:15.142557Z",
     "start_time": "2024-04-25T14:51:52.983896Z"
    }
   },
   "source": [
    "import warnings\n",
    "warnings.filterwarnings('ignore')\n",
    "import json\n",
    "import os\n",
    "import sys\n",
    "import boto3 \n",
    "import time\n",
    "import pprint\n",
    "from datasets import load_dataset\n",
    "import random\n",
    "import jsonlines"
   ],
   "outputs": [],
   "execution_count": 2
  },
  {
   "cell_type": "code",
   "id": "6320c431-ca74-4606-a276-f9ad3118dd92",
   "metadata": {
    "tags": [],
    "ExecuteTime": {
     "end_time": "2024-04-25T14:52:21.637549Z",
     "start_time": "2024-04-25T14:52:21.035158Z"
    }
   },
   "source": [
    "session = boto3.session.Session()\n",
    "region = session.region_name\n",
    "sts_client = boto3.client('sts')\n",
    "account_id = sts_client.get_caller_identity()[\"Account\"]\n",
    "s3_suffix = f\"{region}-{account_id}\"\n",
    "bucket_name = f\"bedrock-customization-{s3_suffix}\"\n",
    "s3_client = boto3.client('s3')\n",
    "bedrock = boto3.client(service_name=\"bedrock\")\n",
    "bedrock_runtime = boto3.client(service_name=\"bedrock-runtime\")\n",
    "iam = boto3.client('iam', region_name=region)"
   ],
   "outputs": [],
   "execution_count": 3
  },
  {
   "cell_type": "code",
   "id": "91fb4000-0efd-48ef-bda1-c409e0011e80",
   "metadata": {
    "tags": [],
    "ExecuteTime": {
     "end_time": "2024-04-25T14:52:30.892967Z",
     "start_time": "2024-04-25T14:52:30.888623Z"
    }
   },
   "source": [
    "import uuid\n",
    "suffix = str(uuid.uuid4())\n",
    "role_name = \"BedrockRole-\" + suffix\n",
    "s3_bedrock_finetuning_access_policy=\"BedrockPolicy-\" + suffix\n",
    "customization_role = f\"arn:aws:iam::{account_id}:role/{role_name}\""
   ],
   "outputs": [],
   "execution_count": 4
  },
  {
   "cell_type": "markdown",
   "id": "c2fd9022-9880-40e5-8f85-c301ed14cfad",
   "metadata": {},
   "source": [
    "## Testing boto3 connection\n",
    "We will list the foundation models to test the bot3 connection and make sure bedrock client has been successfully created. "
   ]
  },
  {
   "cell_type": "code",
   "id": "5ae02ee1-1f59-498e-ab3c-2a34bb6e6da7",
   "metadata": {
    "tags": [],
    "ExecuteTime": {
     "end_time": "2024-04-25T14:52:44.520235Z",
     "start_time": "2024-04-25T14:52:44.136243Z"
    }
   },
   "source": [
    "for model in bedrock.list_foundation_models(\n",
    "    byCustomizationType=\"FINE_TUNING\")[\"modelSummaries\"]:\n",
    "    for key, value in model.items():\n",
    "        print(key, \":\", value)\n",
    "    print(\"-----\\n\")"
   ],
   "outputs": [
    {
     "name": "stdout",
     "output_type": "stream",
     "text": [
      "modelArn : arn:aws:bedrock:us-west-2::foundation-model/amazon.titan-text-lite-v1:0:4k\n",
      "modelId : amazon.titan-text-lite-v1:0:4k\n",
      "modelName : Titan Text G1 - Lite\n",
      "providerName : Amazon\n",
      "inputModalities : ['TEXT']\n",
      "outputModalities : ['TEXT']\n",
      "responseStreamingSupported : True\n",
      "customizationsSupported : ['FINE_TUNING', 'CONTINUED_PRE_TRAINING']\n",
      "inferenceTypesSupported : ['PROVISIONED']\n",
      "modelLifecycle : {'status': 'ACTIVE'}\n",
      "-----\n",
      "\n",
      "modelArn : arn:aws:bedrock:us-west-2::foundation-model/amazon.titan-text-express-v1:0:8k\n",
      "modelId : amazon.titan-text-express-v1:0:8k\n",
      "modelName : Titan Text G1 - Express\n",
      "providerName : Amazon\n",
      "inputModalities : ['TEXT']\n",
      "outputModalities : ['TEXT']\n",
      "responseStreamingSupported : True\n",
      "customizationsSupported : ['FINE_TUNING', 'CONTINUED_PRE_TRAINING']\n",
      "inferenceTypesSupported : ['PROVISIONED']\n",
      "modelLifecycle : {'status': 'ACTIVE'}\n",
      "-----\n",
      "\n",
      "modelArn : arn:aws:bedrock:us-west-2::foundation-model/amazon.titan-embed-image-v1:0\n",
      "modelId : amazon.titan-embed-image-v1:0\n",
      "modelName : Titan Multimodal Embeddings G1\n",
      "providerName : Amazon\n",
      "inputModalities : ['TEXT', 'IMAGE']\n",
      "outputModalities : ['EMBEDDING']\n",
      "customizationsSupported : ['FINE_TUNING']\n",
      "inferenceTypesSupported : ['PROVISIONED']\n",
      "modelLifecycle : {'status': 'ACTIVE'}\n",
      "-----\n",
      "\n",
      "modelArn : arn:aws:bedrock:us-west-2::foundation-model/amazon.titan-image-generator-v1:0\n",
      "modelId : amazon.titan-image-generator-v1:0\n",
      "modelName : Titan Image Generator G1\n",
      "providerName : Amazon\n",
      "inputModalities : ['TEXT', 'IMAGE']\n",
      "outputModalities : ['IMAGE']\n",
      "customizationsSupported : ['FINE_TUNING']\n",
      "inferenceTypesSupported : ['PROVISIONED']\n",
      "modelLifecycle : {'status': 'ACTIVE'}\n",
      "-----\n",
      "\n",
      "modelArn : arn:aws:bedrock:us-west-2::foundation-model/cohere.command-text-v14:7:4k\n",
      "modelId : cohere.command-text-v14:7:4k\n",
      "modelName : Command\n",
      "providerName : Cohere\n",
      "inputModalities : ['TEXT']\n",
      "outputModalities : ['TEXT']\n",
      "responseStreamingSupported : True\n",
      "customizationsSupported : ['FINE_TUNING']\n",
      "inferenceTypesSupported : ['PROVISIONED']\n",
      "modelLifecycle : {'status': 'ACTIVE'}\n",
      "-----\n",
      "\n",
      "modelArn : arn:aws:bedrock:us-west-2::foundation-model/cohere.command-light-text-v14:7:4k\n",
      "modelId : cohere.command-light-text-v14:7:4k\n",
      "modelName : Command Light\n",
      "providerName : Cohere\n",
      "inputModalities : ['TEXT']\n",
      "outputModalities : ['TEXT']\n",
      "responseStreamingSupported : True\n",
      "customizationsSupported : ['FINE_TUNING']\n",
      "inferenceTypesSupported : ['PROVISIONED']\n",
      "modelLifecycle : {'status': 'ACTIVE'}\n",
      "-----\n",
      "\n",
      "modelArn : arn:aws:bedrock:us-west-2::foundation-model/meta.llama2-13b-v1:0:4k\n",
      "modelId : meta.llama2-13b-v1:0:4k\n",
      "modelName : Llama 2 13B\n",
      "providerName : Meta\n",
      "inputModalities : ['TEXT']\n",
      "outputModalities : ['TEXT']\n",
      "responseStreamingSupported : True\n",
      "customizationsSupported : ['FINE_TUNING']\n",
      "inferenceTypesSupported : []\n",
      "modelLifecycle : {'status': 'ACTIVE'}\n",
      "-----\n",
      "\n",
      "modelArn : arn:aws:bedrock:us-west-2::foundation-model/meta.llama2-70b-v1:0:4k\n",
      "modelId : meta.llama2-70b-v1:0:4k\n",
      "modelName : Llama 2 70B\n",
      "providerName : Meta\n",
      "inputModalities : ['TEXT']\n",
      "outputModalities : ['TEXT']\n",
      "responseStreamingSupported : True\n",
      "customizationsSupported : ['FINE_TUNING']\n",
      "inferenceTypesSupported : []\n",
      "modelLifecycle : {'status': 'ACTIVE'}\n",
      "-----\n",
      "\n"
     ]
    }
   ],
   "execution_count": 5
  },
  {
   "cell_type": "markdown",
   "id": "66ad09f2-71c0-48b9-b45c-e061d046aa59",
   "metadata": {},
   "source": [
    "## Create s3 bucket\n",
    "In this step we will create a s3 bucket, which will be used to store data for fine-tuning and continued pre-training notebooks. "
   ]
  },
  {
   "cell_type": "code",
   "id": "4a977f93-699d-497e-9e32-1109a12de196",
   "metadata": {
    "tags": [],
    "ExecuteTime": {
     "end_time": "2024-04-25T14:53:37.400901Z",
     "start_time": "2024-04-25T14:53:36.503260Z"
    }
   },
   "source": [
    "# Create S3 bucket for knowledge base data source\n",
    "s3bucket = s3_client.create_bucket(\n",
    "    Bucket=bucket_name,\n",
    "    ## Uncomment the following if you run into errors\n",
    "    CreateBucketConfiguration={\n",
    "        'LocationConstraint':region,\n",
    "    },\n",
    ")"
   ],
   "outputs": [],
   "execution_count": 8
  },
  {
   "cell_type": "markdown",
   "id": "701a949e-e46b-44a8-9264-b4054948e76e",
   "metadata": {},
   "source": [
    "## Creating role and policies required to run customization jobs with Amazon Bedrock"
   ]
  },
  {
   "cell_type": "markdown",
   "id": "114928f6-c959-4bcd-80ac-dc6712b538b2",
   "metadata": {},
   "source": "This JSON object defines the trust relationship that allows the Bedrock service to assume a role that will give it the ability to talk to other required AWS services. The conditions restrict the assumption of the role to a specific account ID and a specific component of the Bedrock service (model_customization_jobs)"
  },
  {
   "cell_type": "code",
   "id": "fc3a4cc0-5760-45a6-afcc-9dbfea34c0c4",
   "metadata": {
    "tags": [],
    "ExecuteTime": {
     "end_time": "2024-04-25T14:54:49.285728Z",
     "start_time": "2024-04-25T14:54:49.282170Z"
    }
   },
   "source": [
    "ROLE_DOC = f\"\"\"{{\n",
    "    \"Version\": \"2012-10-17\",\n",
    "    \"Statement\": [\n",
    "        {{\n",
    "            \"Effect\": \"Allow\",\n",
    "            \"Principal\": {{\n",
    "                \"Service\": \"bedrock.amazonaws.com\"\n",
    "            }},\n",
    "            \"Action\": \"sts:AssumeRole\",\n",
    "            \"Condition\": {{\n",
    "                \"StringEquals\": {{\n",
    "                    \"aws:SourceAccount\": \"{account_id}\"\n",
    "                }},\n",
    "                \"ArnEquals\": {{\n",
    "                    \"aws:SourceArn\": \"arn:aws:bedrock:{region}:{account_id}:model-customization-job/*\"\n",
    "                }}\n",
    "            }}\n",
    "        }}\n",
    "    ]\n",
    "}}\n",
    "\"\"\""
   ],
   "outputs": [],
   "execution_count": 9
  },
  {
   "cell_type": "markdown",
   "id": "506c40f4-011a-4df2-b40d-9d9e7338d251",
   "metadata": {},
   "source": "This JSON object defines the permissions of the role we want Bedrock to assume to allow access to the S3 bucket that we created that will hold our fine-tuning datasets and allow certain bucket and object manipulations."
  },
  {
   "cell_type": "code",
   "id": "bca5fd36-f08f-40e0-a679-241b2fe6a522",
   "metadata": {
    "tags": [],
    "ExecuteTime": {
     "end_time": "2024-04-25T14:55:19.003177Z",
     "start_time": "2024-04-25T14:55:19.000320Z"
    }
   },
   "source": [
    "ACCESS_POLICY_DOC = f\"\"\"{{\n",
    "    \"Version\": \"2012-10-17\",\n",
    "    \"Statement\": [\n",
    "        {{\n",
    "            \"Effect\": \"Allow\",\n",
    "            \"Action\": [\n",
    "                \"s3:AbortMultipartUpload\",\n",
    "                \"s3:DeleteObject\",\n",
    "                \"s3:PutObject\",\n",
    "                \"s3:GetObject\",\n",
    "                \"s3:GetBucketAcl\",\n",
    "                \"s3:GetBucketNotification\",\n",
    "                \"s3:ListBucket\",\n",
    "                \"s3:PutBucketNotification\"\n",
    "            ],\n",
    "            \"Resource\": [\n",
    "                \"arn:aws:s3:::{bucket_name}\",\n",
    "                \"arn:aws:s3:::{bucket_name}/*\"\n",
    "            ]\n",
    "        }}\n",
    "    ]\n",
    "}}\"\"\"\n"
   ],
   "outputs": [],
   "execution_count": 10
  },
  {
   "cell_type": "code",
   "id": "97da80e2-4a4c-4442-8f65-cee348453faa",
   "metadata": {
    "tags": [],
    "ExecuteTime": {
     "end_time": "2024-04-25T14:55:22.497906Z",
     "start_time": "2024-04-25T14:55:22.185100Z"
    }
   },
   "source": [
    "response = iam.create_role(\n",
    "    RoleName=role_name,\n",
    "    AssumeRolePolicyDocument=ROLE_DOC,\n",
    "    Description=\"Role for Bedrock to access S3 for finetuning\",\n",
    ")\n",
    "pprint.pp(response)"
   ],
   "outputs": [
    {
     "name": "stdout",
     "output_type": "stream",
     "text": [
      "{'Role': {'Path': '/',\n",
      "          'RoleName': 'BedrockRole-d6fec231-3d45-46fc-bb25-afc3fb4531ce',\n",
      "          'RoleId': 'AROA36C6WWEJ256B7YTOF',\n",
      "          'Arn': 'arn:aws:iam::820537372947:role/BedrockRole-d6fec231-3d45-46fc-bb25-afc3fb4531ce',\n",
      "          'CreateDate': datetime.datetime(2024, 4, 25, 14, 55, 22, tzinfo=tzutc()),\n",
      "          'AssumeRolePolicyDocument': {'Version': '2012-10-17',\n",
      "                                       'Statement': [{'Effect': 'Allow',\n",
      "                                                      'Principal': {'Service': 'bedrock.amazonaws.com'},\n",
      "                                                      'Action': 'sts:AssumeRole',\n",
      "                                                      'Condition': {'StringEquals': {'aws:SourceAccount': '820537372947'},\n",
      "                                                                    'ArnEquals': {'aws:SourceArn': 'arn:aws:bedrock:us-west-2:820537372947:model-customization-job/*'}}}]}},\n",
      " 'ResponseMetadata': {'RequestId': '6bec75a2-d4ca-4cd0-815e-ffc9ac602949',\n",
      "                      'HTTPStatusCode': 200,\n",
      "                      'HTTPHeaders': {'date': 'Thu, 25 Apr 2024 14:55:22 GMT',\n",
      "                                      'x-amzn-requestid': '6bec75a2-d4ca-4cd0-815e-ffc9ac602949',\n",
      "                                      'content-type': 'text/xml',\n",
      "                                      'content-length': '1812'},\n",
      "                      'RetryAttempts': 0}}\n"
     ]
    }
   ],
   "execution_count": 11
  },
  {
   "cell_type": "code",
   "id": "4f421420-17a6-4a66-8530-a4109286cbbf",
   "metadata": {
    "tags": [],
    "ExecuteTime": {
     "end_time": "2024-04-25T14:55:26.101574Z",
     "start_time": "2024-04-25T14:55:26.098029Z"
    }
   },
   "source": [
    "role_arn = response[\"Role\"][\"Arn\"]\n",
    "pprint.pp(role_arn)"
   ],
   "outputs": [
    {
     "name": "stdout",
     "output_type": "stream",
     "text": [
      "'arn:aws:iam::820537372947:role/BedrockRole-d6fec231-3d45-46fc-bb25-afc3fb4531ce'\n"
     ]
    }
   ],
   "execution_count": 12
  },
  {
   "cell_type": "code",
   "id": "cef1b934-560b-450f-a23f-0981d026356a",
   "metadata": {
    "tags": [],
    "ExecuteTime": {
     "end_time": "2024-04-25T14:55:29.572705Z",
     "start_time": "2024-04-25T14:55:29.440202Z"
    }
   },
   "source": [
    "response = iam.create_policy(\n",
    "    PolicyName=s3_bedrock_finetuning_access_policy,\n",
    "    PolicyDocument=ACCESS_POLICY_DOC,\n",
    ")\n",
    "pprint.pp(response)"
   ],
   "outputs": [
    {
     "name": "stdout",
     "output_type": "stream",
     "text": [
      "{'Policy': {'PolicyName': 'BedrockPolicy-d6fec231-3d45-46fc-bb25-afc3fb4531ce',\n",
      "            'PolicyId': 'ANPA36C6WWEJWWNWC2PRP',\n",
      "            'Arn': 'arn:aws:iam::820537372947:policy/BedrockPolicy-d6fec231-3d45-46fc-bb25-afc3fb4531ce',\n",
      "            'Path': '/',\n",
      "            'DefaultVersionId': 'v1',\n",
      "            'AttachmentCount': 0,\n",
      "            'PermissionsBoundaryUsageCount': 0,\n",
      "            'IsAttachable': True,\n",
      "            'CreateDate': datetime.datetime(2024, 4, 25, 14, 55, 29, tzinfo=tzutc()),\n",
      "            'UpdateDate': datetime.datetime(2024, 4, 25, 14, 55, 29, tzinfo=tzutc())},\n",
      " 'ResponseMetadata': {'RequestId': 'ef4525d9-f8b8-43bc-91a6-3d4012b19272',\n",
      "                      'HTTPStatusCode': 200,\n",
      "                      'HTTPHeaders': {'date': 'Thu, 25 Apr 2024 14:55:28 GMT',\n",
      "                                      'x-amzn-requestid': 'ef4525d9-f8b8-43bc-91a6-3d4012b19272',\n",
      "                                      'content-type': 'text/xml',\n",
      "                                      'content-length': '835'},\n",
      "                      'RetryAttempts': 0}}\n"
     ]
    }
   ],
   "execution_count": 13
  },
  {
   "cell_type": "code",
   "id": "966182e5-ad5c-4f9c-8b49-16f8e528315c",
   "metadata": {
    "tags": [],
    "ExecuteTime": {
     "end_time": "2024-04-25T14:55:31.048999Z",
     "start_time": "2024-04-25T14:55:31.041982Z"
    }
   },
   "source": [
    "policy_arn = response[\"Policy\"][\"Arn\"]\n",
    "pprint.pp(policy_arn)"
   ],
   "outputs": [
    {
     "name": "stdout",
     "output_type": "stream",
     "text": [
      "'arn:aws:iam::820537372947:policy/BedrockPolicy-d6fec231-3d45-46fc-bb25-afc3fb4531ce'\n"
     ]
    }
   ],
   "execution_count": 14
  },
  {
   "cell_type": "code",
   "id": "d39befb8-5bfd-4fa9-9405-3a23c64fc6d1",
   "metadata": {
    "tags": [],
    "ExecuteTime": {
     "end_time": "2024-04-25T14:55:32.025329Z",
     "start_time": "2024-04-25T14:55:31.880351Z"
    }
   },
   "source": [
    "iam.attach_role_policy(\n",
    "    RoleName=role_name,\n",
    "    PolicyArn=policy_arn,\n",
    ")"
   ],
   "outputs": [
    {
     "data": {
      "text/plain": [
       "{'ResponseMetadata': {'RequestId': '2b731f92-f923-460a-aaae-9a6f2d51f52d',\n",
       "  'HTTPStatusCode': 200,\n",
       "  'HTTPHeaders': {'date': 'Thu, 25 Apr 2024 14:55:31 GMT',\n",
       "   'x-amzn-requestid': '2b731f92-f923-460a-aaae-9a6f2d51f52d',\n",
       "   'content-type': 'text/xml',\n",
       "   'content-length': '212'},\n",
       "  'RetryAttempts': 0}}"
      ]
     },
     "execution_count": 15,
     "metadata": {},
     "output_type": "execute_result"
    }
   ],
   "execution_count": 15
  },
  {
   "cell_type": "markdown",
   "id": "31a57c54-24c6-4231-83f4-cf3fe35f0d9b",
   "metadata": {},
   "source": [
    "Setup for running other notebooks on fine-tuning and continued pre-training is complete. "
   ]
  },
  {
   "cell_type": "markdown",
   "id": "ba13d823-182b-4f1f-9f0c-7772e22400d5",
   "metadata": {},
   "source": [
    "## Prepare CNN news article dataset for fine-tuning job and evaluation\n",
    "The dataset that will be used is a collection of new articles from CNN and the associated highlights from that article. More information can be found at huggingface: https://huggingface.co/datasets/cnn_dailymail"
   ]
  },
  {
   "cell_type": "code",
   "id": "d95e39b7-c9d1-4ac8-8f90-2146b8f55e32",
   "metadata": {
    "tags": [],
    "ExecuteTime": {
     "end_time": "2024-04-25T14:57:01.221791Z",
     "start_time": "2024-04-25T14:55:54.342553Z"
    }
   },
   "source": [
    "#Load cnn dataset from huggingface\n",
    "dataset = load_dataset(\"cnn_dailymail\",'3.0.0')"
   ],
   "outputs": [
    {
     "data": {
      "text/plain": [
       "Downloading readme:   0%|          | 0.00/15.6k [00:00<?, ?B/s]"
      ],
      "application/vnd.jupyter.widget-view+json": {
       "version_major": 2,
       "version_minor": 0,
       "model_id": "ffd356f515f94cb0bbd655b8def018f3"
      }
     },
     "metadata": {},
     "output_type": "display_data"
    },
    {
     "data": {
      "text/plain": [
       "Downloading data files:   0%|          | 0/3 [00:00<?, ?it/s]"
      ],
      "application/vnd.jupyter.widget-view+json": {
       "version_major": 2,
       "version_minor": 0,
       "model_id": "d23fed1d1fb54a95abd7a74ff91663ff"
      }
     },
     "metadata": {},
     "output_type": "display_data"
    },
    {
     "data": {
      "text/plain": [
       "Downloading data:   0%|          | 0.00/257M [00:00<?, ?B/s]"
      ],
      "application/vnd.jupyter.widget-view+json": {
       "version_major": 2,
       "version_minor": 0,
       "model_id": "b1d3c3b355694149ba8071a76f8481c0"
      }
     },
     "metadata": {},
     "output_type": "display_data"
    },
    {
     "data": {
      "text/plain": [
       "Downloading data:   0%|          | 0.00/257M [00:00<?, ?B/s]"
      ],
      "application/vnd.jupyter.widget-view+json": {
       "version_major": 2,
       "version_minor": 0,
       "model_id": "9d345f2be3f84239aa0d77620baf4176"
      }
     },
     "metadata": {},
     "output_type": "display_data"
    },
    {
     "data": {
      "text/plain": [
       "Downloading data:   0%|          | 0.00/259M [00:00<?, ?B/s]"
      ],
      "application/vnd.jupyter.widget-view+json": {
       "version_major": 2,
       "version_minor": 0,
       "model_id": "4c32ff88cfde4fe99f9872ade1da6672"
      }
     },
     "metadata": {},
     "output_type": "display_data"
    },
    {
     "data": {
      "text/plain": [
       "Downloading data:   0%|          | 0.00/34.7M [00:00<?, ?B/s]"
      ],
      "application/vnd.jupyter.widget-view+json": {
       "version_major": 2,
       "version_minor": 0,
       "model_id": "67147b7a3516451bab5abc4e7b392ab0"
      }
     },
     "metadata": {},
     "output_type": "display_data"
    },
    {
     "data": {
      "text/plain": [
       "Downloading data:   0%|          | 0.00/30.0M [00:00<?, ?B/s]"
      ],
      "application/vnd.jupyter.widget-view+json": {
       "version_major": 2,
       "version_minor": 0,
       "model_id": "4aea78e2591145da9037e97ffbd3ce50"
      }
     },
     "metadata": {},
     "output_type": "display_data"
    },
    {
     "data": {
      "text/plain": [
       "Extracting data files:   0%|          | 0/3 [00:00<?, ?it/s]"
      ],
      "application/vnd.jupyter.widget-view+json": {
       "version_major": 2,
       "version_minor": 0,
       "model_id": "76984c36459845c4a7de21690b977f14"
      }
     },
     "metadata": {},
     "output_type": "display_data"
    },
    {
     "data": {
      "text/plain": [
       "Generating train split:   0%|          | 0/287113 [00:00<?, ? examples/s]"
      ],
      "application/vnd.jupyter.widget-view+json": {
       "version_major": 2,
       "version_minor": 0,
       "model_id": "42b766d312254f3291983c8b8980d8f9"
      }
     },
     "metadata": {},
     "output_type": "display_data"
    },
    {
     "data": {
      "text/plain": [
       "Generating validation split:   0%|          | 0/13368 [00:00<?, ? examples/s]"
      ],
      "application/vnd.jupyter.widget-view+json": {
       "version_major": 2,
       "version_minor": 0,
       "model_id": "bae4c4e4f69f4a969061505fc1a91c95"
      }
     },
     "metadata": {},
     "output_type": "display_data"
    },
    {
     "data": {
      "text/plain": [
       "Generating test split:   0%|          | 0/11490 [00:00<?, ? examples/s]"
      ],
      "application/vnd.jupyter.widget-view+json": {
       "version_major": 2,
       "version_minor": 0,
       "model_id": "d6c0cd8f0f6d49a7b316f383ecb8b5b4"
      }
     },
     "metadata": {},
     "output_type": "display_data"
    }
   ],
   "execution_count": 16
  },
  {
   "cell_type": "markdown",
   "id": "e6a72fbc-90a1-47cb-841f-903b504f8a5e",
   "metadata": {
    "jp-MarkdownHeadingCollapsed": true,
    "jupyter": {
     "outputs_hidden": true
    }
   },
   "source": [
    "View the structure of the dataset\n"
   ]
  },
  {
   "cell_type": "code",
   "id": "155ecd97-284d-4873-bc8c-6b84f673d1c5",
   "metadata": {
    "tags": [],
    "ExecuteTime": {
     "end_time": "2024-04-25T14:57:23.255312Z",
     "start_time": "2024-04-25T14:57:23.252299Z"
    }
   },
   "source": [
    "print(dataset)"
   ],
   "outputs": [
    {
     "name": "stdout",
     "output_type": "stream",
     "text": [
      "DatasetDict({\n",
      "    train: Dataset({\n",
      "        features: ['article', 'highlights', 'id'],\n",
      "        num_rows: 287113\n",
      "    })\n",
      "    validation: Dataset({\n",
      "        features: ['article', 'highlights', 'id'],\n",
      "        num_rows: 13368\n",
      "    })\n",
      "    test: Dataset({\n",
      "        features: ['article', 'highlights', 'id'],\n",
      "        num_rows: 11490\n",
      "    })\n",
      "})\n"
     ]
    }
   ],
   "execution_count": 17
  },
  {
   "cell_type": "markdown",
   "id": "8702dfaa-0cdd-4cee-b659-d6f4068e52ac",
   "metadata": {},
   "source": [
    "Prepare the Fine-tuning Dataset\n",
    "In this example, we are using a .jsonl dataset following example format:\n",
    "\n",
    "{\"prompt\": \"<prompt text>\", \"completion\": \"<expected generated text>\"}\n",
    "\n",
    "\n",
    "The following is an example item for a question-answer task:{\"prompt\": \"prompt is AWS\", \"completion\": \"it's Amazon Web Services\"}\n",
    "\n",
    "See more guidance on how to [prepare your Bedrock fine-tuning dataset](https://docs.aws.amazon.com/bedrock/latest/userguide/model-customization-prereq.html)."
   ]
  },
  {
   "cell_type": "markdown",
   "id": "1f804b42-8335-4b44-96b5-96280f52c130",
   "metadata": {},
   "source": "A common prompt structure for instruction fine-tuning includes a system prompt, an instruction, and an input which provides additional context. Here we define the prompt header that will be added before each article and together will be the 'prompt' component of each datapoint."
  },
  {
   "cell_type": "code",
   "id": "30fe8a52-885e-47a4-bbeb-14de0a3ef7ea",
   "metadata": {
    "tags": [],
    "ExecuteTime": {
     "end_time": "2024-04-25T14:59:14.255981Z",
     "start_time": "2024-04-25T14:59:14.252751Z"
    }
   },
   "source": [
    "instruction='''Below is an instruction that describes a task, paired with an input that provides further context. Write a response that appropriately completes the request.\n",
    "\n",
    "instruction:\n",
    "\n",
    "Summarize the news article provided below.\n",
    "\n",
    "input:\n",
    "\n",
    "'''"
   ],
   "outputs": [],
   "execution_count": 18
  },
  {
   "cell_type": "markdown",
   "id": "beda35a0-c744-4818-bb18-89289d7cb3fd",
   "metadata": {},
   "source": [
    "For the 'completion' component we will attach the word \"response\" and new lines together with the summary/highlights of the article. The transformation of each datapoint is performed with the code below"
   ]
  },
  {
   "cell_type": "code",
   "id": "8830553b-104a-42e6-960d-6a48a01bcf01",
   "metadata": {
    "tags": [],
    "ExecuteTime": {
     "end_time": "2024-04-25T15:00:25.338471Z",
     "start_time": "2024-04-25T15:00:00.963943Z"
    }
   },
   "source": [
    "datapoints_train=[]\n",
    "for dp in dataset['train']:\n",
    "    temp_dict={}\n",
    "    temp_dict['prompt']=instruction+dp['article']\n",
    "    temp_dict['completion']='response:\\n\\n'+dp['highlights']\n",
    "    datapoints_train.append(temp_dict)\n",
    "    "
   ],
   "outputs": [],
   "execution_count": 19
  },
  {
   "cell_type": "markdown",
   "id": "c3870486-74c9-4f4b-8d73-46e932367485",
   "metadata": {},
   "source": [
    "An example of a processed datapoint can be printed below"
   ]
  },
  {
   "cell_type": "code",
   "id": "dd5521b9-7364-4bde-97cc-9f7157b18211",
   "metadata": {
    "scrolled": true,
    "tags": [],
    "ExecuteTime": {
     "end_time": "2024-04-25T15:00:51.317848Z",
     "start_time": "2024-04-25T15:00:51.312881Z"
    }
   },
   "source": [
    "print(datapoints_train[4]['prompt'])"
   ],
   "outputs": [
    {
     "name": "stdout",
     "output_type": "stream",
     "text": [
      "Below is an instruction that describes a task, paired with an input that provides further context. Write a response that appropriately completes the request.\n",
      "\n",
      "instruction:\n",
      "\n",
      "Summarize the news article provided below.\n",
      "\n",
      "input:\n",
      "\n",
      "(CNN)  -- The National Football League has indefinitely suspended Atlanta Falcons quarterback Michael Vick without pay, officials with the league said Friday. NFL star Michael Vick is set to appear in court Monday. A judge will have the final say on a plea deal. Earlier, Vick admitted to participating in a dogfighting ring as part of a plea agreement with federal prosecutors in Virginia. \"Your admitted conduct was not only illegal, but also cruel and reprehensible. Your team, the NFL, and NFL fans have all been hurt by your actions,\" NFL Commissioner Roger Goodell said in a letter to Vick. Goodell said he would review the status of the suspension after the legal proceedings are over. In papers filed Friday with a federal court in Virginia, Vick also admitted that he and two co-conspirators killed dogs that did not fight well. Falcons owner Arthur Blank said Vick's admissions describe actions that are \"incomprehensible and unacceptable.\" The suspension makes \"a strong statement that conduct which tarnishes the good reputation of the NFL will not be tolerated,\" he said in a statement.  Watch what led to Vick's suspension » . Goodell said the Falcons could \"assert any claims or remedies\" to recover $22 million of Vick's signing bonus from the 10-year, $130 million contract he signed in 2004, according to The Associated Press. Vick said he would plead guilty to one count of \"Conspiracy to Travel in Interstate Commerce in Aid of Unlawful Activities and to Sponsor a Dog in an Animal Fighting Venture\" in a plea agreement filed at U.S. District Court in Richmond, Virginia. The charge is punishable by up to five years in prison, a $250,000 fine, \"full restitution, a special assessment and 3 years of supervised release,\" the plea deal said. Federal prosecutors agreed to ask for the low end of the sentencing guidelines. \"The defendant will plead guilty because the defendant is in fact guilty of the charged offense,\" the plea agreement said. In an additional summary of facts, signed by Vick and filed with the agreement, Vick admitted buying pit bulls and the property used for training and fighting the dogs, but the statement said he did not bet on the fights or receive any of the money won. \"Most of the 'Bad Newz Kennels' operations and gambling monies were provided by Vick,\" the official summary of facts said. Gambling wins were generally split among co-conspirators Tony Taylor, Quanis Phillips and sometimes Purnell Peace, it continued. \"Vick did not gamble by placing side bets on any of the fights. Vick did not receive any of the proceeds from the purses that were won by 'Bad Newz Kennels.' \" Vick also agreed that \"collective efforts\" by him and two others caused the deaths of at least six dogs. Around April, Vick, Peace and Phillips tested some dogs in fighting sessions at Vick's property in Virginia, the statement said. \"Peace, Phillips and Vick agreed to the killing of approximately 6-8 dogs that did not perform well in 'testing' sessions at 1915 Moonlight Road and all of those dogs were killed by various methods, including hanging and drowning. \"Vick agrees and stipulates that these dogs all died as a result of the collective efforts of Peace, Phillips and Vick,\" the summary said. Peace, 35, of Virginia Beach, Virginia; Phillips, 28, of Atlanta, Georgia; and Taylor, 34, of Hampton, Virginia, already have accepted agreements to plead guilty in exchange for reduced sentences. Vick, 27, is scheduled to appear Monday in court, where he is expected to plead guilty before a judge.  See a timeline of the case against Vick » . The judge in the case will have the final say over the plea agreement. The federal case against Vick focused on the interstate conspiracy, but Vick's admission that he was involved in the killing of dogs could lead to local charges, according to CNN legal analyst Jeffrey Toobin. \"It sometimes happens -- not often -- that the state will follow a federal prosecution by charging its own crimes for exactly the same behavior,\" Toobin said Friday. \"The risk for Vick is, if he makes admissions in his federal guilty plea, the state of Virginia could say, 'Hey, look, you admitted violating Virginia state law as well. We're going to introduce that against you and charge you in our court.' \" In the plea deal, Vick agreed to cooperate with investigators and provide all information he may have on any criminal activity and to testify if necessary. Vick also agreed to turn over any documents he has and to submit to polygraph tests. Vick agreed to \"make restitution for the full amount of the costs associated\" with the dogs that are being held by the government. \"Such costs may include, but are not limited to, all costs associated with the care of the dogs involved in that case, including if necessary, the long-term care and/or the humane euthanasia of some or all of those animals.\" Prosecutors, with the support of animal rights activists, have asked for permission to euthanize the dogs. But the dogs could serve as important evidence in the cases against Vick and his admitted co-conspirators. Judge Henry E. Hudson issued an order Thursday telling the U.S. Marshals Service to \"arrest and seize the defendant property, and use discretion and whatever means appropriate to protect and maintain said defendant property.\" Both the judge's order and Vick's filing refer to \"approximately\" 53 pit bull dogs. After Vick's indictment last month, Goodell ordered the quarterback not to report to the Falcons training camp, and the league is reviewing the case. Blank told the NFL Network on Monday he could not speculate on Vick's future as a Falcon, at least not until he had seen \"a statement of facts\" in the case.  E-mail to a friend . CNN's Mike Phelan contributed to this report.\n"
     ]
    }
   ],
   "execution_count": 20
  },
  {
   "cell_type": "markdown",
   "id": "e2764d06-fd82-462c-a014-f5c502b9790b",
   "metadata": {},
   "source": [
    "The same processing is done for the validation and test sets as well."
   ]
  },
  {
   "cell_type": "code",
   "id": "167b489b-b493-4945-9bb8-915bd659cb6a",
   "metadata": {
    "tags": [],
    "ExecuteTime": {
     "end_time": "2024-04-25T15:01:19.604049Z",
     "start_time": "2024-04-25T15:01:18.480162Z"
    }
   },
   "source": [
    "datapoints_valid=[]\n",
    "for dp in dataset['validation']:\n",
    "    temp_dict={}\n",
    "    temp_dict['prompt']=instruction+dp['article']\n",
    "    temp_dict['completion']='response:\\n\\n'+dp['highlights']\n",
    "    datapoints_valid.append(temp_dict)"
   ],
   "outputs": [],
   "execution_count": 21
  },
  {
   "cell_type": "code",
   "id": "4e4c3627-c73b-4b01-b4be-e2d0daf90038",
   "metadata": {
    "tags": [],
    "ExecuteTime": {
     "end_time": "2024-04-25T15:01:21.954355Z",
     "start_time": "2024-04-25T15:01:20.733784Z"
    }
   },
   "source": [
    "datapoints_test=[]\n",
    "for dp in dataset['test']:\n",
    "    temp_dict={}\n",
    "    temp_dict['prompt']=instruction+dp['article']\n",
    "    temp_dict['completion']='response:\\n\\n'+dp['highlights']\n",
    "    datapoints_test.append(temp_dict)"
   ],
   "outputs": [],
   "execution_count": 22
  },
  {
   "cell_type": "markdown",
   "id": "0626306e-5e07-496b-8c98-1321be24c34b",
   "metadata": {},
   "source": [
    " Here we define some helper functions to process our datapoints further by modifying the number of datapoints we want to include in each set and the max string length of the datapoints we want to include. The final function will convert our datasets into JSONL files."
   ]
  },
  {
   "cell_type": "code",
   "id": "84272522-11ce-4b39-9a6b-d58072a6525a",
   "metadata": {
    "tags": [],
    "ExecuteTime": {
     "end_time": "2024-04-25T15:01:46.960234Z",
     "start_time": "2024-04-25T15:01:46.954703Z"
    }
   },
   "source": [
    "def dp_transform(data_points,num_dps,max_dp_length):\n",
    "    lines=[]\n",
    "    for dp in data_points:\n",
    "        if len(dp['prompt']+dp['completion'])<=max_dp_length:\n",
    "                lines.append(dp)\n",
    "    random.shuffle(lines)\n",
    "    lines=lines[:num_dps]\n",
    "    return lines\n",
    "    "
   ],
   "outputs": [],
   "execution_count": 23
  },
  {
   "cell_type": "code",
   "id": "1474f15e-1f54-4068-8fc5-9399de20c59b",
   "metadata": {
    "tags": [],
    "ExecuteTime": {
     "end_time": "2024-04-25T15:01:50.460806Z",
     "start_time": "2024-04-25T15:01:50.456635Z"
    }
   },
   "source": [
    "def jsonl_converter(dataset,file_name):\n",
    "    print(file_name)\n",
    "    with jsonlines.open(file_name, 'w') as writer:\n",
    "        for line in dataset:\n",
    "            writer.write(line)"
   ],
   "outputs": [],
   "execution_count": 24
  },
  {
   "cell_type": "markdown",
   "id": "204c7a01-5b9d-457e-982a-f8d07c6dbbc3",
   "metadata": {},
   "source": [
    "Process data partitions. Every LLM may have different input token limits and what string of characters represents a token is defined by a particular model's vocabulary. For simplicity, we have restricted each datapoint to be <=3,000 characters."
   ]
  },
  {
   "cell_type": "code",
   "id": "e41088cb-0a0b-4747-9bb2-06371c263318",
   "metadata": {
    "tags": [],
    "ExecuteTime": {
     "end_time": "2024-04-25T15:02:08.994818Z",
     "start_time": "2024-04-25T15:02:05.407319Z"
    }
   },
   "source": [
    "train=dp_transform(datapoints_train,5000,3000)\n",
    "validation=dp_transform(datapoints_valid,999,3000)\n",
    "test=dp_transform(datapoints_test,10,3000)"
   ],
   "outputs": [],
   "execution_count": 25
  },
  {
   "cell_type": "markdown",
   "id": "3d917916-18e6-405a-a268-2484daf709d4",
   "metadata": {},
   "source": [
    "### Create local directory for datasets\n",
    "Please note that your training dataset for fine-tuning cannot be greater than 10K records, and validation dataset has a maximum limit of 1K records."
   ]
  },
  {
   "cell_type": "code",
   "id": "efbd16af-052a-4b6c-b2bc-b1f29f15aa7b",
   "metadata": {
    "tags": [],
    "ExecuteTime": {
     "end_time": "2024-04-25T15:08:39.681913Z",
     "start_time": "2024-04-25T15:08:39.206283Z"
    }
   },
   "source": [
    "dataset_folder=\"fine-tuning-datasets\"\n",
    "train_file_name=\"train-cnn-5K.jsonl\"\n",
    "validation_file_name=\"validation-cnn-1K.jsonl\"\n",
    "test_file_name=\"test-cnn-10.jsonl\"\n",
    "!mkdir fine-tuning-datasets\n",
    "abs_path=os.path.abspath(dataset_folder)"
   ],
   "outputs": [],
   "execution_count": 26
  },
  {
   "cell_type": "markdown",
   "id": "e7fe005c-985c-48b8-91c5-ae185ebb7bc7",
   "metadata": {},
   "source": [
    "Create JSONL format datasets for Bedrock fine-tuning job"
   ]
  },
  {
   "cell_type": "code",
   "id": "8eb98bd4-dbbb-4d8d-b1ae-9d145ec17b2d",
   "metadata": {
    "tags": [],
    "ExecuteTime": {
     "end_time": "2024-04-25T15:08:58.806038Z",
     "start_time": "2024-04-25T15:08:58.333533Z"
    }
   },
   "source": [
    "jsonl_converter(train,f'{abs_path}/{train_file_name}')\n",
    "jsonl_converter(validation,f'{abs_path}/{validation_file_name}')\n",
    "jsonl_converter(test,f'{abs_path}/{test_file_name}')"
   ],
   "outputs": [
    {
     "name": "stdout",
     "output_type": "stream",
     "text": [
      "/Users/jicowan/PycharmProjects/amazon-bedrock-workshop/03_Model_customization/fine-tuning-datasets/train-cnn-5K.jsonl\n",
      "/Users/jicowan/PycharmProjects/amazon-bedrock-workshop/03_Model_customization/fine-tuning-datasets/validation-cnn-1K.jsonl\n",
      "/Users/jicowan/PycharmProjects/amazon-bedrock-workshop/03_Model_customization/fine-tuning-datasets/test-cnn-10.jsonl\n"
     ]
    }
   ],
   "execution_count": 27
  },
  {
   "cell_type": "markdown",
   "id": "1d2f5a94-dff3-46be-8244-f7ede1d86eeb",
   "metadata": {},
   "source": [
    "### Upload datasets to s3 bucket\n",
    "Uploading both training and test dataset. \n",
    "We will use the training and validation datasets for fine-tuning the model. The test dataset will be used for evaluating the performance of the model on an unseen input."
   ]
  },
  {
   "cell_type": "code",
   "id": "d3cd7a7c-c70b-4c82-834e-a4e3d5a1e8e3",
   "metadata": {
    "tags": [],
    "ExecuteTime": {
     "end_time": "2024-04-25T15:10:11.084498Z",
     "start_time": "2024-04-25T15:09:59.857906Z"
    }
   },
   "source": [
    "s3_client.upload_file(f'{abs_path}/{train_file_name}', bucket_name, f'fine-tuning-datasets/train/{train_file_name}')\n",
    "s3_client.upload_file(f'{abs_path}/{validation_file_name}', bucket_name, f'fine-tuning-datasets/validation/{validation_file_name}')\n",
    "s3_client.upload_file(f'{abs_path}/{test_file_name}', bucket_name, f'fine-tuning-datasets/test/{test_file_name}')"
   ],
   "outputs": [],
   "execution_count": 28
  },
  {
   "cell_type": "code",
   "id": "132fe247-b952-4ee8-82a9-24fa4a68bf75",
   "metadata": {
    "tags": [],
    "ExecuteTime": {
     "end_time": "2024-04-25T15:10:21.337245Z",
     "start_time": "2024-04-25T15:10:21.332666Z"
    }
   },
   "source": [
    "s3_train_uri=f's3://{bucket_name}/fine-tuning-datasets/train/{train_file_name}'\n",
    "s3_validation_uri=f's3://{bucket_name}/fine-tuning-datasets/validation/{validation_file_name}'\n",
    "s3_test_uri=f's3://{bucket_name}/fine-tuning-datasets/test/{test_file_name}'"
   ],
   "outputs": [],
   "execution_count": 29
  },
  {
   "cell_type": "markdown",
   "id": "bbde75b8-84ab-4884-a7fc-c4feef786643",
   "metadata": {},
   "source": [
    "## Storing variables to be used in other notebooks. \n",
    "\n",
    "> Please make sure to use the same kernel as used for 00_setup.ipynb for other notebooks on fine-tuning and continued pre-training. "
   ]
  },
  {
   "cell_type": "code",
   "id": "417c8faa-0995-410a-85ac-e3478e230d45",
   "metadata": {
    "tags": [],
    "ExecuteTime": {
     "end_time": "2024-04-25T15:10:28.135501Z",
     "start_time": "2024-04-25T15:10:28.118315Z"
    }
   },
   "source": [
    "%store role_arn\n",
    "%store bucket_name\n",
    "%store role_name\n",
    "%store policy_arn\n",
    "%store s3_train_uri\n",
    "%store s3_validation_uri\n",
    "%store s3_test_uri"
   ],
   "outputs": [
    {
     "name": "stdout",
     "output_type": "stream",
     "text": [
      "Stored 'role_arn' (str)\n",
      "Stored 'bucket_name' (str)\n",
      "Stored 'role_name' (str)\n",
      "Stored 'policy_arn' (str)\n",
      "Stored 's3_train_uri' (str)\n",
      "Stored 's3_validation_uri' (str)\n",
      "Stored 's3_test_uri' (str)\n"
     ]
    }
   ],
   "execution_count": 30
  },
  {
   "cell_type": "markdown",
   "id": "fc6967ed-8fcc-4c9c-b53d-dbbb5d084899",
   "metadata": {},
   "source": [
    "### We are now ready to create a fine-tuning job with Bedrock!"
   ]
  },
  {
   "cell_type": "code",
   "execution_count": null,
   "id": "3795fdff-7ad4-4778-85c5-020a89bd117a",
   "metadata": {},
   "outputs": [],
   "source": []
  }
 ],
 "metadata": {
  "availableInstances": [
   {
    "_defaultOrder": 0,
    "_isFastLaunch": true,
    "category": "General purpose",
    "gpuNum": 0,
    "hideHardwareSpecs": false,
    "memoryGiB": 4,
    "name": "ml.t3.medium",
    "vcpuNum": 2
   },
   {
    "_defaultOrder": 1,
    "_isFastLaunch": false,
    "category": "General purpose",
    "gpuNum": 0,
    "hideHardwareSpecs": false,
    "memoryGiB": 8,
    "name": "ml.t3.large",
    "vcpuNum": 2
   },
   {
    "_defaultOrder": 2,
    "_isFastLaunch": false,
    "category": "General purpose",
    "gpuNum": 0,
    "hideHardwareSpecs": false,
    "memoryGiB": 16,
    "name": "ml.t3.xlarge",
    "vcpuNum": 4
   },
   {
    "_defaultOrder": 3,
    "_isFastLaunch": false,
    "category": "General purpose",
    "gpuNum": 0,
    "hideHardwareSpecs": false,
    "memoryGiB": 32,
    "name": "ml.t3.2xlarge",
    "vcpuNum": 8
   },
   {
    "_defaultOrder": 4,
    "_isFastLaunch": true,
    "category": "General purpose",
    "gpuNum": 0,
    "hideHardwareSpecs": false,
    "memoryGiB": 8,
    "name": "ml.m5.large",
    "vcpuNum": 2
   },
   {
    "_defaultOrder": 5,
    "_isFastLaunch": false,
    "category": "General purpose",
    "gpuNum": 0,
    "hideHardwareSpecs": false,
    "memoryGiB": 16,
    "name": "ml.m5.xlarge",
    "vcpuNum": 4
   },
   {
    "_defaultOrder": 6,
    "_isFastLaunch": false,
    "category": "General purpose",
    "gpuNum": 0,
    "hideHardwareSpecs": false,
    "memoryGiB": 32,
    "name": "ml.m5.2xlarge",
    "vcpuNum": 8
   },
   {
    "_defaultOrder": 7,
    "_isFastLaunch": false,
    "category": "General purpose",
    "gpuNum": 0,
    "hideHardwareSpecs": false,
    "memoryGiB": 64,
    "name": "ml.m5.4xlarge",
    "vcpuNum": 16
   },
   {
    "_defaultOrder": 8,
    "_isFastLaunch": false,
    "category": "General purpose",
    "gpuNum": 0,
    "hideHardwareSpecs": false,
    "memoryGiB": 128,
    "name": "ml.m5.8xlarge",
    "vcpuNum": 32
   },
   {
    "_defaultOrder": 9,
    "_isFastLaunch": false,
    "category": "General purpose",
    "gpuNum": 0,
    "hideHardwareSpecs": false,
    "memoryGiB": 192,
    "name": "ml.m5.12xlarge",
    "vcpuNum": 48
   },
   {
    "_defaultOrder": 10,
    "_isFastLaunch": false,
    "category": "General purpose",
    "gpuNum": 0,
    "hideHardwareSpecs": false,
    "memoryGiB": 256,
    "name": "ml.m5.16xlarge",
    "vcpuNum": 64
   },
   {
    "_defaultOrder": 11,
    "_isFastLaunch": false,
    "category": "General purpose",
    "gpuNum": 0,
    "hideHardwareSpecs": false,
    "memoryGiB": 384,
    "name": "ml.m5.24xlarge",
    "vcpuNum": 96
   },
   {
    "_defaultOrder": 12,
    "_isFastLaunch": false,
    "category": "General purpose",
    "gpuNum": 0,
    "hideHardwareSpecs": false,
    "memoryGiB": 8,
    "name": "ml.m5d.large",
    "vcpuNum": 2
   },
   {
    "_defaultOrder": 13,
    "_isFastLaunch": false,
    "category": "General purpose",
    "gpuNum": 0,
    "hideHardwareSpecs": false,
    "memoryGiB": 16,
    "name": "ml.m5d.xlarge",
    "vcpuNum": 4
   },
   {
    "_defaultOrder": 14,
    "_isFastLaunch": false,
    "category": "General purpose",
    "gpuNum": 0,
    "hideHardwareSpecs": false,
    "memoryGiB": 32,
    "name": "ml.m5d.2xlarge",
    "vcpuNum": 8
   },
   {
    "_defaultOrder": 15,
    "_isFastLaunch": false,
    "category": "General purpose",
    "gpuNum": 0,
    "hideHardwareSpecs": false,
    "memoryGiB": 64,
    "name": "ml.m5d.4xlarge",
    "vcpuNum": 16
   },
   {
    "_defaultOrder": 16,
    "_isFastLaunch": false,
    "category": "General purpose",
    "gpuNum": 0,
    "hideHardwareSpecs": false,
    "memoryGiB": 128,
    "name": "ml.m5d.8xlarge",
    "vcpuNum": 32
   },
   {
    "_defaultOrder": 17,
    "_isFastLaunch": false,
    "category": "General purpose",
    "gpuNum": 0,
    "hideHardwareSpecs": false,
    "memoryGiB": 192,
    "name": "ml.m5d.12xlarge",
    "vcpuNum": 48
   },
   {
    "_defaultOrder": 18,
    "_isFastLaunch": false,
    "category": "General purpose",
    "gpuNum": 0,
    "hideHardwareSpecs": false,
    "memoryGiB": 256,
    "name": "ml.m5d.16xlarge",
    "vcpuNum": 64
   },
   {
    "_defaultOrder": 19,
    "_isFastLaunch": false,
    "category": "General purpose",
    "gpuNum": 0,
    "hideHardwareSpecs": false,
    "memoryGiB": 384,
    "name": "ml.m5d.24xlarge",
    "vcpuNum": 96
   },
   {
    "_defaultOrder": 20,
    "_isFastLaunch": false,
    "category": "General purpose",
    "gpuNum": 0,
    "hideHardwareSpecs": true,
    "memoryGiB": 0,
    "name": "ml.geospatial.interactive",
    "supportedImageNames": [
     "sagemaker-geospatial-v1-0"
    ],
    "vcpuNum": 0
   },
   {
    "_defaultOrder": 21,
    "_isFastLaunch": true,
    "category": "Compute optimized",
    "gpuNum": 0,
    "hideHardwareSpecs": false,
    "memoryGiB": 4,
    "name": "ml.c5.large",
    "vcpuNum": 2
   },
   {
    "_defaultOrder": 22,
    "_isFastLaunch": false,
    "category": "Compute optimized",
    "gpuNum": 0,
    "hideHardwareSpecs": false,
    "memoryGiB": 8,
    "name": "ml.c5.xlarge",
    "vcpuNum": 4
   },
   {
    "_defaultOrder": 23,
    "_isFastLaunch": false,
    "category": "Compute optimized",
    "gpuNum": 0,
    "hideHardwareSpecs": false,
    "memoryGiB": 16,
    "name": "ml.c5.2xlarge",
    "vcpuNum": 8
   },
   {
    "_defaultOrder": 24,
    "_isFastLaunch": false,
    "category": "Compute optimized",
    "gpuNum": 0,
    "hideHardwareSpecs": false,
    "memoryGiB": 32,
    "name": "ml.c5.4xlarge",
    "vcpuNum": 16
   },
   {
    "_defaultOrder": 25,
    "_isFastLaunch": false,
    "category": "Compute optimized",
    "gpuNum": 0,
    "hideHardwareSpecs": false,
    "memoryGiB": 72,
    "name": "ml.c5.9xlarge",
    "vcpuNum": 36
   },
   {
    "_defaultOrder": 26,
    "_isFastLaunch": false,
    "category": "Compute optimized",
    "gpuNum": 0,
    "hideHardwareSpecs": false,
    "memoryGiB": 96,
    "name": "ml.c5.12xlarge",
    "vcpuNum": 48
   },
   {
    "_defaultOrder": 27,
    "_isFastLaunch": false,
    "category": "Compute optimized",
    "gpuNum": 0,
    "hideHardwareSpecs": false,
    "memoryGiB": 144,
    "name": "ml.c5.18xlarge",
    "vcpuNum": 72
   },
   {
    "_defaultOrder": 28,
    "_isFastLaunch": false,
    "category": "Compute optimized",
    "gpuNum": 0,
    "hideHardwareSpecs": false,
    "memoryGiB": 192,
    "name": "ml.c5.24xlarge",
    "vcpuNum": 96
   },
   {
    "_defaultOrder": 29,
    "_isFastLaunch": true,
    "category": "Accelerated computing",
    "gpuNum": 1,
    "hideHardwareSpecs": false,
    "memoryGiB": 16,
    "name": "ml.g4dn.xlarge",
    "vcpuNum": 4
   },
   {
    "_defaultOrder": 30,
    "_isFastLaunch": false,
    "category": "Accelerated computing",
    "gpuNum": 1,
    "hideHardwareSpecs": false,
    "memoryGiB": 32,
    "name": "ml.g4dn.2xlarge",
    "vcpuNum": 8
   },
   {
    "_defaultOrder": 31,
    "_isFastLaunch": false,
    "category": "Accelerated computing",
    "gpuNum": 1,
    "hideHardwareSpecs": false,
    "memoryGiB": 64,
    "name": "ml.g4dn.4xlarge",
    "vcpuNum": 16
   },
   {
    "_defaultOrder": 32,
    "_isFastLaunch": false,
    "category": "Accelerated computing",
    "gpuNum": 1,
    "hideHardwareSpecs": false,
    "memoryGiB": 128,
    "name": "ml.g4dn.8xlarge",
    "vcpuNum": 32
   },
   {
    "_defaultOrder": 33,
    "_isFastLaunch": false,
    "category": "Accelerated computing",
    "gpuNum": 4,
    "hideHardwareSpecs": false,
    "memoryGiB": 192,
    "name": "ml.g4dn.12xlarge",
    "vcpuNum": 48
   },
   {
    "_defaultOrder": 34,
    "_isFastLaunch": false,
    "category": "Accelerated computing",
    "gpuNum": 1,
    "hideHardwareSpecs": false,
    "memoryGiB": 256,
    "name": "ml.g4dn.16xlarge",
    "vcpuNum": 64
   },
   {
    "_defaultOrder": 35,
    "_isFastLaunch": false,
    "category": "Accelerated computing",
    "gpuNum": 1,
    "hideHardwareSpecs": false,
    "memoryGiB": 61,
    "name": "ml.p3.2xlarge",
    "vcpuNum": 8
   },
   {
    "_defaultOrder": 36,
    "_isFastLaunch": false,
    "category": "Accelerated computing",
    "gpuNum": 4,
    "hideHardwareSpecs": false,
    "memoryGiB": 244,
    "name": "ml.p3.8xlarge",
    "vcpuNum": 32
   },
   {
    "_defaultOrder": 37,
    "_isFastLaunch": false,
    "category": "Accelerated computing",
    "gpuNum": 8,
    "hideHardwareSpecs": false,
    "memoryGiB": 488,
    "name": "ml.p3.16xlarge",
    "vcpuNum": 64
   },
   {
    "_defaultOrder": 38,
    "_isFastLaunch": false,
    "category": "Accelerated computing",
    "gpuNum": 8,
    "hideHardwareSpecs": false,
    "memoryGiB": 768,
    "name": "ml.p3dn.24xlarge",
    "vcpuNum": 96
   },
   {
    "_defaultOrder": 39,
    "_isFastLaunch": false,
    "category": "Memory Optimized",
    "gpuNum": 0,
    "hideHardwareSpecs": false,
    "memoryGiB": 16,
    "name": "ml.r5.large",
    "vcpuNum": 2
   },
   {
    "_defaultOrder": 40,
    "_isFastLaunch": false,
    "category": "Memory Optimized",
    "gpuNum": 0,
    "hideHardwareSpecs": false,
    "memoryGiB": 32,
    "name": "ml.r5.xlarge",
    "vcpuNum": 4
   },
   {
    "_defaultOrder": 41,
    "_isFastLaunch": false,
    "category": "Memory Optimized",
    "gpuNum": 0,
    "hideHardwareSpecs": false,
    "memoryGiB": 64,
    "name": "ml.r5.2xlarge",
    "vcpuNum": 8
   },
   {
    "_defaultOrder": 42,
    "_isFastLaunch": false,
    "category": "Memory Optimized",
    "gpuNum": 0,
    "hideHardwareSpecs": false,
    "memoryGiB": 128,
    "name": "ml.r5.4xlarge",
    "vcpuNum": 16
   },
   {
    "_defaultOrder": 43,
    "_isFastLaunch": false,
    "category": "Memory Optimized",
    "gpuNum": 0,
    "hideHardwareSpecs": false,
    "memoryGiB": 256,
    "name": "ml.r5.8xlarge",
    "vcpuNum": 32
   },
   {
    "_defaultOrder": 44,
    "_isFastLaunch": false,
    "category": "Memory Optimized",
    "gpuNum": 0,
    "hideHardwareSpecs": false,
    "memoryGiB": 384,
    "name": "ml.r5.12xlarge",
    "vcpuNum": 48
   },
   {
    "_defaultOrder": 45,
    "_isFastLaunch": false,
    "category": "Memory Optimized",
    "gpuNum": 0,
    "hideHardwareSpecs": false,
    "memoryGiB": 512,
    "name": "ml.r5.16xlarge",
    "vcpuNum": 64
   },
   {
    "_defaultOrder": 46,
    "_isFastLaunch": false,
    "category": "Memory Optimized",
    "gpuNum": 0,
    "hideHardwareSpecs": false,
    "memoryGiB": 768,
    "name": "ml.r5.24xlarge",
    "vcpuNum": 96
   },
   {
    "_defaultOrder": 47,
    "_isFastLaunch": false,
    "category": "Accelerated computing",
    "gpuNum": 1,
    "hideHardwareSpecs": false,
    "memoryGiB": 16,
    "name": "ml.g5.xlarge",
    "vcpuNum": 4
   },
   {
    "_defaultOrder": 48,
    "_isFastLaunch": false,
    "category": "Accelerated computing",
    "gpuNum": 1,
    "hideHardwareSpecs": false,
    "memoryGiB": 32,
    "name": "ml.g5.2xlarge",
    "vcpuNum": 8
   },
   {
    "_defaultOrder": 49,
    "_isFastLaunch": false,
    "category": "Accelerated computing",
    "gpuNum": 1,
    "hideHardwareSpecs": false,
    "memoryGiB": 64,
    "name": "ml.g5.4xlarge",
    "vcpuNum": 16
   },
   {
    "_defaultOrder": 50,
    "_isFastLaunch": false,
    "category": "Accelerated computing",
    "gpuNum": 1,
    "hideHardwareSpecs": false,
    "memoryGiB": 128,
    "name": "ml.g5.8xlarge",
    "vcpuNum": 32
   },
   {
    "_defaultOrder": 51,
    "_isFastLaunch": false,
    "category": "Accelerated computing",
    "gpuNum": 1,
    "hideHardwareSpecs": false,
    "memoryGiB": 256,
    "name": "ml.g5.16xlarge",
    "vcpuNum": 64
   },
   {
    "_defaultOrder": 52,
    "_isFastLaunch": false,
    "category": "Accelerated computing",
    "gpuNum": 4,
    "hideHardwareSpecs": false,
    "memoryGiB": 192,
    "name": "ml.g5.12xlarge",
    "vcpuNum": 48
   },
   {
    "_defaultOrder": 53,
    "_isFastLaunch": false,
    "category": "Accelerated computing",
    "gpuNum": 4,
    "hideHardwareSpecs": false,
    "memoryGiB": 384,
    "name": "ml.g5.24xlarge",
    "vcpuNum": 96
   },
   {
    "_defaultOrder": 54,
    "_isFastLaunch": false,
    "category": "Accelerated computing",
    "gpuNum": 8,
    "hideHardwareSpecs": false,
    "memoryGiB": 768,
    "name": "ml.g5.48xlarge",
    "vcpuNum": 192
   },
   {
    "_defaultOrder": 55,
    "_isFastLaunch": false,
    "category": "Accelerated computing",
    "gpuNum": 8,
    "hideHardwareSpecs": false,
    "memoryGiB": 1152,
    "name": "ml.p4d.24xlarge",
    "vcpuNum": 96
   },
   {
    "_defaultOrder": 56,
    "_isFastLaunch": false,
    "category": "Accelerated computing",
    "gpuNum": 8,
    "hideHardwareSpecs": false,
    "memoryGiB": 1152,
    "name": "ml.p4de.24xlarge",
    "vcpuNum": 96
   },
   {
    "_defaultOrder": 57,
    "_isFastLaunch": false,
    "category": "Accelerated computing",
    "gpuNum": 0,
    "hideHardwareSpecs": false,
    "memoryGiB": 32,
    "name": "ml.trn1.2xlarge",
    "vcpuNum": 8
   },
   {
    "_defaultOrder": 58,
    "_isFastLaunch": false,
    "category": "Accelerated computing",
    "gpuNum": 0,
    "hideHardwareSpecs": false,
    "memoryGiB": 512,
    "name": "ml.trn1.32xlarge",
    "vcpuNum": 128
   },
   {
    "_defaultOrder": 59,
    "_isFastLaunch": false,
    "category": "Accelerated computing",
    "gpuNum": 0,
    "hideHardwareSpecs": false,
    "memoryGiB": 512,
    "name": "ml.trn1n.32xlarge",
    "vcpuNum": 128
   }
  ],
  "instance_type": "ml.m5.large",
  "kernelspec": {
   "display_name": "Python 3 (ipykernel)",
   "language": "python",
   "name": "python3"
  },
  "language_info": {
   "codemirror_mode": {
    "name": "ipython",
    "version": 3
   },
   "file_extension": ".py",
   "mimetype": "text/x-python",
   "name": "python",
   "nbconvert_exporter": "python",
   "pygments_lexer": "ipython3",
   "version": "3.10.6"
  }
 },
 "nbformat": 4,
 "nbformat_minor": 5
}
