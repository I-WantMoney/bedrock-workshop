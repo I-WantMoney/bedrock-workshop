{
 "cells": [
  {
   "cell_type": "markdown",
   "metadata": {
    "tags": []
   },
   "source": [
    "# Fine-tune Meta Llama2 13B model provided by Amazon Bedrock: End-to-End\n",
    "\n",
    "In this notebook we demonstrate using Boto3 sdk for fine-tuning and creating provisioned throughput for the [Llama2 13B](#https://ai.meta.com/llama/get-started/) model in Bedrock. You can also do this through the Bedrock Console.\n",
    "\n",
    "<div class=\"alert alert-block alert-warning\">\n",
    "<b>Warning:</b> This module cannot be executed in Workshop Studio Accounts, and you will have to run this notebook in your own account.\n",
    "</div>\n",
    "\n",
    "### A Summarization Use Case\n",
    "In this notebook, we build an end-to-end workflow for fine-tuning and evaluating the Foundation Models (FMs) in Amazon Bedrock. We choose [Meta Llama 2 13B](https://ai.meta.com/llama/) as our FM to perform the customization through fine-tuning, we then create provisioned throughput of the fine-tuned model, test the provisioned model invocation, and finally evaluate the fine-tuned model performance using [fmeval](https://github.com/aws/fmeval) <!--we should use try using Bedrock's model evaluation instead-->on the summarization accuracy metrics including METEOR, ROUGE, and BERT scores. We have defined these scores in the `Evaluate the Provisioned Custom Model¶` section below. \n",
    "\n",
    "> *This notebook should work well with the **`Data Science 3.0`**, **`Python 3`**, and **`ml.c5.2xlarge`** kernel in SageMaker Studio*\n",
    "\n",
    "## Prerequisites\n",
    "\n",
    " - Make sure you have executed `00_setup.ipynb` notebook.\n",
    " - Make sure you are using the same kernel and instance as `00_setup.ipynb` notebook.\n",
    "\n",
    "<div class=\"alert alert-block alert-warning\">\n",
    "<b>Warning:</b> This notebook will create provisioned throughput for testing the fine-tuned model. Therefore, please make sure to delete the provisioned throughput as mentioned in the last section of the notebook, otherwise you will be charged for it, even if you are not using it.\n",
    "</div>"
   ]
  },
  {
   "cell_type": "markdown",
   "metadata": {},
   "source": [
    "## Setup\n",
    "Install and import all the needed libraries and dependencies to complete this notebook.\n",
    "\n",
    "Please ignore error messages related to pip's dependency resolver."
   ]
  },
  {
   "cell_type": "code",
   "metadata": {
    "ExecuteTime": {
     "end_time": "2024-04-25T20:16:53.381521Z",
     "start_time": "2024-04-25T20:15:50.442133Z"
    }
   },
   "source": [
    "# # install the fmeval package for foundation model evaluation\n",
    "%rm -Rf ~/.cache/pip/*\n",
    "%pip install tokenizers==0.12.1\n",
    "%pip install -qU fmeval==0.3.0"
   ],
   "outputs": [
    {
     "name": "stdout",
     "output_type": "stream",
     "text": [
      "zsh:1: no matches found: /Users/jicowan/.cache/pip/*\r\n",
      "Collecting tokenizers==0.12.1\r\n",
      "  Downloading tokenizers-0.12.1.tar.gz (220 kB)\r\n",
      "\u001B[2K     \u001B[90m━━━━━━━━━━━━━━━━━━━━━━━━━━━━━━━━━━━━━━━\u001B[0m \u001B[32m220.7/220.7 kB\u001B[0m \u001B[31m1.9 MB/s\u001B[0m eta \u001B[36m0:00:00\u001B[0ma \u001B[36m0:00:01\u001B[0m\r\n",
      "\u001B[?25h  Installing build dependencies ... \u001B[?25ldone\r\n",
      "\u001B[?25h  Getting requirements to build wheel ... \u001B[?25ldone\r\n",
      "\u001B[?25h  Preparing metadata (pyproject.toml) ... \u001B[?25ldone\r\n",
      "\u001B[?25hBuilding wheels for collected packages: tokenizers\r\n",
      "  Building wheel for tokenizers (pyproject.toml) ... \u001B[?25lerror\r\n",
      "  \u001B[1;31merror\u001B[0m: \u001B[1msubprocess-exited-with-error\u001B[0m\r\n",
      "  \r\n",
      "  \u001B[31m×\u001B[0m \u001B[32mBuilding wheel for tokenizers \u001B[0m\u001B[1;32m(\u001B[0m\u001B[32mpyproject.toml\u001B[0m\u001B[1;32m)\u001B[0m did not run successfully.\r\n",
      "  \u001B[31m│\u001B[0m exit code: \u001B[1;36m1\u001B[0m\r\n",
      "  \u001B[31m╰─>\u001B[0m \u001B[31m[51 lines of output]\u001B[0m\r\n",
      "  \u001B[31m   \u001B[0m running bdist_wheel\r\n",
      "  \u001B[31m   \u001B[0m running build\r\n",
      "  \u001B[31m   \u001B[0m running build_py\r\n",
      "  \u001B[31m   \u001B[0m creating build\r\n",
      "  \u001B[31m   \u001B[0m creating build/lib.macosx-14-x86_64-cpython-311\r\n",
      "  \u001B[31m   \u001B[0m creating build/lib.macosx-14-x86_64-cpython-311/tokenizers\r\n",
      "  \u001B[31m   \u001B[0m copying py_src/tokenizers/__init__.py -> build/lib.macosx-14-x86_64-cpython-311/tokenizers\r\n",
      "  \u001B[31m   \u001B[0m creating build/lib.macosx-14-x86_64-cpython-311/tokenizers/models\r\n",
      "  \u001B[31m   \u001B[0m copying py_src/tokenizers/models/__init__.py -> build/lib.macosx-14-x86_64-cpython-311/tokenizers/models\r\n",
      "  \u001B[31m   \u001B[0m creating build/lib.macosx-14-x86_64-cpython-311/tokenizers/decoders\r\n",
      "  \u001B[31m   \u001B[0m copying py_src/tokenizers/decoders/__init__.py -> build/lib.macosx-14-x86_64-cpython-311/tokenizers/decoders\r\n",
      "  \u001B[31m   \u001B[0m creating build/lib.macosx-14-x86_64-cpython-311/tokenizers/normalizers\r\n",
      "  \u001B[31m   \u001B[0m copying py_src/tokenizers/normalizers/__init__.py -> build/lib.macosx-14-x86_64-cpython-311/tokenizers/normalizers\r\n",
      "  \u001B[31m   \u001B[0m creating build/lib.macosx-14-x86_64-cpython-311/tokenizers/pre_tokenizers\r\n",
      "  \u001B[31m   \u001B[0m copying py_src/tokenizers/pre_tokenizers/__init__.py -> build/lib.macosx-14-x86_64-cpython-311/tokenizers/pre_tokenizers\r\n",
      "  \u001B[31m   \u001B[0m creating build/lib.macosx-14-x86_64-cpython-311/tokenizers/processors\r\n",
      "  \u001B[31m   \u001B[0m copying py_src/tokenizers/processors/__init__.py -> build/lib.macosx-14-x86_64-cpython-311/tokenizers/processors\r\n",
      "  \u001B[31m   \u001B[0m creating build/lib.macosx-14-x86_64-cpython-311/tokenizers/trainers\r\n",
      "  \u001B[31m   \u001B[0m copying py_src/tokenizers/trainers/__init__.py -> build/lib.macosx-14-x86_64-cpython-311/tokenizers/trainers\r\n",
      "  \u001B[31m   \u001B[0m creating build/lib.macosx-14-x86_64-cpython-311/tokenizers/implementations\r\n",
      "  \u001B[31m   \u001B[0m copying py_src/tokenizers/implementations/byte_level_bpe.py -> build/lib.macosx-14-x86_64-cpython-311/tokenizers/implementations\r\n",
      "  \u001B[31m   \u001B[0m copying py_src/tokenizers/implementations/sentencepiece_unigram.py -> build/lib.macosx-14-x86_64-cpython-311/tokenizers/implementations\r\n",
      "  \u001B[31m   \u001B[0m copying py_src/tokenizers/implementations/sentencepiece_bpe.py -> build/lib.macosx-14-x86_64-cpython-311/tokenizers/implementations\r\n",
      "  \u001B[31m   \u001B[0m copying py_src/tokenizers/implementations/base_tokenizer.py -> build/lib.macosx-14-x86_64-cpython-311/tokenizers/implementations\r\n",
      "  \u001B[31m   \u001B[0m copying py_src/tokenizers/implementations/__init__.py -> build/lib.macosx-14-x86_64-cpython-311/tokenizers/implementations\r\n",
      "  \u001B[31m   \u001B[0m copying py_src/tokenizers/implementations/char_level_bpe.py -> build/lib.macosx-14-x86_64-cpython-311/tokenizers/implementations\r\n",
      "  \u001B[31m   \u001B[0m copying py_src/tokenizers/implementations/bert_wordpiece.py -> build/lib.macosx-14-x86_64-cpython-311/tokenizers/implementations\r\n",
      "  \u001B[31m   \u001B[0m creating build/lib.macosx-14-x86_64-cpython-311/tokenizers/tools\r\n",
      "  \u001B[31m   \u001B[0m copying py_src/tokenizers/tools/__init__.py -> build/lib.macosx-14-x86_64-cpython-311/tokenizers/tools\r\n",
      "  \u001B[31m   \u001B[0m copying py_src/tokenizers/tools/visualizer.py -> build/lib.macosx-14-x86_64-cpython-311/tokenizers/tools\r\n",
      "  \u001B[31m   \u001B[0m copying py_src/tokenizers/__init__.pyi -> build/lib.macosx-14-x86_64-cpython-311/tokenizers\r\n",
      "  \u001B[31m   \u001B[0m copying py_src/tokenizers/models/__init__.pyi -> build/lib.macosx-14-x86_64-cpython-311/tokenizers/models\r\n",
      "  \u001B[31m   \u001B[0m copying py_src/tokenizers/decoders/__init__.pyi -> build/lib.macosx-14-x86_64-cpython-311/tokenizers/decoders\r\n",
      "  \u001B[31m   \u001B[0m copying py_src/tokenizers/normalizers/__init__.pyi -> build/lib.macosx-14-x86_64-cpython-311/tokenizers/normalizers\r\n",
      "  \u001B[31m   \u001B[0m copying py_src/tokenizers/pre_tokenizers/__init__.pyi -> build/lib.macosx-14-x86_64-cpython-311/tokenizers/pre_tokenizers\r\n",
      "  \u001B[31m   \u001B[0m copying py_src/tokenizers/processors/__init__.pyi -> build/lib.macosx-14-x86_64-cpython-311/tokenizers/processors\r\n",
      "  \u001B[31m   \u001B[0m copying py_src/tokenizers/trainers/__init__.pyi -> build/lib.macosx-14-x86_64-cpython-311/tokenizers/trainers\r\n",
      "  \u001B[31m   \u001B[0m copying py_src/tokenizers/tools/visualizer-styles.css -> build/lib.macosx-14-x86_64-cpython-311/tokenizers/tools\r\n",
      "  \u001B[31m   \u001B[0m running build_ext\r\n",
      "  \u001B[31m   \u001B[0m running build_rust\r\n",
      "  \u001B[31m   \u001B[0m error: can't find Rust compiler\r\n",
      "  \u001B[31m   \u001B[0m \r\n",
      "  \u001B[31m   \u001B[0m If you are using an outdated pip version, it is possible a prebuilt wheel is available for this package but pip is not able to install from it. Installing from the wheel would avoid the need for a Rust compiler.\r\n",
      "  \u001B[31m   \u001B[0m \r\n",
      "  \u001B[31m   \u001B[0m To update pip, run:\r\n",
      "  \u001B[31m   \u001B[0m \r\n",
      "  \u001B[31m   \u001B[0m     pip install --upgrade pip\r\n",
      "  \u001B[31m   \u001B[0m \r\n",
      "  \u001B[31m   \u001B[0m and then retry package installation.\r\n",
      "  \u001B[31m   \u001B[0m \r\n",
      "  \u001B[31m   \u001B[0m If you did intend to build this package from source, try installing a Rust compiler from your system package manager and ensure it is on the PATH during installation. Alternatively, rustup (available at https://rustup.rs) is the recommended way to download and update the Rust compiler toolchain.\r\n",
      "  \u001B[31m   \u001B[0m \u001B[31m[end of output]\u001B[0m\r\n",
      "  \r\n",
      "  \u001B[1;35mnote\u001B[0m: This error originates from a subprocess, and is likely not a problem with pip.\r\n",
      "\u001B[31m  ERROR: Failed building wheel for tokenizers\u001B[0m\u001B[31m\r\n",
      "\u001B[0m\u001B[?25hFailed to build tokenizers\r\n",
      "\u001B[31mERROR: Could not build wheels for tokenizers, which is required to install pyproject.toml-based projects\u001B[0m\u001B[31m\r\n",
      "\u001B[0mNote: you may need to restart the kernel to use updated packages.\n",
      "  \u001B[1;31merror\u001B[0m: \u001B[1msubprocess-exited-with-error\u001B[0m\r\n",
      "  \r\n",
      "  \u001B[31m×\u001B[0m \u001B[32mBuilding wheel for tokenizers \u001B[0m\u001B[1;32m(\u001B[0m\u001B[32mpyproject.toml\u001B[0m\u001B[1;32m)\u001B[0m did not run successfully.\r\n",
      "  \u001B[31m│\u001B[0m exit code: \u001B[1;36m1\u001B[0m\r\n",
      "  \u001B[31m╰─>\u001B[0m \u001B[31m[51 lines of output]\u001B[0m\r\n",
      "  \u001B[31m   \u001B[0m running bdist_wheel\r\n",
      "  \u001B[31m   \u001B[0m running build\r\n",
      "  \u001B[31m   \u001B[0m running build_py\r\n",
      "  \u001B[31m   \u001B[0m creating build\r\n",
      "  \u001B[31m   \u001B[0m creating build/lib.macosx-14-x86_64-cpython-311\r\n",
      "  \u001B[31m   \u001B[0m creating build/lib.macosx-14-x86_64-cpython-311/tokenizers\r\n",
      "  \u001B[31m   \u001B[0m copying py_src/tokenizers/__init__.py -> build/lib.macosx-14-x86_64-cpython-311/tokenizers\r\n",
      "  \u001B[31m   \u001B[0m creating build/lib.macosx-14-x86_64-cpython-311/tokenizers/models\r\n",
      "  \u001B[31m   \u001B[0m copying py_src/tokenizers/models/__init__.py -> build/lib.macosx-14-x86_64-cpython-311/tokenizers/models\r\n",
      "  \u001B[31m   \u001B[0m creating build/lib.macosx-14-x86_64-cpython-311/tokenizers/decoders\r\n",
      "  \u001B[31m   \u001B[0m copying py_src/tokenizers/decoders/__init__.py -> build/lib.macosx-14-x86_64-cpython-311/tokenizers/decoders\r\n",
      "  \u001B[31m   \u001B[0m creating build/lib.macosx-14-x86_64-cpython-311/tokenizers/normalizers\r\n",
      "  \u001B[31m   \u001B[0m copying py_src/tokenizers/normalizers/__init__.py -> build/lib.macosx-14-x86_64-cpython-311/tokenizers/normalizers\r\n",
      "  \u001B[31m   \u001B[0m creating build/lib.macosx-14-x86_64-cpython-311/tokenizers/pre_tokenizers\r\n",
      "  \u001B[31m   \u001B[0m copying py_src/tokenizers/pre_tokenizers/__init__.py -> build/lib.macosx-14-x86_64-cpython-311/tokenizers/pre_tokenizers\r\n",
      "  \u001B[31m   \u001B[0m creating build/lib.macosx-14-x86_64-cpython-311/tokenizers/processors\r\n",
      "  \u001B[31m   \u001B[0m copying py_src/tokenizers/processors/__init__.py -> build/lib.macosx-14-x86_64-cpython-311/tokenizers/processors\r\n",
      "  \u001B[31m   \u001B[0m creating build/lib.macosx-14-x86_64-cpython-311/tokenizers/trainers\r\n",
      "  \u001B[31m   \u001B[0m copying py_src/tokenizers/trainers/__init__.py -> build/lib.macosx-14-x86_64-cpython-311/tokenizers/trainers\r\n",
      "  \u001B[31m   \u001B[0m creating build/lib.macosx-14-x86_64-cpython-311/tokenizers/implementations\r\n",
      "  \u001B[31m   \u001B[0m copying py_src/tokenizers/implementations/byte_level_bpe.py -> build/lib.macosx-14-x86_64-cpython-311/tokenizers/implementations\r\n",
      "  \u001B[31m   \u001B[0m copying py_src/tokenizers/implementations/sentencepiece_unigram.py -> build/lib.macosx-14-x86_64-cpython-311/tokenizers/implementations\r\n",
      "  \u001B[31m   \u001B[0m copying py_src/tokenizers/implementations/sentencepiece_bpe.py -> build/lib.macosx-14-x86_64-cpython-311/tokenizers/implementations\r\n",
      "  \u001B[31m   \u001B[0m copying py_src/tokenizers/implementations/base_tokenizer.py -> build/lib.macosx-14-x86_64-cpython-311/tokenizers/implementations\r\n",
      "  \u001B[31m   \u001B[0m copying py_src/tokenizers/implementations/__init__.py -> build/lib.macosx-14-x86_64-cpython-311/tokenizers/implementations\r\n",
      "  \u001B[31m   \u001B[0m copying py_src/tokenizers/implementations/char_level_bpe.py -> build/lib.macosx-14-x86_64-cpython-311/tokenizers/implementations\r\n",
      "  \u001B[31m   \u001B[0m copying py_src/tokenizers/implementations/bert_wordpiece.py -> build/lib.macosx-14-x86_64-cpython-311/tokenizers/implementations\r\n",
      "  \u001B[31m   \u001B[0m creating build/lib.macosx-14-x86_64-cpython-311/tokenizers/tools\r\n",
      "  \u001B[31m   \u001B[0m copying py_src/tokenizers/tools/__init__.py -> build/lib.macosx-14-x86_64-cpython-311/tokenizers/tools\r\n",
      "  \u001B[31m   \u001B[0m copying py_src/tokenizers/tools/visualizer.py -> build/lib.macosx-14-x86_64-cpython-311/tokenizers/tools\r\n",
      "  \u001B[31m   \u001B[0m copying py_src/tokenizers/__init__.pyi -> build/lib.macosx-14-x86_64-cpython-311/tokenizers\r\n",
      "  \u001B[31m   \u001B[0m copying py_src/tokenizers/models/__init__.pyi -> build/lib.macosx-14-x86_64-cpython-311/tokenizers/models\r\n",
      "  \u001B[31m   \u001B[0m copying py_src/tokenizers/decoders/__init__.pyi -> build/lib.macosx-14-x86_64-cpython-311/tokenizers/decoders\r\n",
      "  \u001B[31m   \u001B[0m copying py_src/tokenizers/normalizers/__init__.pyi -> build/lib.macosx-14-x86_64-cpython-311/tokenizers/normalizers\r\n",
      "  \u001B[31m   \u001B[0m copying py_src/tokenizers/pre_tokenizers/__init__.pyi -> build/lib.macosx-14-x86_64-cpython-311/tokenizers/pre_tokenizers\r\n",
      "  \u001B[31m   \u001B[0m copying py_src/tokenizers/processors/__init__.pyi -> build/lib.macosx-14-x86_64-cpython-311/tokenizers/processors\r\n",
      "  \u001B[31m   \u001B[0m copying py_src/tokenizers/trainers/__init__.pyi -> build/lib.macosx-14-x86_64-cpython-311/tokenizers/trainers\r\n",
      "  \u001B[31m   \u001B[0m copying py_src/tokenizers/tools/visualizer-styles.css -> build/lib.macosx-14-x86_64-cpython-311/tokenizers/tools\r\n",
      "  \u001B[31m   \u001B[0m running build_ext\r\n",
      "  \u001B[31m   \u001B[0m running build_rust\r\n",
      "  \u001B[31m   \u001B[0m error: can't find Rust compiler\r\n",
      "  \u001B[31m   \u001B[0m \r\n",
      "  \u001B[31m   \u001B[0m If you are using an outdated pip version, it is possible a prebuilt wheel is available for this package but pip is not able to install from it. Installing from the wheel would avoid the need for a Rust compiler.\r\n",
      "  \u001B[31m   \u001B[0m \r\n",
      "  \u001B[31m   \u001B[0m To update pip, run:\r\n",
      "  \u001B[31m   \u001B[0m \r\n",
      "  \u001B[31m   \u001B[0m     pip install --upgrade pip\r\n",
      "  \u001B[31m   \u001B[0m \r\n",
      "  \u001B[31m   \u001B[0m and then retry package installation.\r\n",
      "  \u001B[31m   \u001B[0m \r\n",
      "  \u001B[31m   \u001B[0m If you did intend to build this package from source, try installing a Rust compiler from your system package manager and ensure it is on the PATH during installation. Alternatively, rustup (available at https://rustup.rs) is the recommended way to download and update the Rust compiler toolchain.\r\n",
      "  \u001B[31m   \u001B[0m \u001B[31m[end of output]\u001B[0m\r\n",
      "  \r\n",
      "  \u001B[1;35mnote\u001B[0m: This error originates from a subprocess, and is likely not a problem with pip.\r\n",
      "\u001B[31m  ERROR: Failed building wheel for tokenizers\u001B[0m\u001B[31m\r\n",
      "\u001B[0m\u001B[31mERROR: Could not build wheels for tokenizers, which is required to install pyproject.toml-based projects\u001B[0m\u001B[31m\r\n",
      "\u001B[0mNote: you may need to restart the kernel to use updated packages.\n"
     ]
    }
   ],
   "execution_count": 1
  },
  {
   "cell_type": "markdown",
   "metadata": {},
   "source": [
    "#### Setup Tips:\n",
    "⚠️ ⚠️ ⚠️ If you have trouble installing fmeval, please make sure you have the dependencies installed correctly. See full list of dependencies [here](https://github.com/aws/fmeval/blob/main/poetry.lock). ⚠️ ⚠️ ⚠️ \n"
   ]
  },
  {
   "cell_type": "code",
   "metadata": {
    "tags": [],
    "ExecuteTime": {
     "end_time": "2024-04-25T20:17:03.978267Z",
     "start_time": "2024-04-25T20:17:03.971546Z"
    }
   },
   "source": [
    "# restart kernel for packages to take effect\n",
    "from IPython.core.display import HTML\n",
    "HTML(\"<script>Jupyter.notebook.kernel.restart()</script>\")"
   ],
   "outputs": [
    {
     "data": {
      "text/plain": [
       "<IPython.core.display.HTML object>"
      ],
      "text/html": [
       "<script>Jupyter.notebook.kernel.restart()</script>"
      ]
     },
     "execution_count": 2,
     "metadata": {},
     "output_type": "execute_result"
    }
   ],
   "execution_count": 2
  },
  {
   "cell_type": "code",
   "metadata": {
    "tags": [],
    "ExecuteTime": {
     "end_time": "2024-04-25T20:17:13.678854Z",
     "start_time": "2024-04-25T20:17:13.653324Z"
    }
   },
   "source": [
    "## Fetching variables from `00_setup.ipynb` notebook. \n",
    "%store -r role_arn\n",
    "%store -r s3_train_uri\n",
    "%store -r s3_validation_uri\n",
    "%store -r s3_test_uri\n",
    "%store -r bucket_name"
   ],
   "outputs": [],
   "execution_count": 3
  },
  {
   "cell_type": "code",
   "metadata": {
    "tags": [],
    "ExecuteTime": {
     "end_time": "2024-04-25T20:17:17.311448Z",
     "start_time": "2024-04-25T20:17:17.306996Z"
    }
   },
   "source": [
    "import pprint\n",
    "pprint.pp(role_arn)\n",
    "pprint.pp(s3_train_uri)\n",
    "pprint.pp(s3_validation_uri)\n",
    "pprint.pp(s3_test_uri)\n",
    "pprint.pp(bucket_name)"
   ],
   "outputs": [
    {
     "name": "stdout",
     "output_type": "stream",
     "text": [
      "'arn:aws:iam::820537372947:role/BedrockRole-d6fec231-3d45-46fc-bb25-afc3fb4531ce'\n",
      "'s3://bedrock-customization-us-west-2-820537372947/fine-tuning-datasets/train/train-cnn-5K.jsonl'\n",
      "'s3://bedrock-customization-us-west-2-820537372947/fine-tuning-datasets/validation/validation-cnn-1K.jsonl'\n",
      "'s3://bedrock-customization-us-west-2-820537372947/fine-tuning-datasets/test/test-cnn-10.jsonl'\n",
      "'bedrock-customization-us-west-2-820537372947'\n"
     ]
    }
   ],
   "execution_count": 4
  },
  {
   "cell_type": "code",
   "metadata": {
    "tags": [],
    "ExecuteTime": {
     "end_time": "2024-04-25T20:17:21.166919Z",
     "start_time": "2024-04-25T20:17:19.565675Z"
    }
   },
   "source": [
    "import warnings\n",
    "warnings.filterwarnings('ignore')\n",
    "import json\n",
    "import os\n",
    "import sys\n",
    "import boto3\n",
    "import pandas as pd\n",
    "from matplotlib import pyplot as plt"
   ],
   "outputs": [],
   "execution_count": 5
  },
  {
   "cell_type": "code",
   "metadata": {
    "tags": [],
    "ExecuteTime": {
     "end_time": "2024-04-25T20:17:22.965445Z",
     "start_time": "2024-04-25T20:17:22.348730Z"
    }
   },
   "source": [
    "session = boto3.session.Session()\n",
    "region = session.region_name\n",
    "sts_client = boto3.client('sts')\n",
    "s3_client = boto3.client('s3')\n",
    "aws_account_id = sts_client.get_caller_identity()[\"Account\"]\n",
    "bedrock = boto3.client(service_name=\"bedrock\")\n",
    "bedrock_runtime = boto3.client(service_name=\"bedrock-runtime\")"
   ],
   "outputs": [],
   "execution_count": 6
  },
  {
   "cell_type": "code",
   "metadata": {
    "tags": [],
    "ExecuteTime": {
     "end_time": "2024-04-25T20:17:24.675188Z",
     "start_time": "2024-04-25T20:17:24.672199Z"
    }
   },
   "source": [
    "test_file_name = \"test-cnn-10.jsonl\"\n",
    "data_folder = \"fine-tuning-datasets\""
   ],
   "outputs": [],
   "execution_count": 7
  },
  {
   "cell_type": "markdown",
   "metadata": {},
   "source": [
    "## Create the Fine-Tuning Job\n",
    "<div class=\"alert alert-block alert-info\">\n",
    "<b>Note:</b> Fine-tuning job will take around 60mins to complete with 5K records.</div>\n",
    "\n",
    "Meta Llama2 customization hyperparameters: \n",
    "- `epochs`: The number of iterations through the entire training dataset and can take up any integer values in the range of 1-10, with a default value of 2.\n",
    "- `batchSize`: The number of samples processed before updating model parametersand can take up any integer values in the range of 1-64, with a default value of 1.\n",
    "- `learningRate`:\tThe rate at which model parameters are updated after each batch\twhich can take up a float value betweek 0.0-1.0 with a default value set to\t1.00E-5.\n",
    "- `learningRateWarmupSteps`: The number of iterations over which the learning rate is gradually increased to the specified rate and can take any integer value between 0-250 with a default value of 5.\n",
    "\n",
    "For guidelines on setting hyper-parameters refer to the guidelines provided [here](#https://docs.aws.amazon.com/bedrock/latest/userguide/model-customization-guidelines.html)"
   ]
  },
  {
   "cell_type": "code",
   "metadata": {
    "tags": [],
    "ExecuteTime": {
     "end_time": "2024-04-25T20:17:53.793806Z",
     "start_time": "2024-04-25T20:17:53.293366Z"
    }
   },
   "source": [
    "from datetime import datetime\n",
    "ts = datetime.now().strftime(\"%Y-%m-%d-%H-%M-%S\")\n",
    "\n",
    "\n",
    "# Choose the foundation model you want to customize and provide ModelId(find more about model reference at https://docs.aws.amazon.com/bedrock/latest/userguide/bedrock-reference.html)\n",
    "base_model_id = \"meta.llama2-13b-v1:0:4k\"\n",
    "\n",
    "# Select the customization type from \"FINE_TUNING\" or \"CONTINUED_PRE_TRAINING\". \n",
    "customization_type = \"FINE_TUNING\"\n",
    "\n",
    "# Specify the roleArn for your customization job\n",
    "customization_role = role_arn\n",
    "\n",
    "# Create a customization job name\n",
    "customization_job_name = f\"llama2-finetune-sm-test-model-{ts}\"\n",
    "\n",
    "# Create a customized model name for your fine-tuned Llama2 model\n",
    "custom_model_name = f\"llama2-finetune-{ts}\"\n",
    "\n",
    "# Define the hyperparameters for fine-tuning Llama2 model\n",
    "hyper_parameters = {\n",
    "        \"epochCount\": \"2\",\n",
    "        \"batchSize\": \"1\",\n",
    "        \"learningRate\": \"0.00005\",\n",
    "    }\n",
    "\n",
    "# Specify your data path for training, validation(optional) and output\n",
    "training_data_config = {\"s3Uri\": s3_train_uri}\n",
    "\n",
    "# # uncomment the below section if you have validation dataset and provide the s3 uri for it. \n",
    "validation_data_config = {\n",
    "        \"validators\": [{\n",
    "            \"s3Uri\": s3_validation_uri\n",
    "        }]\n",
    "    }\n",
    "\n",
    "output_data_config = {\"s3Uri\": f's3://{bucket_name}/outputs/output-{custom_model_name}'}\n",
    "\n",
    "# # Create the customization job\n",
    "bedrock.create_model_customization_job(\n",
    "    customizationType=customization_type,\n",
    "    jobName=customization_job_name,\n",
    "    customModelName=custom_model_name,\n",
    "    roleArn=customization_role,\n",
    "    baseModelIdentifier=base_model_id,\n",
    "    hyperParameters=hyper_parameters,\n",
    "    trainingDataConfig=training_data_config,\n",
    "    validationDataConfig=validation_data_config,\n",
    "    outputDataConfig=output_data_config\n",
    ")"
   ],
   "outputs": [
    {
     "data": {
      "text/plain": [
       "{'ResponseMetadata': {'RequestId': 'afdfb32e-1842-4ad7-a9c0-d4c46b7a30dd',\n",
       "  'HTTPStatusCode': 201,\n",
       "  'HTTPHeaders': {'date': 'Thu, 25 Apr 2024 20:17:53 GMT',\n",
       "   'content-type': 'application/json',\n",
       "   'content-length': '112',\n",
       "   'connection': 'keep-alive',\n",
       "   'x-amzn-requestid': 'afdfb32e-1842-4ad7-a9c0-d4c46b7a30dd'},\n",
       "  'RetryAttempts': 0},\n",
       " 'jobArn': 'arn:aws:bedrock:us-west-2:820537372947:model-customization-job/meta.llama2-13b-v1:0:4k/uzxw9suhxzzu'}"
      ]
     },
     "execution_count": 8,
     "metadata": {},
     "output_type": "execute_result"
    }
   ],
   "execution_count": 8
  },
  {
   "cell_type": "markdown",
   "metadata": {},
   "source": [
    "## Check Customization Job Status"
   ]
  },
  {
   "cell_type": "code",
   "metadata": {
    "tags": [],
    "ExecuteTime": {
     "end_time": "2024-04-25T21:07:06.678618Z",
     "start_time": "2024-04-25T20:17:57.615946Z"
    }
   },
   "source": [
    "import time\n",
    "fine_tune_job = bedrock.get_model_customization_job(jobIdentifier=customization_job_name)[\"status\"]\n",
    "print(fine_tune_job)\n",
    "\n",
    "while fine_tune_job == \"InProgress\":\n",
    "    time.sleep(60)\n",
    "    fine_tune_job = bedrock.get_model_customization_job(jobIdentifier=customization_job_name)[\"status\"]\n",
    "    print (fine_tune_job)"
   ],
   "outputs": [
    {
     "name": "stdout",
     "output_type": "stream",
     "text": [
      "InProgress\n",
      "InProgress\n",
      "InProgress\n",
      "InProgress\n",
      "InProgress\n",
      "InProgress\n",
      "InProgress\n",
      "InProgress\n",
      "InProgress\n",
      "InProgress\n",
      "InProgress\n",
      "InProgress\n",
      "InProgress\n",
      "InProgress\n",
      "InProgress\n",
      "InProgress\n",
      "InProgress\n",
      "InProgress\n",
      "InProgress\n",
      "InProgress\n",
      "InProgress\n",
      "InProgress\n",
      "InProgress\n",
      "InProgress\n",
      "InProgress\n",
      "InProgress\n",
      "InProgress\n",
      "InProgress\n",
      "InProgress\n",
      "InProgress\n",
      "InProgress\n",
      "InProgress\n",
      "InProgress\n",
      "InProgress\n",
      "InProgress\n",
      "InProgress\n",
      "InProgress\n",
      "InProgress\n",
      "InProgress\n",
      "InProgress\n",
      "InProgress\n",
      "InProgress\n",
      "InProgress\n",
      "InProgress\n",
      "InProgress\n",
      "InProgress\n",
      "InProgress\n",
      "InProgress\n",
      "InProgress\n",
      "Completed\n"
     ]
    }
   ],
   "execution_count": 9
  },
  {
   "cell_type": "markdown",
   "metadata": {},
   "source": [
    "## Retrieve Custom Model\n",
    "Once the customization job is finished, you can check your existing custom model(s) and retrieve the modelArn of your fine-tuned Llama2 model."
   ]
  },
  {
   "cell_type": "code",
   "metadata": {
    "tags": [],
    "ExecuteTime": {
     "end_time": "2024-04-25T21:55:04.690247Z",
     "start_time": "2024-04-25T21:55:04.176420Z"
    }
   },
   "source": [
    "# You can list your custom models using the command below\n",
    "bedrock.list_custom_models()"
   ],
   "outputs": [
    {
     "data": {
      "text/plain": [
       "{'ResponseMetadata': {'RequestId': '6039a279-bfc5-4f8d-b81f-fc79f078be8c',\n",
       "  'HTTPStatusCode': 200,\n",
       "  'HTTPHeaders': {'date': 'Thu, 25 Apr 2024 21:55:04 GMT',\n",
       "   'content-type': 'application/json',\n",
       "   'content-length': '719',\n",
       "   'connection': 'keep-alive',\n",
       "   'x-amzn-requestid': '6039a279-bfc5-4f8d-b81f-fc79f078be8c'},\n",
       "  'RetryAttempts': 0},\n",
       " 'modelSummaries': [{'modelArn': 'arn:aws:bedrock:us-west-2:820537372947:custom-model/meta.llama2-13b-v1:0:4k/27jk7dm1xfol',\n",
       "   'modelName': 'llama2-finetune-2024-04-25-15-17-53',\n",
       "   'creationTime': datetime.datetime(2024, 4, 25, 20, 17, 53, 751000, tzinfo=tzutc()),\n",
       "   'baseModelArn': 'arn:aws:bedrock:us-west-2::foundation-model/meta.llama2-13b-v1:0:4k',\n",
       "   'baseModelName': '',\n",
       "   'customizationType': 'FINE_TUNING'},\n",
       "  {'modelArn': 'arn:aws:bedrock:us-west-2:820537372947:custom-model/amazon.titan-text-lite-v1:0:4k/dkem5a27nhkt',\n",
       "   'modelName': 'finetuned-model-2024-04-25-10-16-13',\n",
       "   'creationTime': datetime.datetime(2024, 4, 25, 16, 9, 1, 254000, tzinfo=tzutc()),\n",
       "   'baseModelArn': 'arn:aws:bedrock:us-west-2::foundation-model/amazon.titan-text-lite-v1:0:4k',\n",
       "   'baseModelName': '',\n",
       "   'customizationType': 'FINE_TUNING'}]}"
      ]
     },
     "execution_count": 10,
     "metadata": {},
     "output_type": "execute_result"
    }
   ],
   "execution_count": 10
  },
  {
   "cell_type": "markdown",
   "metadata": {},
   "source": [
    "<div class=\"alert alert-block alert-info\">\n",
    "<b>Note:</b> Please make sure your customization job status is \"completed\" before proceeding to retrieve the modelArn, otherwise you will run into errors. </div>\n"
   ]
  },
  {
   "cell_type": "code",
   "metadata": {
    "ExecuteTime": {
     "end_time": "2024-04-25T21:55:09.244447Z",
     "start_time": "2024-04-25T21:55:09.026152Z"
    }
   },
   "source": [
    "# retrieve the modelArn of the fine-tuned model\n",
    "fine_tune_job = bedrock.get_custom_model(modelIdentifier=custom_model_name)\n",
    "custom_model_id = fine_tune_job['modelArn']"
   ],
   "outputs": [],
   "execution_count": 11
  },
  {
   "cell_type": "code",
   "metadata": {
    "tags": [],
    "ExecuteTime": {
     "end_time": "2024-04-25T21:55:15.294689Z",
     "start_time": "2024-04-25T21:55:15.290681Z"
    }
   },
   "source": [
    "output_job_name = \"model-customization-job-\"+fine_tune_job['jobArn'].split('/')[-1]\n",
    "output_job_name"
   ],
   "outputs": [
    {
     "data": {
      "text/plain": [
       "'model-customization-job-uzxw9suhxzzu'"
      ]
     },
     "execution_count": 12,
     "metadata": {},
     "output_type": "execute_result"
    }
   ],
   "execution_count": 12
  },
  {
   "cell_type": "markdown",
   "metadata": {},
   "source": [
    "## Visualize Training and Validation Loss\n",
    "Now that we have completed fine-tuning job, lets visualize our results to see if our job is not underfitting or overfitting. "
   ]
  },
  {
   "cell_type": "markdown",
   "metadata": {},
   "source": [
    "Download model customization job metrics from S3 and plot the learning curves."
   ]
  },
  {
   "cell_type": "code",
   "metadata": {
    "ExecuteTime": {
     "end_time": "2024-04-25T21:55:29.485214Z",
     "start_time": "2024-04-25T21:55:29.481902Z"
    }
   },
   "source": [
    "output_metrics_path = f\"fine-tuning-datasets/{output_job_name}\""
   ],
   "outputs": [],
   "execution_count": 13
  },
  {
   "cell_type": "code",
   "metadata": {
    "ExecuteTime": {
     "end_time": "2024-04-25T21:55:31.321698Z",
     "start_time": "2024-04-25T21:55:31.162800Z"
    }
   },
   "source": [
    "!mkdir $output_metrics_path"
   ],
   "outputs": [],
   "execution_count": 14
  },
  {
   "cell_type": "code",
   "metadata": {
    "ExecuteTime": {
     "end_time": "2024-04-25T21:55:34.236394Z",
     "start_time": "2024-04-25T21:55:34.231785Z"
    }
   },
   "source": [
    "train_metrics_s3_prefix=f'outputs/output-{custom_model_name}/{output_job_name}/training_artifacts/step_wise_training_metrics.csv'\n",
    "validation_metrics_s3_prefix=f'outputs/output-{custom_model_name}/{output_job_name}/validation_artifacts/post_fine_tuning_validation/validation/validation_metrics.csv'\n",
    "train_metrics_name='train_metrics.csv'\n",
    "validation_metrics_name='validation_metrics.csv'\n",
    "train_file_name_local=output_metrics_path+'/'+train_metrics_name\n",
    "validation_file_name_local=output_metrics_path+'/'+validation_metrics_name"
   ],
   "outputs": [],
   "execution_count": 15
  },
  {
   "cell_type": "code",
   "metadata": {
    "ExecuteTime": {
     "end_time": "2024-04-25T21:55:40.263464Z",
     "start_time": "2024-04-25T21:55:39.486724Z"
    }
   },
   "source": [
    "s3_client.download_file(bucket_name, train_metrics_s3_prefix, train_file_name_local)\n",
    "s3_client.download_file(bucket_name, validation_metrics_s3_prefix, validation_file_name_local)"
   ],
   "outputs": [],
   "execution_count": 16
  },
  {
   "cell_type": "code",
   "metadata": {
    "ExecuteTime": {
     "end_time": "2024-04-25T21:55:57.719087Z",
     "start_time": "2024-04-25T21:55:57.664468Z"
    }
   },
   "source": [
    "train_data = pd.read_csv(train_file_name_local)\n",
    "'''The training loss is at an iteration level. To calculate loss at the epoch level,\n",
    "    average the iteration-level loss for each epoch'''\n",
    "train_metrics_epoch=train_data.groupby('epoch_number').mean()\n",
    "validation_metrics_epoch=pd.read_csv(validation_file_name_local)\n"
   ],
   "outputs": [],
   "execution_count": 17
  },
  {
   "cell_type": "code",
   "metadata": {
    "ExecuteTime": {
     "end_time": "2024-04-25T21:56:03.522360Z",
     "start_time": "2024-04-25T21:56:03.233424Z"
    }
   },
   "source": [
    "plt.plot(validation_metrics_epoch.epoch_number, validation_metrics_epoch.validation_loss,label='validation')\n",
    "plt.plot(train_metrics_epoch.index, train_metrics_epoch.training_loss,label='training')\n",
    "plt.title('Training vs Validation Loss')\n",
    "plt.ylabel('Loss')\n",
    "plt.xlabel('Epoch')\n",
    "plt.legend()\n",
    "plt.show()"
   ],
   "outputs": [
    {
     "data": {
      "text/plain": [
       "<Figure size 640x480 with 1 Axes>"
      ],
      "image/png": "[encoded data removed]"
     },
     "metadata": {},
     "output_type": "display_data"
    }
   ],
   "execution_count": 18
  },
  {
   "cell_type": "markdown",
   "metadata": {},
   "source": [
    "## Create Provisioned Throughput\n",
    "<div class=\"alert alert-block alert-info\">\n",
    "<b>Note:</b> Creating provisioned throughput will take around 20-30mins to complete.</div>\n",
    "\n",
    "You will need to create provisioned throughput to be able to evaluate the model performance. You can do so through the [console](https://docs.aws.amazon.com/bedrock/latest/userguide/prov-cap-console.html) or use the following api call."
   ]
  },
  {
   "cell_type": "code",
   "metadata": {
    "tags": [],
    "ExecuteTime": {
     "end_time": "2024-04-25T21:56:26.350640Z",
     "start_time": "2024-04-25T21:56:25.605657Z"
    }
   },
   "source": [
    "# Create the provision throughput job and retrieve the provisioned model id\n",
    "provisioned_model_id = bedrock.create_provisioned_model_throughput(\n",
    "     modelUnits=1,\n",
    "    # create a name for your provisioned throughput model\n",
    "     provisionedModelName='test-model-v1-001', \n",
    "     modelId=custom_model_id\n",
    "    )['provisionedModelArn']    "
   ],
   "outputs": [],
   "execution_count": 19
  },
  {
   "cell_type": "code",
   "metadata": {
    "tags": [],
    "ExecuteTime": {
     "end_time": "2024-04-25T22:05:31.916255Z",
     "start_time": "2024-04-25T21:56:29.947755Z"
    }
   },
   "source": [
    "# check provisioned throughput job status\n",
    "import time\n",
    "status_provisioning = bedrock.get_provisioned_model_throughput(provisionedModelId = provisioned_model_id)['status'] \n",
    "while status_provisioning == 'Creating':\n",
    "    time.sleep(60)\n",
    "    status_provisioning = bedrock.get_provisioned_model_throughput(provisionedModelId=provisioned_model_id)['status']\n",
    "    print(status_provisioning)"
   ],
   "outputs": [
    {
     "name": "stdout",
     "output_type": "stream",
     "text": [
      "Creating\n",
      "Creating\n",
      "Creating\n",
      "Creating\n",
      "Creating\n",
      "Creating\n",
      "Creating\n",
      "Creating\n",
      "InService\n"
     ]
    }
   ],
   "execution_count": 20
  },
  {
   "cell_type": "markdown",
   "metadata": {
    "tags": []
   },
   "source": [
    "## Invoke the Provisioned Custom Model\n",
    "Invoke the provisioned custom model.You can replace the following prompt_txt with the prompts that are more similar to your fine-tuning dataset, this helps to check whether the fine-tuned model is performing as you expected. "
   ]
  },
  {
   "cell_type": "markdown",
   "metadata": {},
   "source": [
    "<div class=\"alert alert-block alert-info\">\n",
    "<b>Note:</b> Please make sure your provisioned throughput job status becomes InService before proceeding. </div>"
   ]
  },
  {
   "cell_type": "code",
   "metadata": {
    "tags": [],
    "ExecuteTime": {
     "end_time": "2024-04-25T22:05:49.805915Z",
     "start_time": "2024-04-25T22:05:49.801369Z"
    }
   },
   "source": [
    "# Provide the prompt text \n",
    "test_file_path = f'{data_folder}/{test_file_name}'\n",
    "with open(test_file_path) as f:\n",
    "    lines = f.read().splitlines()"
   ],
   "outputs": [],
   "execution_count": 21
  },
  {
   "cell_type": "code",
   "metadata": {
    "tags": [],
    "ExecuteTime": {
     "end_time": "2024-04-25T22:05:52.236786Z",
     "start_time": "2024-04-25T22:05:52.232527Z"
    }
   },
   "source": [
    "test_prompt = json.loads(lines[0])['prompt']\n",
    "reference_summary = json.loads(lines[0])['completion']\n",
    "print(test_prompt)\n",
    "print()\n",
    "print(reference_summary)"
   ],
   "outputs": [
    {
     "name": "stdout",
     "output_type": "stream",
     "text": [
      "Below is an instruction that describes a task, paired with an input that provides further context. Write a response that appropriately completes the request.\n",
      "\n",
      "instruction:\n",
      "\n",
      "Summarize the news article provided below.\n",
      "\n",
      "input:\n",
      "\n",
      "The Manchester derby will be more like El Clasico, with 14 native Spanish-speaking players due to be involved. Eight of United’s first-team squad and six from City are from Spain or Spanish-speaking countries. They are David de Gea, Victor Valdes, Juan Mata, Ander Herrera (all Spain), Marcos Rojo, Angel di Maria (both Argentina), Antonio Valencia (Ecuador) and Falcao (Colombia) at United, and Willy Caballero, Pablo Zabaleta, Martin Demichelis, Sergio Aguero (all Argentina), Jesus Navas and David Silva (both Spain) at City. Sergio Aguero will be one of 14 native Spanish-speaking players to feature in the Manchester derby on Sunday . United captain Wayne Rooney (centre) is likely to be just one of nine English-speakers to feature on Sunday . Nine English-speakers are expected to be in the two sides’ respective 18-man squads including England internationals Phil Jones, Michael Carrick, Ashley Young, Wayne Rooney, Joe Hart, James Milner as well as Frank Lampard. Both clubs pride themselves on bringing through their own products. However, when Sir Alex arrived at Old Trafford he was disgusted to learn that City scooped the cream of Manchester's talent and quickly (and successfully) set about putting that right. A generation such as the Class of '92 is unlikely to be seen again, but the derby could see no Mancunians in either squad for the second time in a row. Sir Alex Ferguson was disgusted that City's youth academy was more profitable on arrival at United . Along with Ferguson, Eric Harrison (left) brought through the Class of 92, to include Ryan Giggs, Nicky Butt, David Beckham, Gary Neville, Phil Neville, Paul Scholes and Terry Cooke . For three years, after the departure of Wes Brown to Sunderland, Danny Welbeck flew the Manchester flag. But following the Longsight lad's move to Arsenal, November's first instalment at the Etihad Stadium saw not one hometown native in either squad for the first time in living memory. Rooney was only born 30 miles down the road but he may as well be from another planet as far as many from this neck of the woods are concerned. Unless Tyler Blackett can stun the football world and force his way into Louis van Gaal's United line-up, it will be a Manc-free derby. Unless Tyler Blackett (centre) makes a comeback for United there won't be any local lads in the two XIs .\n",
      "\n",
      "response:\n",
      "\n",
      "Manchester United face rivals Manchester City in the league on Sunday .\n",
      "Eight of United's first-team squad are native Spanish-speaking players .\n",
      "Six City players are from Spain or Spanish-speaking countries .\n"
     ]
    }
   ],
   "execution_count": 22
  },
  {
   "cell_type": "markdown",
   "metadata": {},
   "source": [
    "Construct model input following the format needed by Llama2 model following instructions [here](#https://docs.aws.amazon.com/bedrock/latest/userguide/model-parameters-meta.html).\n",
    "Please pay attention to the \"Model invocation request body field\" section"
   ]
  },
  {
   "cell_type": "code",
   "metadata": {
    "tags": [],
    "ExecuteTime": {
     "end_time": "2024-04-25T22:08:01.087947Z",
     "start_time": "2024-04-25T22:07:58.265393Z"
    }
   },
   "source": [
    "body = json.dumps({\n",
    "    \"prompt\": test_prompt,\n",
    "    # specify the parameters as needed\n",
    "    \"max_gen_len\": 200,\n",
    "    \"temperature\": 0.4,\n",
    "    \"top_p\": 0.3,\n",
    "})\n",
    "\n",
    "# provide the modelId of the provisioned custom model\n",
    "modelId = provisioned_model_id\n",
    "accept = 'application/json'\n",
    "contentType = 'application/json'\n",
    "\n",
    "# invoke the provisioned custom model\n",
    "response = bedrock_runtime.invoke_model(body=body, modelId=modelId, accept=accept, contentType=contentType)\n",
    "\n",
    "response_body = json.loads(response.get('body').read())\n",
    "print(response_body)"
   ],
   "outputs": [
    {
     "name": "stdout",
     "output_type": "stream",
     "text": [
      "{'generation': ' response:\\n\\nSergio Aguero will be one of 14 native Spanish-speaking players to feature in the Manchester derby on Sunday .\\nUnited captain Wayne Rooney is likely to be just one of nine English-speakers to feature on Sunday .\\nBoth clubs pride themselves on bringing through their own products .', 'prompt_token_count': 659, 'generation_token_count': 70, 'stop_reason': 'stop'}\n"
     ]
    }
   ],
   "execution_count": 23
  },
  {
   "cell_type": "markdown",
   "metadata": {},
   "source": [
    "## Clean up\n",
    "<div class=\"alert alert-block alert-warning\">\n",
    "<b>Warning:</b> Please make sure to delete providsioned throughput with the following code as there will be cost incurred if it's left in running state, even if you are not using it. \n",
    "</div>"
   ]
  },
  {
   "cell_type": "code",
   "metadata": {
    "ExecuteTime": {
     "end_time": "2024-04-25T22:08:45.031563Z",
     "start_time": "2024-04-25T22:08:43.640099Z"
    }
   },
   "source": [
    "# delete the provisioned throughput\n",
    "bedrock.delete_provisioned_model_throughput(provisionedModelId=provisioned_model_id)"
   ],
   "outputs": [
    {
     "data": {
      "text/plain": [
       "{'ResponseMetadata': {'RequestId': 'd2f5659e-f57b-4a03-8bf6-4dab95af7c79',\n",
       "  'HTTPStatusCode': 200,\n",
       "  'HTTPHeaders': {'date': 'Thu, 25 Apr 2024 22:08:45 GMT',\n",
       "   'content-type': 'application/json',\n",
       "   'content-length': '2',\n",
       "   'connection': 'keep-alive',\n",
       "   'x-amzn-requestid': 'd2f5659e-f57b-4a03-8bf6-4dab95af7c79'},\n",
       "  'RetryAttempts': 0}}"
      ]
     },
     "execution_count": 24,
     "metadata": {},
     "output_type": "execute_result"
    }
   ],
   "execution_count": 24
  },
  {
   "cell_type": "markdown",
   "metadata": {},
   "source": [
    "<div class=\"alert alert-block alert-info\">\n",
    "<b>Note:</b> Please finish up the cleaning process by running 04_cleanup.ipynb to clean up the other resources. </div>"
   ]
  }
 ],
 "metadata": {
  "availableInstances": [
   {
    "_defaultOrder": 0,
    "_isFastLaunch": true,
    "category": "General purpose",
    "gpuNum": 0,
    "hideHardwareSpecs": false,
    "memoryGiB": 4,
    "name": "ml.t3.medium",
    "vcpuNum": 2
   },
   {
    "_defaultOrder": 1,
    "_isFastLaunch": false,
    "category": "General purpose",
    "gpuNum": 0,
    "hideHardwareSpecs": false,
    "memoryGiB": 8,
    "name": "ml.t3.large",
    "vcpuNum": 2
   },
   {
    "_defaultOrder": 2,
    "_isFastLaunch": false,
    "category": "General purpose",
    "gpuNum": 0,
    "hideHardwareSpecs": false,
    "memoryGiB": 16,
    "name": "ml.t3.xlarge",
    "vcpuNum": 4
   },
   {
    "_defaultOrder": 3,
    "_isFastLaunch": false,
    "category": "General purpose",
    "gpuNum": 0,
    "hideHardwareSpecs": false,
    "memoryGiB": 32,
    "name": "ml.t3.2xlarge",
    "vcpuNum": 8
   },
   {
    "_defaultOrder": 4,
    "_isFastLaunch": true,
    "category": "General purpose",
    "gpuNum": 0,
    "hideHardwareSpecs": false,
    "memoryGiB": 8,
    "name": "ml.m5.large",
    "vcpuNum": 2
   },
   {
    "_defaultOrder": 5,
    "_isFastLaunch": false,
    "category": "General purpose",
    "gpuNum": 0,
    "hideHardwareSpecs": false,
    "memoryGiB": 16,
    "name": "ml.m5.xlarge",
    "vcpuNum": 4
   },
   {
    "_defaultOrder": 6,
    "_isFastLaunch": false,
    "category": "General purpose",
    "gpuNum": 0,
    "hideHardwareSpecs": false,
    "memoryGiB": 32,
    "name": "ml.m5.2xlarge",
    "vcpuNum": 8
   },
   {
    "_defaultOrder": 7,
    "_isFastLaunch": false,
    "category": "General purpose",
    "gpuNum": 0,
    "hideHardwareSpecs": false,
    "memoryGiB": 64,
    "name": "ml.m5.4xlarge",
    "vcpuNum": 16
   },
   {
    "_defaultOrder": 8,
    "_isFastLaunch": false,
    "category": "General purpose",
    "gpuNum": 0,
    "hideHardwareSpecs": false,
    "memoryGiB": 128,
    "name": "ml.m5.8xlarge",
    "vcpuNum": 32
   },
   {
    "_defaultOrder": 9,
    "_isFastLaunch": false,
    "category": "General purpose",
    "gpuNum": 0,
    "hideHardwareSpecs": false,
    "memoryGiB": 192,
    "name": "ml.m5.12xlarge",
    "vcpuNum": 48
   },
   {
    "_defaultOrder": 10,
    "_isFastLaunch": false,
    "category": "General purpose",
    "gpuNum": 0,
    "hideHardwareSpecs": false,
    "memoryGiB": 256,
    "name": "ml.m5.16xlarge",
    "vcpuNum": 64
   },
   {
    "_defaultOrder": 11,
    "_isFastLaunch": false,
    "category": "General purpose",
    "gpuNum": 0,
    "hideHardwareSpecs": false,
    "memoryGiB": 384,
    "name": "ml.m5.24xlarge",
    "vcpuNum": 96
   },
   {
    "_defaultOrder": 12,
    "_isFastLaunch": false,
    "category": "General purpose",
    "gpuNum": 0,
    "hideHardwareSpecs": false,
    "memoryGiB": 8,
    "name": "ml.m5d.large",
    "vcpuNum": 2
   },
   {
    "_defaultOrder": 13,
    "_isFastLaunch": false,
    "category": "General purpose",
    "gpuNum": 0,
    "hideHardwareSpecs": false,
    "memoryGiB": 16,
    "name": "ml.m5d.xlarge",
    "vcpuNum": 4
   },
   {
    "_defaultOrder": 14,
    "_isFastLaunch": false,
    "category": "General purpose",
    "gpuNum": 0,
    "hideHardwareSpecs": false,
    "memoryGiB": 32,
    "name": "ml.m5d.2xlarge",
    "vcpuNum": 8
   },
   {
    "_defaultOrder": 15,
    "_isFastLaunch": false,
    "category": "General purpose",
    "gpuNum": 0,
    "hideHardwareSpecs": false,
    "memoryGiB": 64,
    "name": "ml.m5d.4xlarge",
    "vcpuNum": 16
   },
   {
    "_defaultOrder": 16,
    "_isFastLaunch": false,
    "category": "General purpose",
    "gpuNum": 0,
    "hideHardwareSpecs": false,
    "memoryGiB": 128,
    "name": "ml.m5d.8xlarge",
    "vcpuNum": 32
   },
   {
    "_defaultOrder": 17,
    "_isFastLaunch": false,
    "category": "General purpose",
    "gpuNum": 0,
    "hideHardwareSpecs": false,
    "memoryGiB": 192,
    "name": "ml.m5d.12xlarge",
    "vcpuNum": 48
   },
   {
    "_defaultOrder": 18,
    "_isFastLaunch": false,
    "category": "General purpose",
    "gpuNum": 0,
    "hideHardwareSpecs": false,
    "memoryGiB": 256,
    "name": "ml.m5d.16xlarge",
    "vcpuNum": 64
   },
   {
    "_defaultOrder": 19,
    "_isFastLaunch": false,
    "category": "General purpose",
    "gpuNum": 0,
    "hideHardwareSpecs": false,
    "memoryGiB": 384,
    "name": "ml.m5d.24xlarge",
    "vcpuNum": 96
   },
   {
    "_defaultOrder": 20,
    "_isFastLaunch": false,
    "category": "General purpose",
    "gpuNum": 0,
    "hideHardwareSpecs": true,
    "memoryGiB": 0,
    "name": "ml.geospatial.interactive",
    "supportedImageNames": [
     "sagemaker-geospatial-v1-0"
    ],
    "vcpuNum": 0
   },
   {
    "_defaultOrder": 21,
    "_isFastLaunch": true,
    "category": "Compute optimized",
    "gpuNum": 0,
    "hideHardwareSpecs": false,
    "memoryGiB": 4,
    "name": "ml.c5.large",
    "vcpuNum": 2
   },
   {
    "_defaultOrder": 22,
    "_isFastLaunch": false,
    "category": "Compute optimized",
    "gpuNum": 0,
    "hideHardwareSpecs": false,
    "memoryGiB": 8,
    "name": "ml.c5.xlarge",
    "vcpuNum": 4
   },
   {
    "_defaultOrder": 23,
    "_isFastLaunch": false,
    "category": "Compute optimized",
    "gpuNum": 0,
    "hideHardwareSpecs": false,
    "memoryGiB": 16,
    "name": "ml.c5.2xlarge",
    "vcpuNum": 8
   },
   {
    "_defaultOrder": 24,
    "_isFastLaunch": false,
    "category": "Compute optimized",
    "gpuNum": 0,
    "hideHardwareSpecs": false,
    "memoryGiB": 32,
    "name": "ml.c5.4xlarge",
    "vcpuNum": 16
   },
   {
    "_defaultOrder": 25,
    "_isFastLaunch": false,
    "category": "Compute optimized",
    "gpuNum": 0,
    "hideHardwareSpecs": false,
    "memoryGiB": 72,
    "name": "ml.c5.9xlarge",
    "vcpuNum": 36
   },
   {
    "_defaultOrder": 26,
    "_isFastLaunch": false,
    "category": "Compute optimized",
    "gpuNum": 0,
    "hideHardwareSpecs": false,
    "memoryGiB": 96,
    "name": "ml.c5.12xlarge",
    "vcpuNum": 48
   },
   {
    "_defaultOrder": 27,
    "_isFastLaunch": false,
    "category": "Compute optimized",
    "gpuNum": 0,
    "hideHardwareSpecs": false,
    "memoryGiB": 144,
    "name": "ml.c5.18xlarge",
    "vcpuNum": 72
   },
   {
    "_defaultOrder": 28,
    "_isFastLaunch": false,
    "category": "Compute optimized",
    "gpuNum": 0,
    "hideHardwareSpecs": false,
    "memoryGiB": 192,
    "name": "ml.c5.24xlarge",
    "vcpuNum": 96
   },
   {
    "_defaultOrder": 29,
    "_isFastLaunch": true,
    "category": "Accelerated computing",
    "gpuNum": 1,
    "hideHardwareSpecs": false,
    "memoryGiB": 16,
    "name": "ml.g4dn.xlarge",
    "vcpuNum": 4
   },
   {
    "_defaultOrder": 30,
    "_isFastLaunch": false,
    "category": "Accelerated computing",
    "gpuNum": 1,
    "hideHardwareSpecs": false,
    "memoryGiB": 32,
    "name": "ml.g4dn.2xlarge",
    "vcpuNum": 8
   },
   {
    "_defaultOrder": 31,
    "_isFastLaunch": false,
    "category": "Accelerated computing",
    "gpuNum": 1,
    "hideHardwareSpecs": false,
    "memoryGiB": 64,
    "name": "ml.g4dn.4xlarge",
    "vcpuNum": 16
   },
   {
    "_defaultOrder": 32,
    "_isFastLaunch": false,
    "category": "Accelerated computing",
    "gpuNum": 1,
    "hideHardwareSpecs": false,
    "memoryGiB": 128,
    "name": "ml.g4dn.8xlarge",
    "vcpuNum": 32
   },
   {
    "_defaultOrder": 33,
    "_isFastLaunch": false,
    "category": "Accelerated computing",
    "gpuNum": 4,
    "hideHardwareSpecs": false,
    "memoryGiB": 192,
    "name": "ml.g4dn.12xlarge",
    "vcpuNum": 48
   },
   {
    "_defaultOrder": 34,
    "_isFastLaunch": false,
    "category": "Accelerated computing",
    "gpuNum": 1,
    "hideHardwareSpecs": false,
    "memoryGiB": 256,
    "name": "ml.g4dn.16xlarge",
    "vcpuNum": 64
   },
   {
    "_defaultOrder": 35,
    "_isFastLaunch": false,
    "category": "Accelerated computing",
    "gpuNum": 1,
    "hideHardwareSpecs": false,
    "memoryGiB": 61,
    "name": "ml.p3.2xlarge",
    "vcpuNum": 8
   },
   {
    "_defaultOrder": 36,
    "_isFastLaunch": false,
    "category": "Accelerated computing",
    "gpuNum": 4,
    "hideHardwareSpecs": false,
    "memoryGiB": 244,
    "name": "ml.p3.8xlarge",
    "vcpuNum": 32
   },
   {
    "_defaultOrder": 37,
    "_isFastLaunch": false,
    "category": "Accelerated computing",
    "gpuNum": 8,
    "hideHardwareSpecs": false,
    "memoryGiB": 488,
    "name": "ml.p3.16xlarge",
    "vcpuNum": 64
   },
   {
    "_defaultOrder": 38,
    "_isFastLaunch": false,
    "category": "Accelerated computing",
    "gpuNum": 8,
    "hideHardwareSpecs": false,
    "memoryGiB": 768,
    "name": "ml.p3dn.24xlarge",
    "vcpuNum": 96
   },
   {
    "_defaultOrder": 39,
    "_isFastLaunch": false,
    "category": "Memory Optimized",
    "gpuNum": 0,
    "hideHardwareSpecs": false,
    "memoryGiB": 16,
    "name": "ml.r5.large",
    "vcpuNum": 2
   },
   {
    "_defaultOrder": 40,
    "_isFastLaunch": false,
    "category": "Memory Optimized",
    "gpuNum": 0,
    "hideHardwareSpecs": false,
    "memoryGiB": 32,
    "name": "ml.r5.xlarge",
    "vcpuNum": 4
   },
   {
    "_defaultOrder": 41,
    "_isFastLaunch": false,
    "category": "Memory Optimized",
    "gpuNum": 0,
    "hideHardwareSpecs": false,
    "memoryGiB": 64,
    "name": "ml.r5.2xlarge",
    "vcpuNum": 8
   },
   {
    "_defaultOrder": 42,
    "_isFastLaunch": false,
    "category": "Memory Optimized",
    "gpuNum": 0,
    "hideHardwareSpecs": false,
    "memoryGiB": 128,
    "name": "ml.r5.4xlarge",
    "vcpuNum": 16
   },
   {
    "_defaultOrder": 43,
    "_isFastLaunch": false,
    "category": "Memory Optimized",
    "gpuNum": 0,
    "hideHardwareSpecs": false,
    "memoryGiB": 256,
    "name": "ml.r5.8xlarge",
    "vcpuNum": 32
   },
   {
    "_defaultOrder": 44,
    "_isFastLaunch": false,
    "category": "Memory Optimized",
    "gpuNum": 0,
    "hideHardwareSpecs": false,
    "memoryGiB": 384,
    "name": "ml.r5.12xlarge",
    "vcpuNum": 48
   },
   {
    "_defaultOrder": 45,
    "_isFastLaunch": false,
    "category": "Memory Optimized",
    "gpuNum": 0,
    "hideHardwareSpecs": false,
    "memoryGiB": 512,
    "name": "ml.r5.16xlarge",
    "vcpuNum": 64
   },
   {
    "_defaultOrder": 46,
    "_isFastLaunch": false,
    "category": "Memory Optimized",
    "gpuNum": 0,
    "hideHardwareSpecs": false,
    "memoryGiB": 768,
    "name": "ml.r5.24xlarge",
    "vcpuNum": 96
   },
   {
    "_defaultOrder": 47,
    "_isFastLaunch": false,
    "category": "Accelerated computing",
    "gpuNum": 1,
    "hideHardwareSpecs": false,
    "memoryGiB": 16,
    "name": "ml.g5.xlarge",
    "vcpuNum": 4
   },
   {
    "_defaultOrder": 48,
    "_isFastLaunch": false,
    "category": "Accelerated computing",
    "gpuNum": 1,
    "hideHardwareSpecs": false,
    "memoryGiB": 32,
    "name": "ml.g5.2xlarge",
    "vcpuNum": 8
   },
   {
    "_defaultOrder": 49,
    "_isFastLaunch": false,
    "category": "Accelerated computing",
    "gpuNum": 1,
    "hideHardwareSpecs": false,
    "memoryGiB": 64,
    "name": "ml.g5.4xlarge",
    "vcpuNum": 16
   },
   {
    "_defaultOrder": 50,
    "_isFastLaunch": false,
    "category": "Accelerated computing",
    "gpuNum": 1,
    "hideHardwareSpecs": false,
    "memoryGiB": 128,
    "name": "ml.g5.8xlarge",
    "vcpuNum": 32
   },
   {
    "_defaultOrder": 51,
    "_isFastLaunch": false,
    "category": "Accelerated computing",
    "gpuNum": 1,
    "hideHardwareSpecs": false,
    "memoryGiB": 256,
    "name": "ml.g5.16xlarge",
    "vcpuNum": 64
   },
   {
    "_defaultOrder": 52,
    "_isFastLaunch": false,
    "category": "Accelerated computing",
    "gpuNum": 4,
    "hideHardwareSpecs": false,
    "memoryGiB": 192,
    "name": "ml.g5.12xlarge",
    "vcpuNum": 48
   },
   {
    "_defaultOrder": 53,
    "_isFastLaunch": false,
    "category": "Accelerated computing",
    "gpuNum": 4,
    "hideHardwareSpecs": false,
    "memoryGiB": 384,
    "name": "ml.g5.24xlarge",
    "vcpuNum": 96
   },
   {
    "_defaultOrder": 54,
    "_isFastLaunch": false,
    "category": "Accelerated computing",
    "gpuNum": 8,
    "hideHardwareSpecs": false,
    "memoryGiB": 768,
    "name": "ml.g5.48xlarge",
    "vcpuNum": 192
   },
   {
    "_defaultOrder": 55,
    "_isFastLaunch": false,
    "category": "Accelerated computing",
    "gpuNum": 8,
    "hideHardwareSpecs": false,
    "memoryGiB": 1152,
    "name": "ml.p4d.24xlarge",
    "vcpuNum": 96
   },
   {
    "_defaultOrder": 56,
    "_isFastLaunch": false,
    "category": "Accelerated computing",
    "gpuNum": 8,
    "hideHardwareSpecs": false,
    "memoryGiB": 1152,
    "name": "ml.p4de.24xlarge",
    "vcpuNum": 96
   },
   {
    "_defaultOrder": 57,
    "_isFastLaunch": false,
    "category": "Accelerated computing",
    "gpuNum": 0,
    "hideHardwareSpecs": false,
    "memoryGiB": 32,
    "name": "ml.trn1.2xlarge",
    "vcpuNum": 8
   },
   {
    "_defaultOrder": 58,
    "_isFastLaunch": false,
    "category": "Accelerated computing",
    "gpuNum": 0,
    "hideHardwareSpecs": false,
    "memoryGiB": 512,
    "name": "ml.trn1.32xlarge",
    "vcpuNum": 128
   },
   {
    "_defaultOrder": 59,
    "_isFastLaunch": false,
    "category": "Accelerated computing",
    "gpuNum": 0,
    "hideHardwareSpecs": false,
    "memoryGiB": 512,
    "name": "ml.trn1n.32xlarge",
    "vcpuNum": 128
   }
  ],
  "instance_type": "ml.c5.2xlarge",
  "kernelspec": {
   "display_name": "Python 3 (ipykernel)",
   "language": "python",
   "name": "python3"
  },
  "language_info": {
   "codemirror_mode": {
    "name": "ipython",
    "version": 3
   },
   "file_extension": ".py",
   "mimetype": "text/x-python",
   "name": "python",
   "nbconvert_exporter": "python",
   "pygments_lexer": "ipython3",
   "version": "3.10.6"
  }
 },
 "nbformat": 4,
 "nbformat_minor": 4
}
