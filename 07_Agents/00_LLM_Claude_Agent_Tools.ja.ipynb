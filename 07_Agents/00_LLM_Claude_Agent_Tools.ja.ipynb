{
 "cells": [
  {
   "cell_type": "markdown",
   "metadata": {},
   "source": [
    "## Langchain エージェントと Bedrock モデルの統合\n",
    "\n",
    "あるアプリケーションでは、ユーザの入力に応じて、言語モデルや様々なユーティリティの呼び出しシーケンスを適応させることが要求されます。エージェントインターフェースは、このようなアプリケーションに柔軟性を提供します。エージェントは様々なリソースを利用することができ、ユーザー入力に基づいて利用するリソースを選択します。エージェントは複数のツールを使用することができ、あるツールの出力を次のツールの入力として利用することができる。\n",
    "\n",
    "エージェントには、主に2つのカテゴリーがあります。:\n",
    "\n",
    "- アクションエージェント: 各インターバルで、すべての前のアクションの出力を利用して、次のアクションを決定する。\n",
    "- 計画実行型エージェント: 最初に行動の完全な順序を決定し、計画を更新することなくすべてを実行する。\n",
    "\n",
    "このノートブックでは、`plan-and-execute`エージェントと、`Zero-shot ReAct`アクションエージェントを使い、[`ReAct`](https://arxiv.org/pdf/2205.00445.pdf)フレームワークを使って、ツールの説明に基づいて適切なツールを選択するデモを行います。各ツールの説明を提供する必要があります。"
   ]
  },
  {
   "cell_type": "markdown",
   "metadata": {},
   "source": [
    "## セットアップ"
   ]
  },
  {
   "cell_type": "code",
   "execution_count": null,
   "metadata": {
    "tags": []
   },
   "outputs": [],
   "source": [
    "%pip install google-search-results"
   ]
  },
  {
   "cell_type": "code",
   "execution_count": null,
   "metadata": {
    "tags": []
   },
   "outputs": [],
   "source": [
    "import boto3\n",
    "import json\n",
    "import os\n",
    "import sys\n",
    "\n",
    "module_path = \"..\"\n",
    "sys.path.append(os.path.abspath(module_path))\n",
    "from utils import bedrock, print_ww\n",
    "\n",
    "os.environ['AWS_DEFAULT_REGION'] = 'us-east-1'\n",
    "os.environ['SERPAPI_API_KEY'] = '<SERPAPI_API_KEY>'\n",
    "boto3_bedrock = bedrock.get_bedrock_client(os.environ.get('BEDROCK_ASSUME_ROLE', None))"
   ]
  },
  {
   "cell_type": "code",
   "execution_count": null,
   "metadata": {
    "tags": []
   },
   "outputs": [],
   "source": [
    "model_parameter = {\"temperature\": 0.0, \"top_p\": .5, \"max_tokens_to_sample\": 2000}"
   ]
  },
  {
   "cell_type": "markdown",
   "metadata": {},
   "source": [
    "## ReAct を使う： 言語モデルフレームワークにおける推論と行動の相乗効果\n",
    "大規模な言語モデルは、推論に対する説明とタスクに特化した応答の両方を交互に生成することができます。\n",
    "\n",
    "推論説明を生成することで、モデルは行動計画を推論し、監視し、修正し、さらには予期しないシナリオを処理することができます。アクションステップでは、モデルが知識ベースや環境などの外部ソースとインターフェースし、情報を取得することができます。\n",
    "\n",
    "ReAct フレームワークは、大規模な言語モデルが外部ツールと相互作用することを可能にし、より正確で事実に基づいた回答をもたらす追加情報を得ることができます。"
   ]
  },
  {
   "cell_type": "code",
   "execution_count": null,
   "metadata": {
    "tags": []
   },
   "outputs": [],
   "source": [
    "from langchain.agents import load_tools\n",
    "from langchain.agents import initialize_agent, Tool\n",
    "from langchain.agents import AgentType\n",
    "from langchain.llms.bedrock import Bedrock\n",
    "from langchain import LLMMathChain\n",
    "from langchain.experimental.plan_and_execute import PlanAndExecute, load_agent_executor, load_chat_planner\n",
    "from langchain.utilities import SerpAPIWrapper"
   ]
  },
  {
   "cell_type": "code",
   "execution_count": null,
   "metadata": {
    "tags": []
   },
   "outputs": [],
   "source": [
    "llm = Bedrock(model_id=\"anthropic.claude-instant-v1\", client=boto3_bedrock, model_kwargs=model_parameter)\n",
    "\n",
    "tools = load_tools([\"serpapi\", \"llm-math\"], llm=llm)\n",
    "react_agent = initialize_agent(tools, llm, agent=AgentType.ZERO_SHOT_REACT_DESCRIPTION, verbose=True)\n",
    "question = \"Human: Only answer the question asked. <question> What is Amazon SageMaker? What is its launch year multiplied by 2? </question> Assistant: Launch year multiplied by 2:\"\n"
   ]
  },
  {
   "cell_type": "code",
   "execution_count": null,
   "metadata": {
    "tags": []
   },
   "outputs": [],
   "source": [
    "react_agent.run(question)"
   ]
  },
  {
   "cell_type": "markdown",
   "metadata": {},
   "source": [
    "## カスタムツール\n",
    "\n",
    "特定のアクションを実行するために、エージェント内に独自のツールを導入することができます。これらは、データベースのデータを検索したり、API 呼び出しを行ったりします。この例では、エージェントに代わって API 呼び出しを行うツールをスタブアウトします。簡単のために、コードはハードコードされた値を返しますが、独自の統合を作成するために試してみてください。\n",
    "\n",
    "以下の例では、グーグル検索（SerpAPI）と電卓（LLMMathChain）の2つの組み込みツールを取り込んでいます。また、4つのカスタムツールも追加しています。:\n",
    "**EC2Search**: タグ名を指定して EC2 インスタンスの検索をシミュレートする。\n",
    "**EC2Patch**: EC2 インスタンスへのパッチ適用をシミュレートする。\n",
    "**EC2Stop**: EC2 インスタンスのシャットダウンをシミュレートする。\n",
    "**ChangeRecord**: CMDB への変更レコードの書き込みをシミュレートします。\n",
    "\n",
    "この説明文が、どのような場合にそのツールを使うべきかという文脈を提供していることに注目してください。これは重要な要素です。LLM は、どのツール（もしあれば）が質問された問題を最もよく解決するかを判断するために使用します。一語一句一致させる必要はなく、どのツールが最適かをモデル化するために最善を尽くします。"
   ]
  },
  {
   "cell_type": "code",
   "execution_count": null,
   "metadata": {
    "tags": []
   },
   "outputs": [],
   "source": [
    "import json\n",
    "\n",
    "search = SerpAPIWrapper()\n",
    "llm_math_chain = LLMMathChain.from_llm(llm=llm, verbose=False)\n",
    "tools = load_tools([\"serpapi\", \"llm-math\"], llm=llm)\n",
    "tools.append(Tool.from_function(\n",
    "        name=\"EC2Search\",\n",
    "        func=lambda x: f\"['i-00000000000','i-00000000001','i-00000000002']\",  # モック関数、boto3 呼び出しに置き換える\n",
    "        description=\"Use this when you need to list EC2 instances in json. It takes a single parameter named tagname\"\n",
    "    ))\n",
    "tools.append(Tool.from_function(\n",
    "        name=\"EC2Patch\",\n",
    "        func=lambda x: f\"{len(x.split(','))} instances patched\",  # モック関数、boto3 呼び出しに置き換える\n",
    "        description=\"Use this when you need to patch EC2 instances\"\n",
    "    ))\n",
    "tools.append(Tool.from_function(\n",
    "        name=\"EC2Stop\",\n",
    "        func=lambda x: f\"{len(x.split(','))} instances stopped\",  # モック関数、boto3 呼び出しに置き換える\n",
    "        description=\"Use this when you need to stop EC2 instances\"\n",
    "    ))\n",
    "\n",
    "def record_change(x):\n",
    "    print(f\"*{x}*\")\n",
    "    j = json.loads(x[1:-1])\n",
    "    return f\"instance {j['instance']}. ACTION: {j['changeType']} recorded in CMDB\" # モック関数、API 呼び出しに置き換える\n",
    "\n",
    "tools.append(Tool.from_function(\n",
    "        name=\"ChangeRecord\",\n",
    "        func=record_change,  # モック関数、API 呼び出しに置き換える\n",
    "        description=\"Use this when you need to update a change record in CMDB. This takes in a json document as the parameter. The element named 'instance' contains the instance and the element named 'changeType' is the change type.\"\n",
    "    ))"
   ]
  },
  {
   "cell_type": "code",
   "execution_count": null,
   "metadata": {
    "tags": []
   },
   "outputs": [],
   "source": [
    "llm = Bedrock(model_id=\"anthropic.claude-instant-v1\", client=boto3_bedrock, model_kwargs=model_parameter)\n",
    "\n",
    "react_agent = initialize_agent(tools, llm, agent=AgentType.ZERO_SHOT_REACT_DESCRIPTION, verbose=True)\n",
    "\n",
    "question = \"\"\"Human: Please list my EC2 instances with the a tag delete. \n",
    "Next, patch each of the instances and record the patch change record in the CMDB with a change type of 'PATCH'. \n",
    "Finally, for each of the instances stop the instance and tell me how many were stopped. Assistant:\"\"\"\n",
    "\n",
    "result = react_agent.run(question)\n",
    "\n",
    "print(f\"{result}\")"
   ]
  },
  {
   "cell_type": "markdown",
   "metadata": {},
   "source": [
    "## ツールコードの生成\n",
    "GenAIを使ってツールのコードを生成できると思いますか？もちろんです！ただし、コードにはばらつきがあります。\n",
    "人間のレビューなしには実行できないかもしれません。\n",
    "\n",
    "次の例では、Claude が生成したコードを使用してツールを生成しています。上記の EC2Search ツールを boto3(Python) のコードに置き換えます。"
   ]
  },
  {
   "cell_type": "code",
   "execution_count": null,
   "metadata": {
    "tags": []
   },
   "outputs": [],
   "source": [
    "import xml.etree.ElementTree as ET\n",
    "from IPython.display import display, Markdown, Latex\n",
    "\n",
    "prompt_data = \"\"\"\n",
    "Human: You are an AI python code generator. You write really great code.\n",
    "\n",
    "Write a python function named list_tagged_instances with one parameter named tagname. \n",
    "\n",
    "The function queries the boto3 library to return a list all of the EC2 instances that have a tag equal to the tagname parameter. \n",
    "\n",
    "return the code inside <code></code>.\n",
    "Computer:\"\"\"\n",
    "\n",
    "body = json.dumps({\"prompt\": prompt_data, \"max_tokens_to_sample\": 500})\n",
    "modelId = \"anthropic.claude-instant-v1\"  \n",
    "accept = \"application/json\"\n",
    "contentType = \"application/json\"\n",
    "\n",
    "response = boto3_bedrock.invoke_model(\n",
    "    body=body, modelId=modelId, accept=accept, contentType=contentType\n",
    ")\n",
    "response_body = json.loads(response.get(\"body\").read())\n",
    "\n",
    "tree = ET.ElementTree(ET.fromstring(response_body.get(\"completion\")))\n",
    "python_code = tree.getroot().text\n",
    "\n",
    "display(Markdown(f'```{python_code}```'))\n",
    "\n",
    "exec(python_code)\n",
    "\n"
   ]
  },
  {
   "cell_type": "markdown",
   "metadata": {},
   "source": [
    "## コードの実行\n",
    "上記のコードが妥当であれば、それを使ってエージェントを実行することができる。\n",
    "\n",
    "**注意 - これを実行するには、このアカウントのEC2インスタンスに「delete」という名前のタグと、そのタグに任意の値を設定する必要があります。大文字小文字を区別するので、これを実行する前にEC2インスタンスを作成し、停止状態に設定しておきましょう。**"
   ]
  },
  {
   "cell_type": "code",
   "execution_count": null,
   "metadata": {
    "tags": []
   },
   "outputs": [],
   "source": [
    "for tool in tools:\n",
    "    if tool.name == \"EC2Search\":\n",
    "        tool.func = list_tagged_instances\n",
    "        \n",
    "llm = Bedrock(model_id=\"anthropic.claude-instant-v1\", client=boto3_bedrock, model_kwargs=model_parameter)\n",
    "\n",
    "react_agent = initialize_agent(tools, llm, agent=AgentType.ZERO_SHOT_REACT_DESCRIPTION, verbose=True)\n",
    "\n",
    "question = \"\"\"Human: Please list my EC2 instances with the a tag delete. \n",
    "Next, patch each of the instances and record the patch change record in the CMDB with a change type of 'PATCH'. \n",
    "Finally, for each of the instances stop the instance and tell me how many were stopped. Assistant:\"\"\"\n",
    "\n",
    "result = react_agent.run(question)\n",
    "\n",
    "print(f\"{result}\")"
   ]
  },
  {
   "cell_type": "markdown",
   "metadata": {},
   "source": [
    "## その他の種類 - 存在しないインスタンスを検索する\n",
    "プロンプトは、存在しないタグを持つEC2インスタンスを検索するように変わるので、インスタンスは返されないはずです。"
   ]
  },
  {
   "cell_type": "code",
   "execution_count": null,
   "metadata": {
    "tags": []
   },
   "outputs": [],
   "source": [
    "question = \"\"\"Human: Please list my EC2 instances with the a tag doesnotexist. \n",
    "Next, patch each of the instances and record the patch change record in the CMDB with a change type of 'PATCH'. \n",
    "Finally, for each of the instances stop the instance and tell me how many were stopped. Assistant:\"\"\"\n",
    "\n",
    "result = react_agent.run(question)\n",
    "\n",
    "print(f\"{result}\")"
   ]
  },
  {
   "cell_type": "markdown",
   "metadata": {},
   "source": [
    "## データベースツール\n",
    "エージェントの一般的な用途は、データベース内のレコードを検索することです。 完全なデータベースをコンテキストに含めることは現実的ではないため、会話的なインタラクションを維持しながら幻覚をなくすような、データベースに対するアクションを実行するツールを提供することができます。\n",
    "\n",
    "### SQL データベースエージェント\n",
    "Langachain には、DB に質問して答えを得る方法をデモンストレーションするための SQL Database エージェントがあります。 詳細については、このドキュメントを参照してください: https://python.langchain.com/docs/integrations/toolkits/sql_database\n",
    "\n",
    "エージェントは DB のスキーマをコンテキストにロードし、自然言語の質問に基づいて SQL ステートメントを生成します。 次に、SQL ステートメントがデータベースに対して実行され、結果が返されます。\n",
    "\n",
    "### データエージェント\n",
    "SQL データベースエージェントはデータ探索やクエリの生成に便利ですが、必要な場合もあります。\n",
    "特定のエンティティについては、データベースからデータを取得してプロンプトに次のステップのコンテキストを提供するツールを作成できます。\n",
    "\n",
    "以下の例では、customer テーブルの customer に対する DB クエリをシミュレートします。このコードを DynamoDB やリレーションデータベースのルックアップに置き換えてください。"
   ]
  },
  {
   "cell_type": "code",
   "execution_count": null,
   "metadata": {},
   "outputs": [],
   "source": [
    "customer_table=[\n",
    "  {\n",
    "    \"id\": 1, \n",
    "    \"first_name\": \"John\", \n",
    "    \"last_name\": \"Doe\",\n",
    "    \"age\": 35,\n",
    "    \"postal_code\": \"90210\"\n",
    "  },\n",
    "  {  \n",
    "    \"id\": 2,\n",
    "    \"first_name\": \"Jane\",\n",
    "    \"last_name\": \"Smith\", \n",
    "    \"age\": 27,\n",
    "    \"postal_code\": \"12345\"\n",
    "  },\n",
    "  {\n",
    "    \"id\": 3, \n",
    "    \"first_name\": \"Bob\",\n",
    "    \"last_name\": \"Jones\",\n",
    "    \"age\": 42,\n",
    "    \"postal_code\": \"55555\"\n",
    "  },\n",
    "  {\n",
    "    \"id\": 4,\n",
    "    \"first_name\": \"Sara\", \n",
    "    \"last_name\": \"Miller\",\n",
    "    \"age\": 29, \n",
    "    \"postal_code\": \"13579\"\n",
    "  },\n",
    "  {\n",
    "    \"id\": 5,\n",
    "    \"first_name\": \"Mark\",\n",
    "    \"last_name\": \"Davis\",\n",
    "    \"age\": 31,\n",
    "    \"postal_code\": \"02468\"\n",
    "  },\n",
    "  {\n",
    "    \"id\": 6,\n",
    "    \"first_name\": \"Laura\",\n",
    "    \"last_name\": \"Wilson\",\n",
    "    \"age\": 24,\n",
    "    \"postal_code\": \"98765\" \n",
    "  },\n",
    "  {\n",
    "    \"id\": 7,\n",
    "    \"first_name\": \"Steve\",\n",
    "    \"last_name\": \"Moore\",\n",
    "    \"age\": 36,\n",
    "    \"postal_code\": \"11223\"\n",
    "  },\n",
    "  {\n",
    "    \"id\": 8,\n",
    "    \"first_name\": \"Michelle\",\n",
    "    \"last_name\": \"Chen\",\n",
    "    \"age\": 22,\n",
    "    \"orders\": [\n",
    "        {\n",
    "            \"order_id\": 1,\n",
    "            \"description\": \"An order of 1 dozen pencils\"\n",
    "        },\n",
    "        {\n",
    "            \"order_id\": 2,\n",
    "            \"description\": \"An order of 2 markers\"\n",
    "        }\n",
    "    ],\n",
    "    \"postal_code\": \"33215\"\n",
    "  },\n",
    "  {\n",
    "    \"id\": 9,\n",
    "    \"first_name\": \"David\",\n",
    "    \"last_name\": \"Lee\",\n",
    "    \"age\": 29,\n",
    "    \"postal_code\": \"99567\"\n",
    "  },\n",
    "  {\n",
    "    \"id\": 10,\n",
    "    \"first_name\": \"Jessica\",\n",
    "    \"last_name\": \"Brown\",\n",
    "    \"age\": 18, \n",
    "    \"postal_code\": \"43210\"\n",
    "  }\n",
    "]\n",
    "\n",
    "def customer_lookup(id):\n",
    "    print(f\"search by customer {id}\")\n",
    "    for customer in customer_table:\n",
    "        if customer[\"id\"] == int(id):\n",
    "            print(f\"found customer {id} {customer}\")\n",
    "            return customer\n",
    "        \n",
    "    return None\n",
    "\n",
    "tools.append(Tool.from_function(\n",
    "        name=\"CustomerLookup\",\n",
    "        func=customer_lookup,  # Mock Function, replace with an api call\n",
    "        description=\"Use this when you need to lookup a customer by id.\"\n",
    "    ))"
   ]
  },
  {
   "cell_type": "code",
   "execution_count": null,
   "metadata": {
    "tags": []
   },
   "outputs": [],
   "source": [
    "react_agent = initialize_agent(tools, llm, agent=AgentType.ZERO_SHOT_REACT_DESCRIPTION, verbose=True)\n",
    "\n",
    "question = \"\"\"Human: write one sentence summary about the information you know about the customer with an id of 8.\n",
    "\n",
    "Assistant:\"\"\"\n",
    "\n",
    "result = react_agent.run(question)\n",
    "\n",
    "print(f\"{result}\")"
   ]
  },
  {
   "cell_type": "markdown",
   "metadata": {},
   "source": [
    "### (実験） - プラン・アンド・エグゼキューション・エージェントの使用\n",
    "計画・実行エージェントは、まず必要なサブタスクとステップを特定することによって行動計画を決定します。そして、目的が達成されるまで、それぞれのサブタスクを順番に実行することで、その計画を実行します。\n",
    "計画は常に大規模な言語モデルによって行われ、実行は通常、ツールを備えた別のエージェント（実行エージェント）によって行われます。\n",
    "計画と実行のエージェントは、継続的な集中と協調を必要とする複雑で長期的な目的を扱うのに最も適しています。効果的な戦略は、行動エージェントの応答性と計画・実行エージェントの熟慮的計画能力を統合することです。"
   ]
  },
  {
   "cell_type": "code",
   "execution_count": null,
   "metadata": {
    "tags": []
   },
   "outputs": [],
   "source": [
    "\n",
    "plan_llm = Bedrock(model_id=\"anthropic.claude-v1\", client=boto3_bedrock, model_kwargs=model_parameter)\n",
    "execute_llm = Bedrock(model_id=\"anthropic.claude-instant-v1\", client=boto3_bedrock, model_kwargs=model_parameter)"
   ]
  },
  {
   "cell_type": "code",
   "execution_count": null,
   "metadata": {
    "tags": []
   },
   "outputs": [],
   "source": [
    "search = SerpAPIWrapper()\n",
    "llm_math_chain = LLMMathChain.from_llm(llm=execute_llm, verbose=True)\n",
    "tools = [\n",
    "    Tool(\n",
    "        name = \"Search\",\n",
    "        func=search.run,\n",
    "        description=\"useful for when you need to answer questions about current events. You should ask targeted questions\"\n",
    "    ),\n",
    "    Tool(\n",
    "        name=\"Calculator\",\n",
    "        func=llm_math_chain.run,\n",
    "        description=\"useful for when you need to answer questions about math\"\n",
    "    )\n",
    "]"
   ]
  },
  {
   "cell_type": "code",
   "execution_count": null,
   "metadata": {
    "tags": []
   },
   "outputs": [],
   "source": [
    "planner = load_chat_planner(plan_llm)\n",
    "executor = load_agent_executor(execute_llm, tools, verbose=True)\n",
    "pae_agent = PlanAndExecute(planner=planner, executor=executor, verbose=True, max_iterations=1)"
   ]
  },
  {
   "cell_type": "code",
   "execution_count": null,
   "metadata": {
    "tags": []
   },
   "outputs": [],
   "source": [
    "pae_agent.run(\"What is Amazon SageMaker? What is its launch year multiplied by 2? Launch year multiplied by 2 is\")"
   ]
  },
  {
   "cell_type": "code",
   "execution_count": null,
   "metadata": {},
   "outputs": [],
   "source": []
  }
 ],
 "metadata": {
  "kernelspec": {
   "display_name": "Python 3 (ipykernel)",
   "language": "python",
   "name": "python3"
  },
  "language_info": {
   "codemirror_mode": {
    "name": "ipython",
    "version": 3
   },
   "file_extension": ".py",
   "mimetype": "text/x-python",
   "name": "python",
   "nbconvert_exporter": "python",
   "pygments_lexer": "ipython3",
   "version": "3.10.10"
  }
 },
 "nbformat": 4,
 "nbformat_minor": 4
}
