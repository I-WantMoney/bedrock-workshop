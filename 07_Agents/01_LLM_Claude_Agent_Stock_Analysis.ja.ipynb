{
 "cells": [
  {
   "attachments": {},
   "cell_type": "markdown",
   "metadata": {},
   "source": [
    "## Langchain エージェントと Bedrock モデルの統合\n",
    "### 金融株式分析システムの例\n",
    "\n",
    "**リファレンス**: https://medium.com/@pranav.kushare2001/an-ai-based-stock-analyzer-using-llm-and-langchain-7f8a62cbcaaa\n",
    "\n",
    "**注意:** ノートブック内のコードは、上記の参考リンクにある medium の投稿に基づいています。\n",
    "\n",
    "あるアプリケーションでは、ユーザの入力に応じて、言語モデルや様々なユーティリティの呼び出しシーケンスを適応させることが要求されます。エージェントインターフェースは、このようなアプリケーションに柔軟性を提供します。エージェントは様々なリソースを利用することができ、ユーザー入力に基づいて利用するリソースを選択します。エージェントは複数のツールを使用することができ、あるツールの出力を次のツールの入力として利用することができます。 \n",
    "\n",
    "エージェントには、主に2つのカテゴリーがあります。:\n",
    "\n",
    "- アクションエージェント: 各インターバルで、すべての前のアクションの出力を利用して、次のアクションを決定します。\n",
    "- 計画実行型エージェント: 最初に行動の完全な順序を決定し、計画を更新することなくすべてを実行します。\n",
    "\n",
    "このノートブックでは、[`ReAct`](https://arxiv.org/pdf/2205.00445.pdf)フレームワークに基づいた`Zero-shot ReAct`エージェントを使用して、ツールの説明のみに基づいて適切なツールを選択するデモンストレーションを行います。各ツールの説明を提供する必要があります。"
   ]
  },
  {
   "cell_type": "markdown",
   "metadata": {},
   "source": [
    "## アーキテクチャ\n",
    "![](./images/arch-agents.png)"
   ]
  },
  {
   "cell_type": "markdown",
   "metadata": {},
   "source": [
    "## セットアップ"
   ]
  },
  {
   "cell_type": "code",
   "execution_count": null,
   "metadata": {
    "tags": []
   },
   "outputs": [],
   "source": [
    "%pip install duckduckgo-search yfinance pandas_datareader langchain_experimental pysqlite3"
   ]
  },
  {
   "cell_type": "code",
   "execution_count": null,
   "metadata": {},
   "outputs": [],
   "source": [
    "import boto3\n",
    "import json\n",
    "import os\n",
    "import sys\n",
    "\n",
    "module_path = \"..\"\n",
    "sys.path.append(os.path.abspath(module_path))\n",
    "from utils import bedrock, print_ww\n",
    "\n",
    "os.environ['AWS_DEFAULT_REGION'] = 'us-east-1'\n",
    "boto3_bedrock = bedrock.get_bedrock_client(os.environ.get('BEDROCK_ASSUME_ROLE', None))"
   ]
  },
  {
   "cell_type": "code",
   "execution_count": null,
   "metadata": {},
   "outputs": [],
   "source": [
    "from langchain.llms.bedrock import Bedrock\n",
    "from typing import Optional, List, Any\n",
    "from langchain.callbacks.manager import CallbackManagerForLLMRun\n",
    "\n",
    "class BedrockModelWrapper(Bedrock):\n",
    "    def _call(\n",
    "        self,\n",
    "        prompt: str,\n",
    "        stop: Optional[List[str]] = None,\n",
    "        run_manager: Optional[CallbackManagerForLLMRun] = None,\n",
    "        **kwargs: Any,\n",
    "    ) -> str:\n",
    "        prompt = \"\\n\\nHuman: \" + prompt + \"\\n\\nAssistant:\"   ## Satisfy Bedrock-Claude prompt requirements\n",
    "        return super()._call(prompt, stop, run_manager, **kwargs)"
   ]
  },
  {
   "cell_type": "code",
   "execution_count": null,
   "metadata": {},
   "outputs": [],
   "source": [
    "\n",
    "model_parameter = {\"temperature\": 0.0, \"top_p\": .5, \"max_tokens_to_sample\": 2000}\n",
    "llm = BedrockModelWrapper(model_id=\"anthropic.claude-v2\", client=boto3_bedrock, model_kwargs=model_parameter)\n"
   ]
  },
  {
   "attachments": {},
   "cell_type": "markdown",
   "metadata": {},
   "source": [
    "## パート 1 - SQLite データベースにデータセットを準備する"
   ]
  },
  {
   "cell_type": "code",
   "execution_count": null,
   "metadata": {},
   "outputs": [],
   "source": [
    "## database\n",
    "stock_ticker_data=[ \n",
    "    {\n",
    "        \"symbol\" : \"PRAA\",\n",
    "        \"name\" : \"PRA Group, Inc.\",\n",
    "        \"currency\" : \"USD\",\n",
    "        \"stockExchange\" : \"NasdaqGS\",\n",
    "        \"exchangeShortName\" : \"NASDAQ\"\n",
    "    }, \n",
    "    {\n",
    "        \"symbol\" : \"AMZN\",\n",
    "        \"name\" : \"Amazon.com, Inc.\",\n",
    "        \"currency\" : \"USD\",\n",
    "        \"stockExchange\" : \"NasdaqGS\",\n",
    "        \"exchangeShortName\" : \"NASDAQ\"\n",
    "    }, \n",
    "    {\n",
    "        \"symbol\" : \"TSLA\",\n",
    "        \"name\" : \"Tesla Inc.\",\n",
    "        \"currency\" : \"USD\",\n",
    "        \"stockExchange\" : \"NasdaqGS\",\n",
    "        \"exchangeShortName\" : \"NASDAQ\"\n",
    "    }, \n",
    "    {\n",
    "        \"symbol\" : \"PAAS\",\n",
    "        \"name\" : \"Pan American Silver Corp.\",\n",
    "        \"currency\" : \"USD\",\n",
    "        \"stockExchange\" : \"NasdaqGS\",\n",
    "        \"exchangeShortName\" : \"NASDAQ\"\n",
    "    }, \n",
    "    {\n",
    "        \"symbol\" : \"PAAC\",\n",
    "        \"name\" : \"Proficient Alpha Acquisition Corp.\",\n",
    "        \"currency\" : \"USD\",\n",
    "        \"stockExchange\" : \"NasdaqCM\",\n",
    "        \"exchangeShortName\" : \"NASDAQ\"\n",
    "    }, \n",
    "    {\n",
    "        \"symbol\" : \"RYAAY\",\n",
    "        \"name\" : \"Ryanair Holdings plc\",\n",
    "        \"currency\" : \"USD\",\n",
    "        \"stockExchange\" : \"NasdaqGS\",\n",
    "        \"exchangeShortName\" : \"NASDAQ\"\n",
    "    }, \n",
    "    {\n",
    "        \"symbol\" : \"MPAA\",\n",
    "        \"name\" : \"Motorcar Parts of America, Inc.\",\n",
    "        \"currency\" : \"USD\",\n",
    "        \"stockExchange\" : \"NasdaqGS\",\n",
    "        \"exchangeShortName\" : \"NASDAQ\"\n",
    "    }, \n",
    "    {\n",
    "        \"symbol\" : \"STAA\",\n",
    "        \"name\" : \"STAAR Surgical Company\",\n",
    "        \"currency\" : \"USD\",\n",
    "        \"stockExchange\" : \"NasdaqGM\",\n",
    "        \"exchangeShortName\" : \"NASDAQ\"\n",
    "    }, \n",
    "    {\n",
    "        \"symbol\" : \"RBCAA\",\n",
    "        \"name\" : \"Republic Bancorp, Inc.\",\n",
    "        \"currency\" : \"USD\",\n",
    "        \"stockExchange\" : \"NasdaqGS\",\n",
    "        \"exchangeShortName\" : \"NASDAQ\"\n",
    "    }, \n",
    "    {\n",
    "        \"symbol\" : \"AABA\",\n",
    "        \"name\" : \"Altaba Inc.\",\n",
    "        \"currency\" : \"USD\",\n",
    "        \"stockExchange\" : \"NasdaqGS\",\n",
    "        \"exchangeShortName\" : \"NASDAQ\"    \n",
    "    }, \n",
    "    {\n",
    "        \"symbol\" : \"AAXJ\",\n",
    "        \"name\" : \"iShares MSCI All Country Asia ex Japan ETF\",\n",
    "        \"currency\" : \"USD\",\n",
    "        \"stockExchange\" : \"NasdaqGM\",\n",
    "        \"exchangeShortName\" : \"NASDAQ\"\n",
    "    }, \n",
    "    {\n",
    "        \"symbol\" : \"ZNWAA\",\n",
    "        \"name\" : \"Zion Oil & Gas, Inc.\",\n",
    "        \"currency\" : \"USD\",\n",
    "        \"stockExchange\" : \"NasdaqGM\",\n",
    "        \"exchangeShortName\" : \"NASDAQ\"\n",
    "    }\n",
    "]"
   ]
  },
  {
   "cell_type": "code",
   "execution_count": null,
   "metadata": {},
   "outputs": [],
   "source": [
    "import sqlite3\n",
    "def create_connection(db_file):\n",
    "    \"\"\" create a database connection to the SQLite database\n",
    "        specified by db_file\n",
    "    :param db_file: database file\n",
    "    :return: Connection object or None\n",
    "    \"\"\"\n",
    "    conn = None\n",
    "    try:\n",
    "        conn = sqlite3.connect(db_file)\n",
    "        return conn\n",
    "    except FileExistsError as e:\n",
    "        print(e)\n",
    "\n",
    "    return conn"
   ]
  },
  {
   "cell_type": "code",
   "execution_count": null,
   "metadata": {},
   "outputs": [],
   "source": [
    "def create_table(conn, create_table_sql):\n",
    "    \"\"\" create a table from the create_table_sql statement\n",
    "    :param conn: Connection object\n",
    "    :param create_table_sql: a CREATE TABLE statement\n",
    "    :return:\n",
    "    \"\"\"\n",
    "    try:\n",
    "        c = conn.cursor()\n",
    "        c.execute(create_table_sql)\n",
    "    except RuntimeError as e:\n",
    "        print(e)"
   ]
  },
  {
   "cell_type": "code",
   "execution_count": null,
   "metadata": {},
   "outputs": [],
   "source": [
    "db_name = \"stock_ticker_database.db\"\n",
    "conn = create_connection(db_name)"
   ]
  },
  {
   "cell_type": "code",
   "execution_count": null,
   "metadata": {},
   "outputs": [],
   "source": [
    "create_table_sql = \"\"\"CREATE TABLE IF NOT EXISTS stock_ticker (\n",
    "\tsymbol text PRIMARY KEY,\n",
    "\tname text NOT NULL,\n",
    "\tcurrency text,\n",
    "\tstockExchange text, \n",
    "    exchangeShortName text\n",
    ");\"\"\"\n"
   ]
  },
  {
   "cell_type": "code",
   "execution_count": null,
   "metadata": {},
   "outputs": [],
   "source": [
    "# テーブルを作る\n",
    "if conn is not None:\n",
    "    # プロジェクト・テーブルの作成\n",
    "    create_table(conn, create_table_sql)\n",
    "else:\n",
    "    print(\"Error! cannot create the database connection.\")\n"
   ]
  },
  {
   "cell_type": "code",
   "execution_count": null,
   "metadata": {},
   "outputs": [],
   "source": [
    "def insert_data(data):\n",
    "    for item in data:\n",
    "        conn.execute(\"INSERT INTO stock_ticker (symbol, name, currency,stockExchange, exchangeShortName ) VALUES (?, ?, ?, ?,?)\", \n",
    "                    (item[\"symbol\"], item[\"name\"], item[\"currency\"], item[\"stockExchange\"],item[\"exchangeShortName\"]))\n",
    "    conn.commit()\n",
    "    conn.close()"
   ]
  },
  {
   "cell_type": "code",
   "execution_count": null,
   "metadata": {},
   "outputs": [],
   "source": [
    "\n",
    "# テーブル内にデータが存在しない場合にデータを挿入するためにコメントを解除する。\n",
    "# insert_data(stock_ticker_database)"
   ]
  },
  {
   "attachments": {},
   "cell_type": "markdown",
   "metadata": {},
   "source": [
    "## パート 2 - データベースツール\n",
    "エージェントの一般的な使い方は、データベースのレコードを検索することです。データベース全体をコンテキストに含めることは現実的ではないので、会話的なインタラクションを維持しながら幻覚をなくすような、データベースに対するアクションを実行するツールを提供することができます。\n",
    "\n",
    "### SQL Database Agent\n",
    "Langachain には SQL Database エージェントがあり、DB に質問して回答を得る方法をデモしています。詳しくはこのドキュメントをお読みください。: https://python.langchain.com/docs/integrations/toolkits/sql_database\n",
    "\n",
    "エージェントは、DB のスキーマをコンテキストにロードし、自然言語の質問に基づいて SQL 文を生成します。SQL 文はデータベースに対して実行され、結果が返されます。\n",
    "\n",
    "### データエージェント\n",
    "SQL Database エージェントはデータ探索やクエリの生成に便利ですが、次のようなケースもあります。\n",
    "特定のエンティティに対して、データベースからデータを取得し、プロンプトの次のステップのコンテキストを提供するツールを作成することができます。\n",
    "\n",
    "以下の例では、customer テーブルの customer に対する DB クエリをシミュレートします。このコードを DynamoDB やリレーションデータベースのルックアップに置き換えてください。"
   ]
  },
  {
   "cell_type": "code",
   "execution_count": null,
   "metadata": {},
   "outputs": [],
   "source": [
    "from langchain.utilities import SQLDatabase\n",
    "from langchain_experimental.sql import SQLDatabaseChain"
   ]
  },
  {
   "cell_type": "code",
   "execution_count": null,
   "metadata": {},
   "outputs": [],
   "source": [
    "db = SQLDatabase.from_uri(\"sqlite:///stock_ticker_database.db\")\n"
   ]
  },
  {
   "cell_type": "code",
   "execution_count": null,
   "metadata": {},
   "outputs": [],
   "source": [
    "from langchain.prompts.prompt import PromptTemplate\n",
    "\n",
    "_DEFAULT_TEMPLATE = \"\"\"Human: Given an input question, first create a syntactically correct {dialect} query to run, then look at the results of the query and return the answer.\n",
    "<format>\n",
    "Question: \"Question here\"\n",
    "SQLQuery: \"SQL Query to run\"\n",
    "SQLResult: \"Result of the SQLQuery\"\n",
    "Answer: \"Result of SQLResult only\"\n",
    "</format>\n",
    "Assistant: Understood, I will use the above format and only provide the answer.\n",
    "\n",
    "Only use the following tables:\n",
    "<tables>\n",
    "CREATE TABLE stock_ticker (\n",
    "\tsymbol text PRIMARY KEY,\n",
    "\tname text NOT NULL,\n",
    "\tcurrency text,\n",
    "\tstockExchange text, \n",
    "    exchangeShortName text\n",
    ")\n",
    "</tables>\n",
    "\n",
    "If someone asks for the table stock ticker table, they really mean the stock_ticker table.\n",
    "<examples>\n",
    "Question: \n",
    "        What is the ticker symbol for Amazon in stock ticker table?\n",
    "        Params: \n",
    "        Company name (name): Amazon\n",
    "        \n",
    "SQLQuery:SELECT symbol FROM stock_ticker WHERE name LIKE '%Amazon%'\n",
    "\n",
    "</examples>\n",
    "\n",
    "Question: {input}\n",
    "\n",
    "\"\"\"\n",
    "\n",
    "PROMPT = PromptTemplate(\n",
    "    input_variables=[\"input\", \"dialect\"], template=_DEFAULT_TEMPLATE\n",
    ")"
   ]
  },
  {
   "cell_type": "code",
   "execution_count": null,
   "metadata": {},
   "outputs": [],
   "source": [
    "db_chain = SQLDatabaseChain.from_llm(\n",
    "    llm, \n",
    "    db, \n",
    "    verbose=True, \n",
    "    return_intermediate_steps=True, \n",
    "    prompt=PROMPT, \n",
    "    )\n",
    "response = db_chain(\"\\n\\nHuman: What is the ticker symbol for Tesla in stock ticker table? \\n\\nAssistant:\")\n"
   ]
  },
  {
   "cell_type": "code",
   "execution_count": null,
   "metadata": {},
   "outputs": [],
   "source": [
    "response['result']"
   ]
  },
  {
   "cell_type": "code",
   "execution_count": null,
   "metadata": {},
   "outputs": [],
   "source": [
    "print(response['intermediate_steps'][0]['input'])"
   ]
  },
  {
   "attachments": {},
   "cell_type": "markdown",
   "metadata": {},
   "source": [
    "## パート 3 - ReAct Agent から呼び出されるヘルパー関数。"
   ]
  },
  {
   "cell_type": "code",
   "execution_count": null,
   "metadata": {},
   "outputs": [],
   "source": [
    "import json\n",
    "import time\n",
    "from bs4 import BeautifulSoup\n",
    "import re\n",
    "import requests\n",
    "\n",
    "from langchain.agents import load_tools, AgentType, Tool, initialize_agent\n",
    "from pandas_datareader import data as pdr\n",
    "from datetime import date\n",
    "import yfinance as yf\n",
    "yf.pdr_override() \n",
    "import pandas as pd\n",
    "from datetime import datetime, timedelta\n",
    "\n",
    "import warnings\n",
    "import os\n",
    "warnings.filterwarnings(\"ignore\")\n",
    "\n",
    "def get_stock_price(ticker, history=10):\n",
    " print (ticker)\n",
    " today = date.today()\n",
    " start_date = today - timedelta(days=history)\n",
    " data = pdr.get_data_yahoo(ticker, start=start_date, end=today)\n",
    " dataname= ticker+'_'+str(today)\n",
    " return data, dataname\n",
    "\n",
    "# Fetch top 5 google news for given company name\n",
    "def google_query(search_term):\n",
    "    if \"news\" not in search_term:\n",
    "        search_term=search_term+\" stock news\"\n",
    "    url=f\"https://www.google.com/search?q={search_term}\"\n",
    "    url=re.sub(r\"\\s\",\"+\",url)\n",
    "    return url\n",
    "\n",
    "def get_recent_stock_news(company_name):\n",
    "    headers={'User-Agent': 'Mozilla/5.0 (Windows NT 10.0; Win64; x64) AppleWebKit/537.36 (KHTML, like Gecko) Chrome/102.0.0.0 Safari/537.36'}\n",
    "\n",
    "    g_query=google_query(company_name)\n",
    "    res=requests.get(g_query,headers=headers).text\n",
    "    soup=BeautifulSoup(res,\"html.parser\")\n",
    "    news=[]\n",
    "    for n in soup.find_all(\"div\",\"n0jPhd ynAwRc tNxQIb nDgy9d\"):\n",
    "        news.append(n.text)\n",
    "    for n in soup.find_all(\"div\",\"IJl0Z\"):\n",
    "        news.append(n.text)\n",
    "\n",
    "    if len(news)>6:\n",
    "        news=news[:4]\n",
    "    else:\n",
    "        news=news\n",
    "    news_string=\"\"\n",
    "    for i,n in enumerate(news):\n",
    "        news_string+=f\"{i}. {n}\\n\"\n",
    "    top5_news=\"Recent News:\\n\\n\"+news_string\n",
    "    \n",
    "    return top5_news\n",
    "\n",
    "\n",
    "# Get financial statements from Yahoo Finance\n",
    "def get_financial_statements(ticker):\n",
    "    if \".\" in ticker:\n",
    "        ticker=ticker.split(\".\")[0]\n",
    "    else:\n",
    "        ticker=ticker\n",
    "    company = yf.Ticker(ticker)\n",
    "    balance_sheet = company.balance_sheet\n",
    "    if balance_sheet.shape[1]>=3:\n",
    "        balance_sheet=balance_sheet.iloc[:,:3]    # Only captures last 3 years of data\n",
    "    balance_sheet=balance_sheet.dropna(how=\"any\")\n",
    "    balance_sheet = balance_sheet.to_string()\n",
    "    return balance_sheet\n",
    "\n",
    "def Anazlyze_stock(query):\n",
    "    Company_name,ticker=get_stock_ticker(query)\n",
    "    print({\"Query\":query,\"Company_name\":Company_name,\"Ticker\":ticker})\n",
    "    stock_data=get_stock_price(ticker,history=10)\n",
    "    stock_financials=get_financial_statements(ticker)\n",
    "    stock_news=get_recent_stock_news(Company_name)\n",
    "\n",
    "    available_information=f\"Stock Price: {stock_data}\\n\\nStock Financials: {stock_financials}\\n\\nStock News: {stock_news}\"\n",
    "    analysis=llm(f\"\"\"\\n\\nHuman: Give detail stock analysis, Use the available data and provide investment recommendation. \\\n",
    "             The user is fully aware about the investment risk, dont include any kind of warning like 'It is recommended to conduct further research and analysis or consult with a financial advisor before making an investment decision' in the answer \\\n",
    "             User question: {query} \\\n",
    "             You have the following information available about {Company_name}. Write (5-8) pointwise investment analysis to answer user query, At the end conclude with proper explaination.Try to Give positives and negatives  : \\\n",
    "              {available_information} \\\n",
    "                \\n\\nAssistant: \"\"\"\n",
    "             )\n",
    "    return analysis"
   ]
  },
  {
   "cell_type": "code",
   "execution_count": null,
   "metadata": {},
   "outputs": [],
   "source": [
    "# Uncomment to test individual functions before using it with the model.\n",
    "# print(get_stock_price(\"TSLA\"))\n",
    "# print(get_recent_stock_news(\"tesla\"))\n",
    "# print(get_financial_statements(\"TSLA\"))"
   ]
  },
  {
   "cell_type": "code",
   "execution_count": null,
   "metadata": {},
   "outputs": [],
   "source": [
    "# DuckDuckGoSearch code\n",
    "from langchain.tools import DuckDuckGoSearchRun\n",
    "search=DuckDuckGoSearchRun()\n",
    "\n",
    "search(\"Stock news USA\")\n"
   ]
  },
  {
   "attachments": {},
   "cell_type": "markdown",
   "metadata": {},
   "source": [
    "## パート 4 - ReAct を使う: 言語モデルフレームワークにおける推論と行動の相乗効果\n",
    "大規模な言語モデルは、推論に対する説明とタスクに特化した応答の両方を交互に生成することができます。\n",
    "\n",
    "推論説明を生成することで、モデルは行動計画を推論し、監視し、修正し、さらには予期しないシナリオを処理することができます。アクションステップでは、モデルが知識ベースや環境などの外部ソースとインターフェースし、情報を取得することができます。\n",
    "\n",
    "ReActフレームワークは、大規模な言語モデルが外部ツールと相互作用することを可能にし、より正確で事実に基づいた回答をもたらす追加情報を得ることができます。"
   ]
  },
  {
   "cell_type": "code",
   "execution_count": null,
   "metadata": {
    "tags": []
   },
   "outputs": [],
   "source": [
    "from langchain.agents import load_tools\n",
    "from langchain.agents import initialize_agent, Tool\n",
    "from langchain.agents import AgentType\n",
    "from langchain import LLMMathChain"
   ]
  },
  {
   "cell_type": "code",
   "execution_count": null,
   "metadata": {
    "tags": []
   },
   "outputs": [],
   "source": [
    "llm = BedrockModelWrapper(model_id=\"anthropic.claude-v2\", client=boto3_bedrock, model_kwargs=model_parameter)"
   ]
  },
  {
   "cell_type": "code",
   "execution_count": null,
   "metadata": {
    "tags": []
   },
   "outputs": [],
   "source": [
    "# ツールリストの作成\n",
    "\n",
    "tools=[\n",
    "    Tool(\n",
    "        name=\"get stock data\",\n",
    "        func=get_stock_price,\n",
    "        description=\"Use when you are asked to evaluate or analyze a stock. This will output historic share price data. You should input the the stock ticker to it \"\n",
    "    ),\n",
    "    Tool(\n",
    "        name=\"DuckDuckGo Search\",\n",
    "        func=search.run,\n",
    "        description=\"Use only when you need to get stock ticker from internet, you can also get recent stock related news. Dont use it for any other analysis or task\"\n",
    "    ),\n",
    "    Tool(\n",
    "        name=\"get recent news\",\n",
    "        func=get_recent_stock_news,\n",
    "        description=\"Use this to fetch recent news about stocks\"\n",
    "    ),\n",
    "\n",
    "    Tool(\n",
    "        name=\"get financial statements\",\n",
    "        func=get_financial_statements,\n",
    "        description=\"Use this to get financial statement of the company. With the help of this data companys historic performance can be evaluaated. You should input stock ticker to it\"\n",
    "    ) \n",
    "\n",
    "\n",
    "]"
   ]
  },
  {
   "cell_type": "code",
   "execution_count": null,
   "metadata": {},
   "outputs": [],
   "source": [
    "# Human:タグを使用するようにプロンプトを変更し、定義済みの評価ステップを追加する。\n",
    "\n",
    "updated_prompt=\"\"\"Human: You are a financial advisor. Give stock recommendations for given query based on following instructions. \n",
    "<instructions>\n",
    "Everytime first you should identify the company name and get the stock ticker symbol for the stock from the database.\n",
    "Answer the following questions as best you can. You have access to the following tools:\n",
    "\n",
    "get stock data: Use when you are asked to evaluate or analyze a stock. This will output historic share price data. You should input the the stock ticker to it\n",
    "DuckDuckGo Search: Use only to get recent stock related news. Dont use it for any other analysis or task\n",
    "get recent news: Use this to fetch recent news about stocks\n",
    "get financial statements: Use this to get financial statement of the company. With the help of this data companys historic performance can be evaluaated. You should input stock ticker to it\n",
    "</instructions>\n",
    "\n",
    "<steps>\n",
    "Note- if you fail in satisfying any of the step below, Just move to next one\n",
    "1) Get the company name and search for the \"company name + stock ticker\" in database. Dont hallucinate extract stock ticker as it is from the text. Output- stock ticker\n",
    "2) Use \"get stock data\" tool to gather stock info. Output- Stock data\n",
    "3) Get company's historic financial data using \"get financial statements\". Output- Financial statement\n",
    "4) Use this \"get recent news\" tool to search for latest stock realted news. Output- Stock news\n",
    "5) Analyze the stock based on gathered data and give detail analysis for investment choice. provide numbers and reasons to justify your answer. Output- Detailed stock Analysis\n",
    "</steps>\n",
    "\n",
    "Use the following format:\n",
    "Question: the input question you must answer\n",
    "Thought: you should always think about what to do, Also try to follow steps mentioned above\n",
    "Action: the action to take, should be one of [get stock data, DuckDuckGo Search, get recent news, get financial statements]\n",
    "Action Input: the input to the action\n",
    "Observation: the result of the action\n",
    "... (this Thought/Action/Action Input/Observation can repeat N times)\n",
    "Thought: I now know the final answer\n",
    "Final Answer: the final answer to the original input question\n",
    "\n",
    "Question: {input}\n",
    "\n",
    "Assistant:\n",
    "{agent_scratchpad}\n",
    "\n",
    "\"\"\"\n"
   ]
  },
  {
   "cell_type": "code",
   "execution_count": null,
   "metadata": {},
   "outputs": [],
   "source": [
    "from langchain.agents import initialize_agent \n",
    "\n",
    "zero_shot_agent=initialize_agent(\n",
    "    llm=llm,\n",
    "    agent=\"zero-shot-react-description\",\n",
    "    tools=tools,\n",
    "    verbose=True,\n",
    "    max_iteration=2,\n",
    "    return_intermediate_steps=True,\n",
    "    handle_parsing_errors=True,\n",
    ")\n",
    "\n",
    "zero_shot_agent.agent.llm_chain.prompt.template=updated_prompt"
   ]
  },
  {
   "cell_type": "code",
   "execution_count": null,
   "metadata": {},
   "outputs": [],
   "source": [
    "response = zero_shot_agent(\"\\n\\nHuman: Is Tesla a good investment choice right now? \\n\\nAssistant:\")"
   ]
  },
  {
   "cell_type": "code",
   "execution_count": null,
   "metadata": {},
   "outputs": [],
   "source": [
    "# 出力を表示\n",
    "print(response[\"output\"])"
   ]
  },
  {
   "cell_type": "code",
   "execution_count": null,
   "metadata": {},
   "outputs": [],
   "source": [
    "# 中間ステップを印刷する\n",
    "print(response[\"intermediate_steps\"])"
   ]
  }
 ],
 "metadata": {
  "kernelspec": {
   "display_name": "Python 3 (ipykernel)",
   "language": "python",
   "name": "python3"
  },
  "language_info": {
   "codemirror_mode": {
    "name": "ipython",
    "version": 3
   },
   "file_extension": ".py",
   "mimetype": "text/x-python",
   "name": "python",
   "nbconvert_exporter": "python",
   "pygments_lexer": "ipython3",
   "version": "3.10.5"
  }
 },
 "nbformat": 4,
 "nbformat_minor": 4
}
