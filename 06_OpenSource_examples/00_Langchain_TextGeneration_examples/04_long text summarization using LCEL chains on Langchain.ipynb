{
 "cells": [
  {
   "cell_type": "markdown",
   "id": "fded102b",
   "metadata": {},
   "source": [
    "# Long text summarization using LCEL chains on Langchain with Bedrock APIs\n",
    "\n",
    "> *This notebook should work well with the **`Data Science 3.0`** kernel in SageMaker Studio*"
   ]
  },
  {
   "cell_type": "markdown",
   "id": "fab8b2cf",
   "metadata": {},
   "source": [
    "## Overview\n",
    "When we work with large documents, we can face some challenges as the input text might not fit into the model context length, or the model hallucinates with large documents, or out of memory errors occur, etc.\n",
    "\n",
    "To solve those problems, we are going to go through a solution that is based on the concept of chunking and chaining prompts. This solution is leveraging [LangChain](https://python.langchain.com/docs/get_started/introduction.html) which is a popular open source framework for developing applications powered by language models.\n",
    "\n",
    "In this architecture:\n",
    "\n",
    "1. A large document (or a giant file appending small ones) is loaded\n",
    "2. A LangChain utility is used to split it into multiple smaller chunks (chunking)\n",
    "3. The first chunk is sent to the model; the model returns the corresponding summary\n",
    "4. LangChain gets next chunk and appends it to the returned summary and sends the combined text as a new request to the model; the process repeats until all chunks are processed\n",
    "5. In the end, you have final summary based on entire content\n",
    "\n",
    "### Use case\n",
    "This approach can be used to summarize call transcripts, meetings transcripts, books, articles, blog posts, and other relevant content."
   ]
  },
  {
   "cell_type": "markdown",
   "id": "36fec8d6-65c1-4427-9020-c4eeb56b4685",
   "metadata": {},
   "source": [
    "### Install the anthropic API For counting tokens"
   ]
  },
  {
   "cell_type": "code",
   "id": "bd26db29-c3f8-4f98-9705-b3d51bf9a771",
   "metadata": {
    "scrolled": true,
    "tags": [],
    "ExecuteTime": {
     "end_time": "2024-04-30T17:00:27.576824Z",
     "start_time": "2024-04-30T17:00:23.860700Z"
    }
   },
   "source": "%pip install -Uq anthropic",
   "outputs": [
    {
     "name": "stdout",
     "output_type": "stream",
     "text": [
      "Note: you may need to restart the kernel to use updated packages.\n"
     ]
    }
   ],
   "execution_count": 2
  },
  {
   "cell_type": "markdown",
   "id": "5fd5efa5-3662-424e-b2b0-a360c619c581",
   "metadata": {},
   "source": [
    "### Install Langchain pre-requisites"
   ]
  },
  {
   "cell_type": "code",
   "id": "84184874-fd90-435b-961b-97d71b6f543f",
   "metadata": {
    "tags": [],
    "ExecuteTime": {
     "end_time": "2024-04-30T17:03:54.917198Z",
     "start_time": "2024-04-30T17:02:57.859077Z"
    }
   },
   "source": [
    "%pip install -U --no-cache-dir boto3\n",
    "%pip install -U --no-cache-dir  \\\n",
    "    \"langchain>=0.1.11\" \\\n",
    "    langchain_aws==0.1.2 \\\n",
    "    sqlalchemy -U \\\n",
    "    \"faiss-cpu>=1.7,<2\" \\\n",
    "    \"pypdf>=3.8,<4\" \\\n",
    "    pinecone-client==2.2.4 \\\n",
    "    apache-beam==2.52. \\\n",
    "    tiktoken==0.5.2 \\\n",
    "    \"ipywidgets>=7,<8\" \\\n",
    "    matplotlib==3.8.2 \\\n",
    "    anthropic==0.9.0 # why is this being installed again?\n",
    "%pip install -U --no-cache-dir transformers"
   ],
   "outputs": [
    {
     "name": "stdout",
     "output_type": "stream",
     "text": [
      "Requirement already satisfied: boto3 in /Users/jicowan/PycharmProjects/amazon-bedrock-workshop/.venv/lib/python3.11/site-packages (1.34.92)\r\n",
      "Collecting boto3\r\n",
      "  Downloading boto3-1.34.94-py3-none-any.whl.metadata (6.6 kB)\r\n",
      "Collecting botocore<1.35.0,>=1.34.94 (from boto3)\r\n",
      "  Downloading botocore-1.34.94-py3-none-any.whl.metadata (5.7 kB)\r\n",
      "Requirement already satisfied: jmespath<2.0.0,>=0.7.1 in /Users/jicowan/PycharmProjects/amazon-bedrock-workshop/.venv/lib/python3.11/site-packages (from boto3) (1.0.1)\r\n",
      "Requirement already satisfied: s3transfer<0.11.0,>=0.10.0 in /Users/jicowan/PycharmProjects/amazon-bedrock-workshop/.venv/lib/python3.11/site-packages (from boto3) (0.10.1)\r\n",
      "Requirement already satisfied: python-dateutil<3.0.0,>=2.1 in /Users/jicowan/PycharmProjects/amazon-bedrock-workshop/.venv/lib/python3.11/site-packages (from botocore<1.35.0,>=1.34.94->boto3) (2.9.0.post0)\r\n",
      "Requirement already satisfied: urllib3!=2.2.0,<3,>=1.25.4 in /Users/jicowan/PycharmProjects/amazon-bedrock-workshop/.venv/lib/python3.11/site-packages (from botocore<1.35.0,>=1.34.94->boto3) (2.2.1)\r\n",
      "Requirement already satisfied: six>=1.5 in /Users/jicowan/PycharmProjects/amazon-bedrock-workshop/.venv/lib/python3.11/site-packages (from python-dateutil<3.0.0,>=2.1->botocore<1.35.0,>=1.34.94->boto3) (1.16.0)\r\n",
      "Downloading boto3-1.34.94-py3-none-any.whl (139 kB)\r\n",
      "\u001B[2K   \u001B[90m━━━━━━━━━━━━━━━━━━━━━━━━━━━━━━━━━━━━━━━━\u001B[0m \u001B[32m139.3/139.3 kB\u001B[0m \u001B[31m1.8 MB/s\u001B[0m eta \u001B[36m0:00:00\u001B[0m \u001B[36m0:00:01\u001B[0m\r\n",
      "\u001B[?25hDownloading botocore-1.34.94-py3-none-any.whl (12.2 MB)\r\n",
      "\u001B[2K   \u001B[90m━━━━━━━━━━━━━━━━━━━━━━━━━━━━━━━━━━━━━━━━\u001B[0m \u001B[32m12.2/12.2 MB\u001B[0m \u001B[31m13.6 MB/s\u001B[0m eta \u001B[36m0:00:00\u001B[0ma \u001B[36m0:00:01\u001B[0m\r\n",
      "\u001B[?25hInstalling collected packages: botocore, boto3\r\n",
      "  Attempting uninstall: botocore\r\n",
      "    Found existing installation: botocore 1.34.92\r\n",
      "    Uninstalling botocore-1.34.92:\r\n",
      "      Successfully uninstalled botocore-1.34.92\r\n",
      "  Attempting uninstall: boto3\r\n",
      "    Found existing installation: boto3 1.34.92\r\n",
      "    Uninstalling boto3-1.34.92:\r\n",
      "      Successfully uninstalled boto3-1.34.92\r\n",
      "\u001B[31mERROR: pip's dependency resolver does not currently take into account all the packages that are installed. This behaviour is the source of the following dependency conflicts.\r\n",
      "awscli 1.32.91 requires botocore==1.34.91, but you have botocore 1.34.94 which is incompatible.\u001B[0m\u001B[31m\r\n",
      "\u001B[0mSuccessfully installed boto3-1.34.94 botocore-1.34.94\r\n",
      "Note: you may need to restart the kernel to use updated packages.\n",
      "Requirement already satisfied: langchain>=0.1.11 in /Users/jicowan/PycharmProjects/amazon-bedrock-workshop/.venv/lib/python3.11/site-packages (0.1.16)\r\n",
      "Collecting langchain_aws==0.1.2\r\n",
      "  Downloading langchain_aws-0.1.2-py3-none-any.whl.metadata (2.4 kB)\r\n",
      "Requirement already satisfied: sqlalchemy in /Users/jicowan/PycharmProjects/amazon-bedrock-workshop/.venv/lib/python3.11/site-packages (2.0.29)\r\n",
      "Collecting faiss-cpu<2,>=1.7\r\n",
      "  Downloading faiss_cpu-1.8.0-cp311-cp311-macosx_10_14_x86_64.whl.metadata (3.6 kB)\r\n",
      "Collecting pypdf<4,>=3.8\r\n",
      "  Downloading pypdf-3.17.4-py3-none-any.whl.metadata (7.5 kB)\r\n",
      "Collecting pinecone-client==2.2.4\r\n",
      "  Downloading pinecone_client-2.2.4-py3-none-any.whl.metadata (7.8 kB)\r\n",
      "Collecting apache-beam==2.52.\r\n",
      "  Downloading apache_beam-2.52.0-cp311-cp311-macosx_10_9_x86_64.whl.metadata (6.3 kB)\r\n",
      "Collecting tiktoken==0.5.2\r\n",
      "  Downloading tiktoken-0.5.2-cp311-cp311-macosx_10_9_x86_64.whl.metadata (6.6 kB)\r\n",
      "Collecting ipywidgets<8,>=7\r\n",
      "  Downloading ipywidgets-7.8.1-py2.py3-none-any.whl.metadata (1.9 kB)\r\n",
      "Requirement already satisfied: matplotlib==3.8.2 in /Users/jicowan/PycharmProjects/amazon-bedrock-workshop/.venv/lib/python3.11/site-packages (3.8.2)\r\n",
      "Collecting anthropic==0.9.0\r\n",
      "  Downloading anthropic-0.9.0-py3-none-any.whl.metadata (13 kB)\r\n",
      "Requirement already satisfied: boto3<1.35.0,>=1.34.51 in /Users/jicowan/PycharmProjects/amazon-bedrock-workshop/.venv/lib/python3.11/site-packages (from langchain_aws==0.1.2) (1.34.94)\r\n",
      "Requirement already satisfied: langchain-core<0.2.0,>=0.1.45 in /Users/jicowan/PycharmProjects/amazon-bedrock-workshop/.venv/lib/python3.11/site-packages (from langchain_aws==0.1.2) (0.1.46)\r\n",
      "Requirement already satisfied: numpy<2,>=1 in /Users/jicowan/PycharmProjects/amazon-bedrock-workshop/.venv/lib/python3.11/site-packages (from langchain_aws==0.1.2) (1.26.4)\r\n",
      "Requirement already satisfied: requests>=2.19.0 in /Users/jicowan/PycharmProjects/amazon-bedrock-workshop/.venv/lib/python3.11/site-packages (from pinecone-client==2.2.4) (2.31.0)\r\n",
      "Requirement already satisfied: pyyaml>=5.4 in /Users/jicowan/PycharmProjects/amazon-bedrock-workshop/.venv/lib/python3.11/site-packages (from pinecone-client==2.2.4) (6.0.1)\r\n",
      "Collecting loguru>=0.5.0 (from pinecone-client==2.2.4)\r\n",
      "  Downloading loguru-0.7.2-py3-none-any.whl.metadata (23 kB)\r\n",
      "Requirement already satisfied: typing-extensions>=3.7.4 in /Users/jicowan/PycharmProjects/amazon-bedrock-workshop/.venv/lib/python3.11/site-packages (from pinecone-client==2.2.4) (4.11.0)\r\n",
      "Collecting dnspython>=2.0.0 (from pinecone-client==2.2.4)\r\n",
      "  Downloading dnspython-2.6.1-py3-none-any.whl.metadata (5.8 kB)\r\n",
      "Requirement already satisfied: python-dateutil>=2.5.3 in /Users/jicowan/PycharmProjects/amazon-bedrock-workshop/.venv/lib/python3.11/site-packages (from pinecone-client==2.2.4) (2.9.0.post0)\r\n",
      "Requirement already satisfied: urllib3>=1.21.1 in /Users/jicowan/PycharmProjects/amazon-bedrock-workshop/.venv/lib/python3.11/site-packages (from pinecone-client==2.2.4) (2.2.1)\r\n",
      "Requirement already satisfied: tqdm>=4.64.1 in /Users/jicowan/PycharmProjects/amazon-bedrock-workshop/.venv/lib/python3.11/site-packages (from pinecone-client==2.2.4) (4.66.2)\r\n",
      "Collecting crcmod<2.0,>=1.7 (from apache-beam==2.52.)\r\n",
      "  Downloading crcmod-1.7.tar.gz (89 kB)\r\n",
      "\u001B[2K     \u001B[90m━━━━━━━━━━━━━━━━━━━━━━━━━━━━━━━━━━━━━━━━\u001B[0m \u001B[32m89.7/89.7 kB\u001B[0m \u001B[31m3.4 MB/s\u001B[0m eta \u001B[36m0:00:00\u001B[0m\r\n",
      "\u001B[?25h  Preparing metadata (setup.py) ... \u001B[?25ldone\r\n",
      "\u001B[?25hRequirement already satisfied: orjson<4,>=3.9.7 in /Users/jicowan/PycharmProjects/amazon-bedrock-workshop/.venv/lib/python3.11/site-packages (from apache-beam==2.52.) (3.10.1)\r\n",
      "Collecting dill<0.3.2,>=0.3.1.1 (from apache-beam==2.52.)\r\n",
      "  Downloading dill-0.3.1.1.tar.gz (151 kB)\r\n",
      "\u001B[2K     \u001B[90m━━━━━━━━━━━━━━━━━━━━━━━━━━━━━━━━━━━━━━━\u001B[0m \u001B[32m152.0/152.0 kB\u001B[0m \u001B[31m8.4 MB/s\u001B[0m eta \u001B[36m0:00:00\u001B[0m\r\n",
      "\u001B[?25h  Preparing metadata (setup.py) ... \u001B[?25ldone\r\n",
      "\u001B[?25hCollecting cloudpickle~=2.2.1 (from apache-beam==2.52.)\r\n",
      "  Downloading cloudpickle-2.2.1-py3-none-any.whl.metadata (6.9 kB)\r\n",
      "Collecting fastavro<2,>=0.23.6 (from apache-beam==2.52.)\r\n",
      "  Downloading fastavro-1.9.4-cp311-cp311-macosx_10_9_universal2.whl.metadata (5.5 kB)\r\n",
      "Collecting fasteners<1.0,>=0.3 (from apache-beam==2.52.)\r\n",
      "  Downloading fasteners-0.19-py3-none-any.whl.metadata (4.9 kB)\r\n",
      "Collecting grpcio!=1.48.0,<2,>=1.33.1 (from apache-beam==2.52.)\r\n",
      "  Downloading grpcio-1.63.0-cp311-cp311-macosx_10_9_universal2.whl.metadata (3.2 kB)\r\n",
      "Collecting hdfs<3.0.0,>=2.1.0 (from apache-beam==2.52.)\r\n",
      "  Downloading hdfs-2.7.3.tar.gz (43 kB)\r\n",
      "\u001B[2K     \u001B[90m━━━━━━━━━━━━━━━━━━━━━━━━━━━━━━━━━━━━━━━\u001B[0m \u001B[32m43.5/43.5 kB\u001B[0m \u001B[31m132.2 MB/s\u001B[0m eta \u001B[36m0:00:00\u001B[0m\r\n",
      "\u001B[?25h  Preparing metadata (setup.py) ... \u001B[?25ldone\r\n",
      "\u001B[?25hCollecting httplib2<0.23.0,>=0.8 (from apache-beam==2.52.)\r\n",
      "  Downloading httplib2-0.22.0-py3-none-any.whl.metadata (2.6 kB)\r\n",
      "Collecting js2py<1,>=0.74 (from apache-beam==2.52.)\r\n",
      "  Downloading Js2Py-0.74-py3-none-any.whl.metadata (868 bytes)\r\n",
      "Requirement already satisfied: jsonschema<5.0.0,>=4.0.0 in /Users/jicowan/PycharmProjects/amazon-bedrock-workshop/.venv/lib/python3.11/site-packages (from apache-beam==2.52.) (4.21.1)\r\n",
      "Collecting numpy<2,>=1 (from langchain_aws==0.1.2)\r\n",
      "  Downloading numpy-1.24.4-cp311-cp311-macosx_10_9_x86_64.whl.metadata (5.6 kB)\r\n",
      "Collecting objsize<0.7.0,>=0.6.1 (from apache-beam==2.52.)\r\n",
      "  Downloading objsize-0.6.1-py3-none-any.whl.metadata (10 kB)\r\n",
      "Requirement already satisfied: packaging>=22.0 in /Users/jicowan/PycharmProjects/amazon-bedrock-workshop/.venv/lib/python3.11/site-packages (from apache-beam==2.52.) (23.2)\r\n",
      "Collecting pymongo<5.0.0,>=3.8.0 (from apache-beam==2.52.)\r\n",
      "  Downloading pymongo-4.7.1-cp311-cp311-macosx_10_9_x86_64.whl.metadata (22 kB)\r\n",
      "Collecting proto-plus<2,>=1.7.1 (from apache-beam==2.52.)\r\n",
      "  Downloading proto_plus-1.23.0-py3-none-any.whl.metadata (2.2 kB)\r\n",
      "Collecting protobuf!=4.0.*,!=4.21.*,!=4.22.0,!=4.23.*,!=4.24.*,<4.26.0,>=3.20.3 (from apache-beam==2.52.)\r\n",
      "  Downloading protobuf-4.25.3-cp37-abi3-macosx_10_9_universal2.whl.metadata (541 bytes)\r\n",
      "Collecting pydot<2,>=1.2.0 (from apache-beam==2.52.)\r\n",
      "  Downloading pydot-1.4.2-py2.py3-none-any.whl.metadata (8.0 kB)\r\n",
      "Requirement already satisfied: pytz>=2018.3 in /Users/jicowan/PycharmProjects/amazon-bedrock-workshop/.venv/lib/python3.11/site-packages (from apache-beam==2.52.) (2024.1)\r\n",
      "Requirement already satisfied: regex>=2020.6.8 in /Users/jicowan/PycharmProjects/amazon-bedrock-workshop/.venv/lib/python3.11/site-packages (from apache-beam==2.52.) (2024.4.16)\r\n",
      "Collecting zstandard<1,>=0.18.0 (from apache-beam==2.52.)\r\n",
      "  Downloading zstandard-0.22.0-cp311-cp311-macosx_10_9_x86_64.whl.metadata (2.9 kB)\r\n",
      "Collecting pyarrow<12.0.0,>=3.0.0 (from apache-beam==2.52.)\r\n",
      "  Downloading pyarrow-11.0.0-cp311-cp311-macosx_10_14_x86_64.whl.metadata (3.0 kB)\r\n",
      "Requirement already satisfied: pyarrow-hotfix<1 in /Users/jicowan/PycharmProjects/amazon-bedrock-workshop/.venv/lib/python3.11/site-packages (from apache-beam==2.52.) (0.6)\r\n",
      "Requirement already satisfied: contourpy>=1.0.1 in /Users/jicowan/PycharmProjects/amazon-bedrock-workshop/.venv/lib/python3.11/site-packages (from matplotlib==3.8.2) (1.2.1)\r\n",
      "Requirement already satisfied: cycler>=0.10 in /Users/jicowan/PycharmProjects/amazon-bedrock-workshop/.venv/lib/python3.11/site-packages (from matplotlib==3.8.2) (0.12.1)\r\n",
      "Requirement already satisfied: fonttools>=4.22.0 in /Users/jicowan/PycharmProjects/amazon-bedrock-workshop/.venv/lib/python3.11/site-packages (from matplotlib==3.8.2) (4.51.0)\r\n",
      "Requirement already satisfied: kiwisolver>=1.3.1 in /Users/jicowan/PycharmProjects/amazon-bedrock-workshop/.venv/lib/python3.11/site-packages (from matplotlib==3.8.2) (1.4.5)\r\n",
      "Requirement already satisfied: pillow>=8 in /Users/jicowan/PycharmProjects/amazon-bedrock-workshop/.venv/lib/python3.11/site-packages (from matplotlib==3.8.2) (10.3.0)\r\n",
      "Requirement already satisfied: pyparsing>=2.3.1 in /Users/jicowan/PycharmProjects/amazon-bedrock-workshop/.venv/lib/python3.11/site-packages (from matplotlib==3.8.2) (3.1.2)\r\n",
      "Requirement already satisfied: anyio<5,>=3.5.0 in /Users/jicowan/PycharmProjects/amazon-bedrock-workshop/.venv/lib/python3.11/site-packages (from anthropic==0.9.0) (4.3.0)\r\n",
      "Requirement already satisfied: distro<2,>=1.7.0 in /Users/jicowan/PycharmProjects/amazon-bedrock-workshop/.venv/lib/python3.11/site-packages (from anthropic==0.9.0) (1.9.0)\r\n",
      "Requirement already satisfied: httpx<1,>=0.23.0 in /Users/jicowan/PycharmProjects/amazon-bedrock-workshop/.venv/lib/python3.11/site-packages (from anthropic==0.9.0) (0.27.0)\r\n",
      "Requirement already satisfied: pydantic<3,>=1.9.0 in /Users/jicowan/PycharmProjects/amazon-bedrock-workshop/.venv/lib/python3.11/site-packages (from anthropic==0.9.0) (2.7.1)\r\n",
      "Requirement already satisfied: sniffio in /Users/jicowan/PycharmProjects/amazon-bedrock-workshop/.venv/lib/python3.11/site-packages (from anthropic==0.9.0) (1.3.1)\r\n",
      "Requirement already satisfied: tokenizers>=0.13.0 in /Users/jicowan/PycharmProjects/amazon-bedrock-workshop/.venv/lib/python3.11/site-packages (from anthropic==0.9.0) (0.19.1)\r\n",
      "Requirement already satisfied: aiohttp<4.0.0,>=3.8.3 in /Users/jicowan/PycharmProjects/amazon-bedrock-workshop/.venv/lib/python3.11/site-packages (from langchain>=0.1.11) (3.9.5)\r\n",
      "Requirement already satisfied: dataclasses-json<0.7,>=0.5.7 in /Users/jicowan/PycharmProjects/amazon-bedrock-workshop/.venv/lib/python3.11/site-packages (from langchain>=0.1.11) (0.6.4)\r\n",
      "Requirement already satisfied: jsonpatch<2.0,>=1.33 in /Users/jicowan/PycharmProjects/amazon-bedrock-workshop/.venv/lib/python3.11/site-packages (from langchain>=0.1.11) (1.33)\r\n",
      "Requirement already satisfied: langchain-community<0.1,>=0.0.32 in /Users/jicowan/PycharmProjects/amazon-bedrock-workshop/.venv/lib/python3.11/site-packages (from langchain>=0.1.11) (0.0.34)\r\n",
      "Requirement already satisfied: langchain-text-splitters<0.1,>=0.0.1 in /Users/jicowan/PycharmProjects/amazon-bedrock-workshop/.venv/lib/python3.11/site-packages (from langchain>=0.1.11) (0.0.1)\r\n",
      "Requirement already satisfied: langsmith<0.2.0,>=0.1.17 in /Users/jicowan/PycharmProjects/amazon-bedrock-workshop/.venv/lib/python3.11/site-packages (from langchain>=0.1.11) (0.1.51)\r\n",
      "Requirement already satisfied: tenacity<9.0.0,>=8.1.0 in /Users/jicowan/PycharmProjects/amazon-bedrock-workshop/.venv/lib/python3.11/site-packages (from langchain>=0.1.11) (8.2.3)\r\n",
      "Requirement already satisfied: greenlet!=0.4.17 in /Users/jicowan/PycharmProjects/amazon-bedrock-workshop/.venv/lib/python3.11/site-packages (from sqlalchemy) (3.0.3)\r\n",
      "Requirement already satisfied: comm>=0.1.3 in /Users/jicowan/PycharmProjects/amazon-bedrock-workshop/.venv/lib/python3.11/site-packages (from ipywidgets<8,>=7) (0.2.2)\r\n",
      "Collecting ipython-genutils~=0.2.0 (from ipywidgets<8,>=7)\r\n",
      "  Downloading ipython_genutils-0.2.0-py2.py3-none-any.whl.metadata (755 bytes)\r\n",
      "Requirement already satisfied: traitlets>=4.3.1 in /Users/jicowan/PycharmProjects/amazon-bedrock-workshop/.venv/lib/python3.11/site-packages (from ipywidgets<8,>=7) (5.14.3)\r\n",
      "Collecting widgetsnbextension~=3.6.6 (from ipywidgets<8,>=7)\r\n",
      "  Downloading widgetsnbextension-3.6.6-py2.py3-none-any.whl.metadata (1.3 kB)\r\n",
      "Requirement already satisfied: ipython>=4.0.0 in /Users/jicowan/PycharmProjects/amazon-bedrock-workshop/.venv/lib/python3.11/site-packages (from ipywidgets<8,>=7) (8.23.0)\r\n",
      "Collecting jupyterlab-widgets<3,>=1.0.0 (from ipywidgets<8,>=7)\r\n",
      "  Downloading jupyterlab_widgets-1.1.7-py3-none-any.whl.metadata (3.7 kB)\r\n",
      "Requirement already satisfied: aiosignal>=1.1.2 in /Users/jicowan/PycharmProjects/amazon-bedrock-workshop/.venv/lib/python3.11/site-packages (from aiohttp<4.0.0,>=3.8.3->langchain>=0.1.11) (1.3.1)\r\n",
      "Requirement already satisfied: attrs>=17.3.0 in /Users/jicowan/PycharmProjects/amazon-bedrock-workshop/.venv/lib/python3.11/site-packages (from aiohttp<4.0.0,>=3.8.3->langchain>=0.1.11) (23.2.0)\r\n",
      "Requirement already satisfied: frozenlist>=1.1.1 in /Users/jicowan/PycharmProjects/amazon-bedrock-workshop/.venv/lib/python3.11/site-packages (from aiohttp<4.0.0,>=3.8.3->langchain>=0.1.11) (1.4.1)\r\n",
      "Requirement already satisfied: multidict<7.0,>=4.5 in /Users/jicowan/PycharmProjects/amazon-bedrock-workshop/.venv/lib/python3.11/site-packages (from aiohttp<4.0.0,>=3.8.3->langchain>=0.1.11) (6.0.5)\r\n",
      "Requirement already satisfied: yarl<2.0,>=1.0 in /Users/jicowan/PycharmProjects/amazon-bedrock-workshop/.venv/lib/python3.11/site-packages (from aiohttp<4.0.0,>=3.8.3->langchain>=0.1.11) (1.9.4)\r\n",
      "Requirement already satisfied: idna>=2.8 in /Users/jicowan/PycharmProjects/amazon-bedrock-workshop/.venv/lib/python3.11/site-packages (from anyio<5,>=3.5.0->anthropic==0.9.0) (3.7)\r\n",
      "Requirement already satisfied: botocore<1.35.0,>=1.34.94 in /Users/jicowan/PycharmProjects/amazon-bedrock-workshop/.venv/lib/python3.11/site-packages (from boto3<1.35.0,>=1.34.51->langchain_aws==0.1.2) (1.34.94)\r\n",
      "Requirement already satisfied: jmespath<2.0.0,>=0.7.1 in /Users/jicowan/PycharmProjects/amazon-bedrock-workshop/.venv/lib/python3.11/site-packages (from boto3<1.35.0,>=1.34.51->langchain_aws==0.1.2) (1.0.1)\r\n",
      "Requirement already satisfied: s3transfer<0.11.0,>=0.10.0 in /Users/jicowan/PycharmProjects/amazon-bedrock-workshop/.venv/lib/python3.11/site-packages (from boto3<1.35.0,>=1.34.51->langchain_aws==0.1.2) (0.10.1)\r\n",
      "Requirement already satisfied: marshmallow<4.0.0,>=3.18.0 in /Users/jicowan/PycharmProjects/amazon-bedrock-workshop/.venv/lib/python3.11/site-packages (from dataclasses-json<0.7,>=0.5.7->langchain>=0.1.11) (3.21.1)\r\n",
      "Requirement already satisfied: typing-inspect<1,>=0.4.0 in /Users/jicowan/PycharmProjects/amazon-bedrock-workshop/.venv/lib/python3.11/site-packages (from dataclasses-json<0.7,>=0.5.7->langchain>=0.1.11) (0.9.0)\r\n",
      "Collecting docopt (from hdfs<3.0.0,>=2.1.0->apache-beam==2.52.)\r\n",
      "  Downloading docopt-0.6.2.tar.gz (25 kB)\r\n",
      "  Preparing metadata (setup.py) ... \u001B[?25ldone\r\n",
      "\u001B[?25hRequirement already satisfied: six>=1.9.0 in /Users/jicowan/PycharmProjects/amazon-bedrock-workshop/.venv/lib/python3.11/site-packages (from hdfs<3.0.0,>=2.1.0->apache-beam==2.52.) (1.16.0)\r\n",
      "Requirement already satisfied: certifi in /Users/jicowan/PycharmProjects/amazon-bedrock-workshop/.venv/lib/python3.11/site-packages (from httpx<1,>=0.23.0->anthropic==0.9.0) (2024.2.2)\r\n",
      "Requirement already satisfied: httpcore==1.* in /Users/jicowan/PycharmProjects/amazon-bedrock-workshop/.venv/lib/python3.11/site-packages (from httpx<1,>=0.23.0->anthropic==0.9.0) (1.0.5)\r\n",
      "Requirement already satisfied: h11<0.15,>=0.13 in /Users/jicowan/PycharmProjects/amazon-bedrock-workshop/.venv/lib/python3.11/site-packages (from httpcore==1.*->httpx<1,>=0.23.0->anthropic==0.9.0) (0.14.0)\r\n",
      "Requirement already satisfied: decorator in /Users/jicowan/PycharmProjects/amazon-bedrock-workshop/.venv/lib/python3.11/site-packages (from ipython>=4.0.0->ipywidgets<8,>=7) (5.1.1)\r\n",
      "Requirement already satisfied: jedi>=0.16 in /Users/jicowan/PycharmProjects/amazon-bedrock-workshop/.venv/lib/python3.11/site-packages (from ipython>=4.0.0->ipywidgets<8,>=7) (0.19.1)\r\n",
      "Requirement already satisfied: matplotlib-inline in /Users/jicowan/PycharmProjects/amazon-bedrock-workshop/.venv/lib/python3.11/site-packages (from ipython>=4.0.0->ipywidgets<8,>=7) (0.1.7)\r\n",
      "Requirement already satisfied: prompt-toolkit<3.1.0,>=3.0.41 in /Users/jicowan/PycharmProjects/amazon-bedrock-workshop/.venv/lib/python3.11/site-packages (from ipython>=4.0.0->ipywidgets<8,>=7) (3.0.43)\r\n",
      "Requirement already satisfied: pygments>=2.4.0 in /Users/jicowan/PycharmProjects/amazon-bedrock-workshop/.venv/lib/python3.11/site-packages (from ipython>=4.0.0->ipywidgets<8,>=7) (2.17.2)\r\n",
      "Requirement already satisfied: stack-data in /Users/jicowan/PycharmProjects/amazon-bedrock-workshop/.venv/lib/python3.11/site-packages (from ipython>=4.0.0->ipywidgets<8,>=7) (0.6.3)\r\n",
      "Requirement already satisfied: pexpect>4.3 in /Users/jicowan/PycharmProjects/amazon-bedrock-workshop/.venv/lib/python3.11/site-packages (from ipython>=4.0.0->ipywidgets<8,>=7) (4.9.0)\r\n",
      "Collecting tzlocal>=1.2 (from js2py<1,>=0.74->apache-beam==2.52.)\r\n",
      "  Downloading tzlocal-5.2-py3-none-any.whl.metadata (7.8 kB)\r\n",
      "Collecting pyjsparser>=2.5.1 (from js2py<1,>=0.74->apache-beam==2.52.)\r\n",
      "  Downloading pyjsparser-2.7.1.tar.gz (24 kB)\r\n",
      "  Preparing metadata (setup.py) ... \u001B[?25ldone\r\n",
      "\u001B[?25hRequirement already satisfied: jsonpointer>=1.9 in /Users/jicowan/PycharmProjects/amazon-bedrock-workshop/.venv/lib/python3.11/site-packages (from jsonpatch<2.0,>=1.33->langchain>=0.1.11) (2.4)\r\n",
      "Requirement already satisfied: jsonschema-specifications>=2023.03.6 in /Users/jicowan/PycharmProjects/amazon-bedrock-workshop/.venv/lib/python3.11/site-packages (from jsonschema<5.0.0,>=4.0.0->apache-beam==2.52.) (2023.12.1)\r\n",
      "Requirement already satisfied: referencing>=0.28.4 in /Users/jicowan/PycharmProjects/amazon-bedrock-workshop/.venv/lib/python3.11/site-packages (from jsonschema<5.0.0,>=4.0.0->apache-beam==2.52.) (0.34.0)\r\n",
      "Requirement already satisfied: rpds-py>=0.7.1 in /Users/jicowan/PycharmProjects/amazon-bedrock-workshop/.venv/lib/python3.11/site-packages (from jsonschema<5.0.0,>=4.0.0->apache-beam==2.52.) (0.18.0)\r\n",
      "Requirement already satisfied: annotated-types>=0.4.0 in /Users/jicowan/PycharmProjects/amazon-bedrock-workshop/.venv/lib/python3.11/site-packages (from pydantic<3,>=1.9.0->anthropic==0.9.0) (0.6.0)\r\n",
      "Requirement already satisfied: pydantic-core==2.18.2 in /Users/jicowan/PycharmProjects/amazon-bedrock-workshop/.venv/lib/python3.11/site-packages (from pydantic<3,>=1.9.0->anthropic==0.9.0) (2.18.2)\r\n",
      "Requirement already satisfied: charset-normalizer<4,>=2 in /Users/jicowan/PycharmProjects/amazon-bedrock-workshop/.venv/lib/python3.11/site-packages (from requests>=2.19.0->pinecone-client==2.2.4) (3.3.2)\r\n",
      "Requirement already satisfied: huggingface-hub<1.0,>=0.16.4 in /Users/jicowan/PycharmProjects/amazon-bedrock-workshop/.venv/lib/python3.11/site-packages (from tokenizers>=0.13.0->anthropic==0.9.0) (0.22.2)\r\n",
      "Requirement already satisfied: notebook>=4.4.1 in /Users/jicowan/PycharmProjects/amazon-bedrock-workshop/.venv/lib/python3.11/site-packages (from widgetsnbextension~=3.6.6->ipywidgets<8,>=7) (7.1.3)\r\n",
      "Requirement already satisfied: filelock in /Users/jicowan/PycharmProjects/amazon-bedrock-workshop/.venv/lib/python3.11/site-packages (from huggingface-hub<1.0,>=0.16.4->tokenizers>=0.13.0->anthropic==0.9.0) (3.13.4)\r\n",
      "Requirement already satisfied: fsspec>=2023.5.0 in /Users/jicowan/PycharmProjects/amazon-bedrock-workshop/.venv/lib/python3.11/site-packages (from huggingface-hub<1.0,>=0.16.4->tokenizers>=0.13.0->anthropic==0.9.0) (2024.3.1)\r\n",
      "Requirement already satisfied: parso<0.9.0,>=0.8.3 in /Users/jicowan/PycharmProjects/amazon-bedrock-workshop/.venv/lib/python3.11/site-packages (from jedi>=0.16->ipython>=4.0.0->ipywidgets<8,>=7) (0.8.4)\r\n",
      "Requirement already satisfied: jupyter-server<3,>=2.4.0 in /Users/jicowan/PycharmProjects/amazon-bedrock-workshop/.venv/lib/python3.11/site-packages (from notebook>=4.4.1->widgetsnbextension~=3.6.6->ipywidgets<8,>=7) (2.14.0)\r\n",
      "Requirement already satisfied: jupyterlab-server<3,>=2.22.1 in /Users/jicowan/PycharmProjects/amazon-bedrock-workshop/.venv/lib/python3.11/site-packages (from notebook>=4.4.1->widgetsnbextension~=3.6.6->ipywidgets<8,>=7) (2.27.1)\r\n",
      "Requirement already satisfied: jupyterlab<4.2,>=4.1.1 in /Users/jicowan/PycharmProjects/amazon-bedrock-workshop/.venv/lib/python3.11/site-packages (from notebook>=4.4.1->widgetsnbextension~=3.6.6->ipywidgets<8,>=7) (4.1.6)\r\n",
      "Requirement already satisfied: notebook-shim<0.3,>=0.2 in /Users/jicowan/PycharmProjects/amazon-bedrock-workshop/.venv/lib/python3.11/site-packages (from notebook>=4.4.1->widgetsnbextension~=3.6.6->ipywidgets<8,>=7) (0.2.4)\r\n",
      "Requirement already satisfied: tornado>=6.2.0 in /Users/jicowan/PycharmProjects/amazon-bedrock-workshop/.venv/lib/python3.11/site-packages (from notebook>=4.4.1->widgetsnbextension~=3.6.6->ipywidgets<8,>=7) (6.4)\r\n",
      "Requirement already satisfied: ptyprocess>=0.5 in /Users/jicowan/PycharmProjects/amazon-bedrock-workshop/.venv/lib/python3.11/site-packages (from pexpect>4.3->ipython>=4.0.0->ipywidgets<8,>=7) (0.7.0)\r\n",
      "Requirement already satisfied: wcwidth in /Users/jicowan/PycharmProjects/amazon-bedrock-workshop/.venv/lib/python3.11/site-packages (from prompt-toolkit<3.1.0,>=3.0.41->ipython>=4.0.0->ipywidgets<8,>=7) (0.2.13)\r\n",
      "Requirement already satisfied: mypy-extensions>=0.3.0 in /Users/jicowan/PycharmProjects/amazon-bedrock-workshop/.venv/lib/python3.11/site-packages (from typing-inspect<1,>=0.4.0->dataclasses-json<0.7,>=0.5.7->langchain>=0.1.11) (1.0.0)\r\n",
      "Requirement already satisfied: executing>=1.2.0 in /Users/jicowan/PycharmProjects/amazon-bedrock-workshop/.venv/lib/python3.11/site-packages (from stack-data->ipython>=4.0.0->ipywidgets<8,>=7) (2.0.1)\r\n",
      "Requirement already satisfied: asttokens>=2.1.0 in /Users/jicowan/PycharmProjects/amazon-bedrock-workshop/.venv/lib/python3.11/site-packages (from stack-data->ipython>=4.0.0->ipywidgets<8,>=7) (2.4.1)\r\n",
      "Requirement already satisfied: pure-eval in /Users/jicowan/PycharmProjects/amazon-bedrock-workshop/.venv/lib/python3.11/site-packages (from stack-data->ipython>=4.0.0->ipywidgets<8,>=7) (0.2.2)\r\n",
      "Requirement already satisfied: argon2-cffi>=21.1 in /Users/jicowan/PycharmProjects/amazon-bedrock-workshop/.venv/lib/python3.11/site-packages (from jupyter-server<3,>=2.4.0->notebook>=4.4.1->widgetsnbextension~=3.6.6->ipywidgets<8,>=7) (23.1.0)\r\n",
      "Requirement already satisfied: jinja2>=3.0.3 in /Users/jicowan/PycharmProjects/amazon-bedrock-workshop/.venv/lib/python3.11/site-packages (from jupyter-server<3,>=2.4.0->notebook>=4.4.1->widgetsnbextension~=3.6.6->ipywidgets<8,>=7) (3.1.3)\r\n",
      "Requirement already satisfied: jupyter-client>=7.4.4 in /Users/jicowan/PycharmProjects/amazon-bedrock-workshop/.venv/lib/python3.11/site-packages (from jupyter-server<3,>=2.4.0->notebook>=4.4.1->widgetsnbextension~=3.6.6->ipywidgets<8,>=7) (8.6.1)\r\n",
      "Requirement already satisfied: jupyter-core!=5.0.*,>=4.12 in /Users/jicowan/PycharmProjects/amazon-bedrock-workshop/.venv/lib/python3.11/site-packages (from jupyter-server<3,>=2.4.0->notebook>=4.4.1->widgetsnbextension~=3.6.6->ipywidgets<8,>=7) (5.7.2)\r\n",
      "Requirement already satisfied: jupyter-events>=0.9.0 in /Users/jicowan/PycharmProjects/amazon-bedrock-workshop/.venv/lib/python3.11/site-packages (from jupyter-server<3,>=2.4.0->notebook>=4.4.1->widgetsnbextension~=3.6.6->ipywidgets<8,>=7) (0.10.0)\r\n",
      "Requirement already satisfied: jupyter-server-terminals>=0.4.4 in /Users/jicowan/PycharmProjects/amazon-bedrock-workshop/.venv/lib/python3.11/site-packages (from jupyter-server<3,>=2.4.0->notebook>=4.4.1->widgetsnbextension~=3.6.6->ipywidgets<8,>=7) (0.5.3)\r\n",
      "Requirement already satisfied: nbconvert>=6.4.4 in /Users/jicowan/PycharmProjects/amazon-bedrock-workshop/.venv/lib/python3.11/site-packages (from jupyter-server<3,>=2.4.0->notebook>=4.4.1->widgetsnbextension~=3.6.6->ipywidgets<8,>=7) (7.16.3)\r\n",
      "Requirement already satisfied: nbformat>=5.3.0 in /Users/jicowan/PycharmProjects/amazon-bedrock-workshop/.venv/lib/python3.11/site-packages (from jupyter-server<3,>=2.4.0->notebook>=4.4.1->widgetsnbextension~=3.6.6->ipywidgets<8,>=7) (5.10.4)\r\n",
      "Requirement already satisfied: overrides>=5.0 in /Users/jicowan/PycharmProjects/amazon-bedrock-workshop/.venv/lib/python3.11/site-packages (from jupyter-server<3,>=2.4.0->notebook>=4.4.1->widgetsnbextension~=3.6.6->ipywidgets<8,>=7) (7.7.0)\r\n",
      "Requirement already satisfied: prometheus-client>=0.9 in /Users/jicowan/PycharmProjects/amazon-bedrock-workshop/.venv/lib/python3.11/site-packages (from jupyter-server<3,>=2.4.0->notebook>=4.4.1->widgetsnbextension~=3.6.6->ipywidgets<8,>=7) (0.20.0)\r\n",
      "Requirement already satisfied: pyzmq>=24 in /Users/jicowan/PycharmProjects/amazon-bedrock-workshop/.venv/lib/python3.11/site-packages (from jupyter-server<3,>=2.4.0->notebook>=4.4.1->widgetsnbextension~=3.6.6->ipywidgets<8,>=7) (26.0.2)\r\n",
      "Requirement already satisfied: send2trash>=1.8.2 in /Users/jicowan/PycharmProjects/amazon-bedrock-workshop/.venv/lib/python3.11/site-packages (from jupyter-server<3,>=2.4.0->notebook>=4.4.1->widgetsnbextension~=3.6.6->ipywidgets<8,>=7) (1.8.3)\r\n",
      "Requirement already satisfied: terminado>=0.8.3 in /Users/jicowan/PycharmProjects/amazon-bedrock-workshop/.venv/lib/python3.11/site-packages (from jupyter-server<3,>=2.4.0->notebook>=4.4.1->widgetsnbextension~=3.6.6->ipywidgets<8,>=7) (0.18.1)\r\n",
      "Requirement already satisfied: websocket-client>=1.7 in /Users/jicowan/PycharmProjects/amazon-bedrock-workshop/.venv/lib/python3.11/site-packages (from jupyter-server<3,>=2.4.0->notebook>=4.4.1->widgetsnbextension~=3.6.6->ipywidgets<8,>=7) (1.7.0)\r\n",
      "Requirement already satisfied: async-lru>=1.0.0 in /Users/jicowan/PycharmProjects/amazon-bedrock-workshop/.venv/lib/python3.11/site-packages (from jupyterlab<4.2,>=4.1.1->notebook>=4.4.1->widgetsnbextension~=3.6.6->ipywidgets<8,>=7) (2.0.4)\r\n",
      "Requirement already satisfied: ipykernel>=6.5.0 in /Users/jicowan/PycharmProjects/amazon-bedrock-workshop/.venv/lib/python3.11/site-packages (from jupyterlab<4.2,>=4.1.1->notebook>=4.4.1->widgetsnbextension~=3.6.6->ipywidgets<8,>=7) (6.29.4)\r\n",
      "Requirement already satisfied: jupyter-lsp>=2.0.0 in /Users/jicowan/PycharmProjects/amazon-bedrock-workshop/.venv/lib/python3.11/site-packages (from jupyterlab<4.2,>=4.1.1->notebook>=4.4.1->widgetsnbextension~=3.6.6->ipywidgets<8,>=7) (2.2.5)\r\n",
      "Requirement already satisfied: babel>=2.10 in /Users/jicowan/PycharmProjects/amazon-bedrock-workshop/.venv/lib/python3.11/site-packages (from jupyterlab-server<3,>=2.22.1->notebook>=4.4.1->widgetsnbextension~=3.6.6->ipywidgets<8,>=7) (2.14.0)\r\n",
      "Requirement already satisfied: json5>=0.9.0 in /Users/jicowan/PycharmProjects/amazon-bedrock-workshop/.venv/lib/python3.11/site-packages (from jupyterlab-server<3,>=2.22.1->notebook>=4.4.1->widgetsnbextension~=3.6.6->ipywidgets<8,>=7) (0.9.25)\r\n",
      "Requirement already satisfied: argon2-cffi-bindings in /Users/jicowan/PycharmProjects/amazon-bedrock-workshop/.venv/lib/python3.11/site-packages (from argon2-cffi>=21.1->jupyter-server<3,>=2.4.0->notebook>=4.4.1->widgetsnbextension~=3.6.6->ipywidgets<8,>=7) (21.2.0)\r\n",
      "Requirement already satisfied: appnope in /Users/jicowan/PycharmProjects/amazon-bedrock-workshop/.venv/lib/python3.11/site-packages (from ipykernel>=6.5.0->jupyterlab<4.2,>=4.1.1->notebook>=4.4.1->widgetsnbextension~=3.6.6->ipywidgets<8,>=7) (0.1.4)\r\n",
      "Requirement already satisfied: debugpy>=1.6.5 in /Users/jicowan/PycharmProjects/amazon-bedrock-workshop/.venv/lib/python3.11/site-packages (from ipykernel>=6.5.0->jupyterlab<4.2,>=4.1.1->notebook>=4.4.1->widgetsnbextension~=3.6.6->ipywidgets<8,>=7) (1.8.1)\r\n",
      "Requirement already satisfied: nest-asyncio in /Users/jicowan/PycharmProjects/amazon-bedrock-workshop/.venv/lib/python3.11/site-packages (from ipykernel>=6.5.0->jupyterlab<4.2,>=4.1.1->notebook>=4.4.1->widgetsnbextension~=3.6.6->ipywidgets<8,>=7) (1.6.0)\r\n",
      "Requirement already satisfied: psutil in /Users/jicowan/PycharmProjects/amazon-bedrock-workshop/.venv/lib/python3.11/site-packages (from ipykernel>=6.5.0->jupyterlab<4.2,>=4.1.1->notebook>=4.4.1->widgetsnbextension~=3.6.6->ipywidgets<8,>=7) (5.9.8)\r\n",
      "Requirement already satisfied: MarkupSafe>=2.0 in /Users/jicowan/PycharmProjects/amazon-bedrock-workshop/.venv/lib/python3.11/site-packages (from jinja2>=3.0.3->jupyter-server<3,>=2.4.0->notebook>=4.4.1->widgetsnbextension~=3.6.6->ipywidgets<8,>=7) (2.1.5)\r\n",
      "Requirement already satisfied: platformdirs>=2.5 in /Users/jicowan/PycharmProjects/amazon-bedrock-workshop/.venv/lib/python3.11/site-packages (from jupyter-core!=5.0.*,>=4.12->jupyter-server<3,>=2.4.0->notebook>=4.4.1->widgetsnbextension~=3.6.6->ipywidgets<8,>=7) (4.2.1)\r\n",
      "Requirement already satisfied: python-json-logger>=2.0.4 in /Users/jicowan/PycharmProjects/amazon-bedrock-workshop/.venv/lib/python3.11/site-packages (from jupyter-events>=0.9.0->jupyter-server<3,>=2.4.0->notebook>=4.4.1->widgetsnbextension~=3.6.6->ipywidgets<8,>=7) (2.0.7)\r\n",
      "Requirement already satisfied: rfc3339-validator in /Users/jicowan/PycharmProjects/amazon-bedrock-workshop/.venv/lib/python3.11/site-packages (from jupyter-events>=0.9.0->jupyter-server<3,>=2.4.0->notebook>=4.4.1->widgetsnbextension~=3.6.6->ipywidgets<8,>=7) (0.1.4)\r\n",
      "Requirement already satisfied: rfc3986-validator>=0.1.1 in /Users/jicowan/PycharmProjects/amazon-bedrock-workshop/.venv/lib/python3.11/site-packages (from jupyter-events>=0.9.0->jupyter-server<3,>=2.4.0->notebook>=4.4.1->widgetsnbextension~=3.6.6->ipywidgets<8,>=7) (0.1.1)\r\n",
      "Requirement already satisfied: beautifulsoup4 in /Users/jicowan/PycharmProjects/amazon-bedrock-workshop/.venv/lib/python3.11/site-packages (from nbconvert>=6.4.4->jupyter-server<3,>=2.4.0->notebook>=4.4.1->widgetsnbextension~=3.6.6->ipywidgets<8,>=7) (4.12.3)\r\n",
      "Requirement already satisfied: bleach!=5.0.0 in /Users/jicowan/PycharmProjects/amazon-bedrock-workshop/.venv/lib/python3.11/site-packages (from nbconvert>=6.4.4->jupyter-server<3,>=2.4.0->notebook>=4.4.1->widgetsnbextension~=3.6.6->ipywidgets<8,>=7) (6.1.0)\r\n",
      "Requirement already satisfied: defusedxml in /Users/jicowan/PycharmProjects/amazon-bedrock-workshop/.venv/lib/python3.11/site-packages (from nbconvert>=6.4.4->jupyter-server<3,>=2.4.0->notebook>=4.4.1->widgetsnbextension~=3.6.6->ipywidgets<8,>=7) (0.7.1)\r\n",
      "Requirement already satisfied: jupyterlab-pygments in /Users/jicowan/PycharmProjects/amazon-bedrock-workshop/.venv/lib/python3.11/site-packages (from nbconvert>=6.4.4->jupyter-server<3,>=2.4.0->notebook>=4.4.1->widgetsnbextension~=3.6.6->ipywidgets<8,>=7) (0.3.0)\r\n",
      "Requirement already satisfied: mistune<4,>=2.0.3 in /Users/jicowan/PycharmProjects/amazon-bedrock-workshop/.venv/lib/python3.11/site-packages (from nbconvert>=6.4.4->jupyter-server<3,>=2.4.0->notebook>=4.4.1->widgetsnbextension~=3.6.6->ipywidgets<8,>=7) (3.0.2)\r\n",
      "Requirement already satisfied: nbclient>=0.5.0 in /Users/jicowan/PycharmProjects/amazon-bedrock-workshop/.venv/lib/python3.11/site-packages (from nbconvert>=6.4.4->jupyter-server<3,>=2.4.0->notebook>=4.4.1->widgetsnbextension~=3.6.6->ipywidgets<8,>=7) (0.10.0)\r\n",
      "Requirement already satisfied: pandocfilters>=1.4.1 in /Users/jicowan/PycharmProjects/amazon-bedrock-workshop/.venv/lib/python3.11/site-packages (from nbconvert>=6.4.4->jupyter-server<3,>=2.4.0->notebook>=4.4.1->widgetsnbextension~=3.6.6->ipywidgets<8,>=7) (1.5.1)\r\n",
      "Requirement already satisfied: tinycss2 in /Users/jicowan/PycharmProjects/amazon-bedrock-workshop/.venv/lib/python3.11/site-packages (from nbconvert>=6.4.4->jupyter-server<3,>=2.4.0->notebook>=4.4.1->widgetsnbextension~=3.6.6->ipywidgets<8,>=7) (1.3.0)\r\n",
      "Requirement already satisfied: fastjsonschema>=2.15 in /Users/jicowan/PycharmProjects/amazon-bedrock-workshop/.venv/lib/python3.11/site-packages (from nbformat>=5.3.0->jupyter-server<3,>=2.4.0->notebook>=4.4.1->widgetsnbextension~=3.6.6->ipywidgets<8,>=7) (2.19.1)\r\n",
      "Requirement already satisfied: webencodings in /Users/jicowan/PycharmProjects/amazon-bedrock-workshop/.venv/lib/python3.11/site-packages (from bleach!=5.0.0->nbconvert>=6.4.4->jupyter-server<3,>=2.4.0->notebook>=4.4.1->widgetsnbextension~=3.6.6->ipywidgets<8,>=7) (0.5.1)\r\n",
      "Requirement already satisfied: fqdn in /Users/jicowan/PycharmProjects/amazon-bedrock-workshop/.venv/lib/python3.11/site-packages (from jsonschema[format-nongpl]>=4.18.0->jupyter-events>=0.9.0->jupyter-server<3,>=2.4.0->notebook>=4.4.1->widgetsnbextension~=3.6.6->ipywidgets<8,>=7) (1.5.1)\r\n",
      "Requirement already satisfied: isoduration in /Users/jicowan/PycharmProjects/amazon-bedrock-workshop/.venv/lib/python3.11/site-packages (from jsonschema[format-nongpl]>=4.18.0->jupyter-events>=0.9.0->jupyter-server<3,>=2.4.0->notebook>=4.4.1->widgetsnbextension~=3.6.6->ipywidgets<8,>=7) (20.11.0)\r\n",
      "Requirement already satisfied: uri-template in /Users/jicowan/PycharmProjects/amazon-bedrock-workshop/.venv/lib/python3.11/site-packages (from jsonschema[format-nongpl]>=4.18.0->jupyter-events>=0.9.0->jupyter-server<3,>=2.4.0->notebook>=4.4.1->widgetsnbextension~=3.6.6->ipywidgets<8,>=7) (1.3.0)\r\n",
      "Requirement already satisfied: webcolors>=1.11 in /Users/jicowan/PycharmProjects/amazon-bedrock-workshop/.venv/lib/python3.11/site-packages (from jsonschema[format-nongpl]>=4.18.0->jupyter-events>=0.9.0->jupyter-server<3,>=2.4.0->notebook>=4.4.1->widgetsnbextension~=3.6.6->ipywidgets<8,>=7) (1.13)\r\n",
      "Requirement already satisfied: cffi>=1.0.1 in /Users/jicowan/PycharmProjects/amazon-bedrock-workshop/.venv/lib/python3.11/site-packages (from argon2-cffi-bindings->argon2-cffi>=21.1->jupyter-server<3,>=2.4.0->notebook>=4.4.1->widgetsnbextension~=3.6.6->ipywidgets<8,>=7) (1.16.0)\r\n",
      "Requirement already satisfied: soupsieve>1.2 in /Users/jicowan/PycharmProjects/amazon-bedrock-workshop/.venv/lib/python3.11/site-packages (from beautifulsoup4->nbconvert>=6.4.4->jupyter-server<3,>=2.4.0->notebook>=4.4.1->widgetsnbextension~=3.6.6->ipywidgets<8,>=7) (2.5)\r\n",
      "Requirement already satisfied: pycparser in /Users/jicowan/PycharmProjects/amazon-bedrock-workshop/.venv/lib/python3.11/site-packages (from cffi>=1.0.1->argon2-cffi-bindings->argon2-cffi>=21.1->jupyter-server<3,>=2.4.0->notebook>=4.4.1->widgetsnbextension~=3.6.6->ipywidgets<8,>=7) (2.22)\r\n",
      "Requirement already satisfied: arrow>=0.15.0 in /Users/jicowan/PycharmProjects/amazon-bedrock-workshop/.venv/lib/python3.11/site-packages (from isoduration->jsonschema[format-nongpl]>=4.18.0->jupyter-events>=0.9.0->jupyter-server<3,>=2.4.0->notebook>=4.4.1->widgetsnbextension~=3.6.6->ipywidgets<8,>=7) (1.3.0)\r\n",
      "Requirement already satisfied: types-python-dateutil>=2.8.10 in /Users/jicowan/PycharmProjects/amazon-bedrock-workshop/.venv/lib/python3.11/site-packages (from arrow>=0.15.0->isoduration->jsonschema[format-nongpl]>=4.18.0->jupyter-events>=0.9.0->jupyter-server<3,>=2.4.0->notebook>=4.4.1->widgetsnbextension~=3.6.6->ipywidgets<8,>=7) (2.9.0.20240316)\r\n",
      "Downloading langchain_aws-0.1.2-py3-none-any.whl (34 kB)\r\n",
      "Downloading pinecone_client-2.2.4-py3-none-any.whl (179 kB)\r\n",
      "\u001B[2K   \u001B[90m━━━━━━━━━━━━━━━━━━━━━━━━━━━━━━━━━━━━━━━\u001B[0m \u001B[32m179.4/179.4 kB\u001B[0m \u001B[31m206.7 MB/s\u001B[0m eta \u001B[36m0:00:00\u001B[0m\r\n",
      "\u001B[?25hDownloading apache_beam-2.52.0-cp311-cp311-macosx_10_9_x86_64.whl (5.4 MB)\r\n",
      "\u001B[2K   \u001B[90m━━━━━━━━━━━━━━━━━━━━━━━━━━━━━━━━━━━━━━━━\u001B[0m \u001B[32m5.4/5.4 MB\u001B[0m \u001B[31m54.0 MB/s\u001B[0m eta \u001B[36m0:00:00\u001B[0ma \u001B[36m0:00:01\u001B[0m\r\n",
      "\u001B[?25hDownloading tiktoken-0.5.2-cp311-cp311-macosx_10_9_x86_64.whl (1.0 MB)\r\n",
      "\u001B[2K   \u001B[90m━━━━━━━━━━━━━━━━━━━━━━━━━━━━━━━━━━━━━━━━\u001B[0m \u001B[32m1.0/1.0 MB\u001B[0m \u001B[31m128.9 MB/s\u001B[0m eta \u001B[36m0:00:00\u001B[0m\r\n",
      "\u001B[?25hDownloading anthropic-0.9.0-py3-none-any.whl (826 kB)\r\n",
      "\u001B[2K   \u001B[90m━━━━━━━━━━━━━━━━━━━━━━━━━━━━━━━━━━━━━━━━\u001B[0m \u001B[32m826.9/826.9 kB\u001B[0m \u001B[31m92.8 MB/s\u001B[0m eta \u001B[36m0:00:00\u001B[0m\r\n",
      "\u001B[?25hDownloading faiss_cpu-1.8.0-cp311-cp311-macosx_10_14_x86_64.whl (7.3 MB)\r\n",
      "\u001B[2K   \u001B[90m━━━━━━━━━━━━━━━━━━━━━━━━━━━━━━━━━━━━━━━━\u001B[0m \u001B[32m7.3/7.3 MB\u001B[0m \u001B[31m119.8 MB/s\u001B[0m eta \u001B[36m0:00:00\u001B[0ma \u001B[36m0:00:01\u001B[0m\r\n",
      "\u001B[?25hDownloading pypdf-3.17.4-py3-none-any.whl (278 kB)\r\n",
      "\u001B[2K   \u001B[90m━━━━━━━━━━━━━━━━━━━━━━━━━━━━━━━━━━━━━━━\u001B[0m \u001B[32m278.2/278.2 kB\u001B[0m \u001B[31m149.5 MB/s\u001B[0m eta \u001B[36m0:00:00\u001B[0m\r\n",
      "\u001B[?25hDownloading ipywidgets-7.8.1-py2.py3-none-any.whl (124 kB)\r\n",
      "\u001B[2K   \u001B[90m━━━━━━━━━━━━━━━━━━━━━━━━━━━━━━━━━━━━━━━\u001B[0m \u001B[32m124.2/124.2 kB\u001B[0m \u001B[31m244.0 MB/s\u001B[0m eta \u001B[36m0:00:00\u001B[0m\r\n",
      "\u001B[?25hDownloading cloudpickle-2.2.1-py3-none-any.whl (25 kB)\r\n",
      "Downloading dnspython-2.6.1-py3-none-any.whl (307 kB)\r\n",
      "\u001B[2K   \u001B[90m━━━━━━━━━━━━━━━━━━━━━━━━━━━━━━━━━━━━━━━\u001B[0m \u001B[32m307.7/307.7 kB\u001B[0m \u001B[31m191.1 MB/s\u001B[0m eta \u001B[36m0:00:00\u001B[0m\r\n",
      "\u001B[?25hDownloading fastavro-1.9.4-cp311-cp311-macosx_10_9_universal2.whl (1.1 MB)\r\n",
      "\u001B[2K   \u001B[90m━━━━━━━━━━━━━━━━━━━━━━━━━━━━━━━━━━━━━━━━\u001B[0m \u001B[32m1.1/1.1 MB\u001B[0m \u001B[31m165.8 MB/s\u001B[0m eta \u001B[36m0:00:00\u001B[0m\r\n",
      "\u001B[?25hDownloading fasteners-0.19-py3-none-any.whl (18 kB)\r\n",
      "Downloading grpcio-1.63.0-cp311-cp311-macosx_10_9_universal2.whl (10.1 MB)\r\n",
      "\u001B[2K   \u001B[90m━━━━━━━━━━━━━━━━━━━━━━━━━━━━━━━━━━━━━━━━\u001B[0m \u001B[32m10.1/10.1 MB\u001B[0m \u001B[31m122.3 MB/s\u001B[0m eta \u001B[36m0:00:00\u001B[0m \u001B[36m0:00:01\u001B[0m\r\n",
      "\u001B[?25hDownloading httplib2-0.22.0-py3-none-any.whl (96 kB)\r\n",
      "\u001B[2K   \u001B[90m━━━━━━━━━━━━━━━━━━━━━━━━━━━━━━━━━━━━━━━━\u001B[0m \u001B[32m96.9/96.9 kB\u001B[0m \u001B[31m170.7 MB/s\u001B[0m eta \u001B[36m0:00:00\u001B[0m\r\n",
      "\u001B[?25hDownloading ipython_genutils-0.2.0-py2.py3-none-any.whl (26 kB)\r\n",
      "Downloading Js2Py-0.74-py3-none-any.whl (1.0 MB)\r\n",
      "\u001B[2K   \u001B[90m━━━━━━━━━━━━━━━━━━━━━━━━━━━━━━━━━━━━━━━━\u001B[0m \u001B[32m1.0/1.0 MB\u001B[0m \u001B[31m148.3 MB/s\u001B[0m eta \u001B[36m0:00:00\u001B[0m\r\n",
      "\u001B[?25hDownloading jupyterlab_widgets-1.1.7-py3-none-any.whl (295 kB)\r\n",
      "\u001B[2K   \u001B[90m━━━━━━━━━━━━━━━━━━━━━━━━━━━━━━━━━━━━━━━\u001B[0m \u001B[32m295.4/295.4 kB\u001B[0m \u001B[31m286.6 MB/s\u001B[0m eta \u001B[36m0:00:00\u001B[0m\r\n",
      "\u001B[?25hDownloading loguru-0.7.2-py3-none-any.whl (62 kB)\r\n",
      "\u001B[2K   \u001B[90m━━━━━━━━━━━━━━━━━━━━━━━━━━━━━━━━━━━━━━━━\u001B[0m \u001B[32m62.5/62.5 kB\u001B[0m \u001B[31m73.2 MB/s\u001B[0m eta \u001B[36m0:00:00\u001B[0m\r\n",
      "\u001B[?25hDownloading numpy-1.24.4-cp311-cp311-macosx_10_9_x86_64.whl (19.8 MB)\r\n",
      "\u001B[2K   \u001B[90m━━━━━━━━━━━━━━━━━━━━━━━━━━━━━━━━━━━━━━━━\u001B[0m \u001B[32m19.8/19.8 MB\u001B[0m \u001B[31m121.9 MB/s\u001B[0m eta \u001B[36m0:00:00\u001B[0ma \u001B[36m0:00:01\u001B[0m\r\n",
      "\u001B[?25hDownloading objsize-0.6.1-py3-none-any.whl (9.3 kB)\r\n",
      "Downloading proto_plus-1.23.0-py3-none-any.whl (48 kB)\r\n",
      "\u001B[2K   \u001B[90m━━━━━━━━━━━━━━━━━━━━━━━━━━━━━━━━━━━━━━━━\u001B[0m \u001B[32m48.8/48.8 kB\u001B[0m \u001B[31m93.9 MB/s\u001B[0m eta \u001B[36m0:00:00\u001B[0m\r\n",
      "\u001B[?25hDownloading protobuf-4.25.3-cp37-abi3-macosx_10_9_universal2.whl (394 kB)\r\n",
      "\u001B[2K   \u001B[90m━━━━━━━━━━━━━━━━━━━━━━━━━━━━━━━━━━━━━━━\u001B[0m \u001B[32m394.2/394.2 kB\u001B[0m \u001B[31m177.6 MB/s\u001B[0m eta \u001B[36m0:00:00\u001B[0m\r\n",
      "\u001B[?25hDownloading pyarrow-11.0.0-cp311-cp311-macosx_10_14_x86_64.whl (24.4 MB)\r\n",
      "\u001B[2K   \u001B[90m━━━━━━━━━━━━━━━━━━━━━━━━━━━━━━━━━━━━━━━━\u001B[0m \u001B[32m24.4/24.4 MB\u001B[0m \u001B[31m126.0 MB/s\u001B[0m eta \u001B[36m0:00:00\u001B[0ma \u001B[36m0:00:01\u001B[0m\r\n",
      "\u001B[?25hDownloading pydot-1.4.2-py2.py3-none-any.whl (21 kB)\r\n",
      "Downloading pymongo-4.7.1-cp311-cp311-macosx_10_9_x86_64.whl (486 kB)\r\n",
      "\u001B[2K   \u001B[90m━━━━━━━━━━━━━━━━━━━━━━━━━━━━━━━━━━━━━━━\u001B[0m \u001B[32m486.1/486.1 kB\u001B[0m \u001B[31m186.9 MB/s\u001B[0m eta \u001B[36m0:00:00\u001B[0m\r\n",
      "\u001B[?25hDownloading widgetsnbextension-3.6.6-py2.py3-none-any.whl (1.6 MB)\r\n",
      "\u001B[2K   \u001B[90m━━━━━━━━━━━━━━━━━━━━━━━━━━━━━━━━━━━━━━━━\u001B[0m \u001B[32m1.6/1.6 MB\u001B[0m \u001B[31m130.0 MB/s\u001B[0m eta \u001B[36m0:00:00\u001B[0m\r\n",
      "\u001B[?25hDownloading zstandard-0.22.0-cp311-cp311-macosx_10_9_x86_64.whl (921 kB)\r\n",
      "\u001B[2K   \u001B[90m━━━━━━━━━━━━━━━━━━━━━━━━━━━━━━━━━━━━━━━\u001B[0m \u001B[32m921.0/921.0 kB\u001B[0m \u001B[31m127.1 MB/s\u001B[0m eta \u001B[36m0:00:00\u001B[0m\r\n",
      "\u001B[?25hDownloading tzlocal-5.2-py3-none-any.whl (17 kB)\r\n",
      "Building wheels for collected packages: crcmod, dill, hdfs, pyjsparser, docopt\r\n",
      "  Building wheel for crcmod (setup.py) ... \u001B[?25ldone\r\n",
      "\u001B[?25h  Created wheel for crcmod: filename=crcmod-1.7-cp311-cp311-macosx_14_0_x86_64.whl size=22294 sha256=88ec9e098cb0a9c9d5158ef507399bfc9b882dcc6d3b496ead2f8c584dc8143a\r\n",
      "  Stored in directory: /private/var/folders/_g/g2gz77y921v1j1gkh9rv0wxh0000gr/T/pip-ephem-wheel-cache-t2bylf66/wheels/23/94/7a/8cb7d14597e6395ce969933f01aed9ea8fa5f5b4d4c8a61e99\r\n",
      "  Building wheel for dill (setup.py) ... \u001B[?25ldone\r\n",
      "\u001B[?25h  Created wheel for dill: filename=dill-0.3.1.1-py3-none-any.whl size=78542 sha256=9f42d95e575422de0cecd474b64a67f16ebe7610a87b33f77798bf9cfac2cbb7\r\n",
      "  Stored in directory: /private/var/folders/_g/g2gz77y921v1j1gkh9rv0wxh0000gr/T/pip-ephem-wheel-cache-t2bylf66/wheels/01/60/80/1622338bcecce31a5664ef01c203cc5a7b09f59588d9c07376\r\n",
      "  Building wheel for hdfs (setup.py) ... \u001B[?25ldone\r\n",
      "\u001B[?25h  Created wheel for hdfs: filename=hdfs-2.7.3-py3-none-any.whl size=34325 sha256=2cf41106ecde7ec50c2092c377cb3f1d7b2877fde9505b39138b582fac794d88\r\n",
      "  Stored in directory: /private/var/folders/_g/g2gz77y921v1j1gkh9rv0wxh0000gr/T/pip-ephem-wheel-cache-t2bylf66/wheels/b9/1d/dc/eb0833be25464c359903d356c4204721c6a672c26ff164cdc3\r\n",
      "  Building wheel for pyjsparser (setup.py) ... \u001B[?25ldone\r\n",
      "\u001B[?25h  Created wheel for pyjsparser: filename=pyjsparser-2.7.1-py3-none-any.whl size=25982 sha256=5a088bfa14b4c89c085d20e76e04379c16cde5c318a169d0cc8c6a25a5bb2cf2\r\n",
      "  Stored in directory: /private/var/folders/_g/g2gz77y921v1j1gkh9rv0wxh0000gr/T/pip-ephem-wheel-cache-t2bylf66/wheels/a5/9a/30/1003e89ab4555b81840ca46d361bf184f1e6ad880cae3b62a9\r\n",
      "  Building wheel for docopt (setup.py) ... \u001B[?25ldone\r\n",
      "\u001B[?25h  Created wheel for docopt: filename=docopt-0.6.2-py2.py3-none-any.whl size=13705 sha256=b829c7cf6707a780ff53963286479f8280c3bd39dba3ab62d490d2816a125ab0\r\n",
      "  Stored in directory: /private/var/folders/_g/g2gz77y921v1j1gkh9rv0wxh0000gr/T/pip-ephem-wheel-cache-t2bylf66/wheels/1a/b0/8c/4b75c4116c31f83c8f9f047231251e13cc74481cca4a78a9ce\r\n",
      "Successfully built crcmod dill hdfs pyjsparser docopt\r\n",
      "Installing collected packages: pyjsparser, ipython-genutils, docopt, crcmod, zstandard, tzlocal, pypdf, pydot, protobuf, objsize, numpy, loguru, jupyterlab-widgets, httplib2, grpcio, fasteners, fastavro, dnspython, dill, cloudpickle, tiktoken, pymongo, pyarrow, proto-plus, pinecone-client, js2py, hdfs, faiss-cpu, apache-beam, anthropic, langchain_aws, widgetsnbextension, ipywidgets\r\n",
      "  Attempting uninstall: pypdf\r\n",
      "    Found existing installation: pypdf 4.2.0\r\n",
      "    Uninstalling pypdf-4.2.0:\r\n",
      "      Successfully uninstalled pypdf-4.2.0\r\n",
      "  Attempting uninstall: numpy\r\n",
      "    Found existing installation: numpy 1.26.4\r\n",
      "    Uninstalling numpy-1.26.4:\r\n",
      "      Successfully uninstalled numpy-1.26.4\r\n",
      "  Attempting uninstall: jupyterlab-widgets\r\n",
      "    Found existing installation: jupyterlab_widgets 3.0.10\r\n",
      "    Uninstalling jupyterlab_widgets-3.0.10:\r\n",
      "      Successfully uninstalled jupyterlab_widgets-3.0.10\r\n",
      "  Attempting uninstall: dill\r\n",
      "    Found existing installation: dill 0.3.8\r\n",
      "    Uninstalling dill-0.3.8:\r\n",
      "      Successfully uninstalled dill-0.3.8\r\n",
      "  Attempting uninstall: pyarrow\r\n",
      "    Found existing installation: pyarrow 16.0.0\r\n",
      "    Uninstalling pyarrow-16.0.0:\r\n",
      "      Successfully uninstalled pyarrow-16.0.0\r\n",
      "  Attempting uninstall: anthropic\r\n",
      "    Found existing installation: anthropic 0.25.7\r\n",
      "    Uninstalling anthropic-0.25.7:\r\n",
      "      Successfully uninstalled anthropic-0.25.7\r\n",
      "  Attempting uninstall: langchain_aws\r\n",
      "    Found existing installation: langchain-aws 0.1.0\r\n",
      "    Uninstalling langchain-aws-0.1.0:\r\n",
      "      Successfully uninstalled langchain-aws-0.1.0\r\n",
      "  Attempting uninstall: widgetsnbextension\r\n",
      "    Found existing installation: widgetsnbextension 4.0.10\r\n",
      "    Uninstalling widgetsnbextension-4.0.10:\r\n",
      "      Successfully uninstalled widgetsnbextension-4.0.10\r\n",
      "  Attempting uninstall: ipywidgets\r\n",
      "    Found existing installation: ipywidgets 8.1.2\r\n",
      "    Uninstalling ipywidgets-8.1.2:\r\n",
      "      Successfully uninstalled ipywidgets-8.1.2\r\n",
      "\u001B[31mERROR: pip's dependency resolver does not currently take into account all the packages that are installed. This behaviour is the source of the following dependency conflicts.\r\n",
      "multiprocess 0.70.16 requires dill>=0.3.8, but you have dill 0.3.1.1 which is incompatible.\r\n",
      "datasets 2.19.0 requires pyarrow>=12.0.0, but you have pyarrow 11.0.0 which is incompatible.\u001B[0m\u001B[31m\r\n",
      "\u001B[0mSuccessfully installed anthropic-0.9.0 apache-beam-2.52.0 cloudpickle-2.2.1 crcmod-1.7 dill-0.3.1.1 dnspython-2.6.1 docopt-0.6.2 faiss-cpu-1.8.0 fastavro-1.9.4 fasteners-0.19 grpcio-1.63.0 hdfs-2.7.3 httplib2-0.22.0 ipython-genutils-0.2.0 ipywidgets-7.8.1 js2py-0.74 jupyterlab-widgets-1.1.7 langchain_aws-0.1.2 loguru-0.7.2 numpy-1.24.4 objsize-0.6.1 pinecone-client-2.2.4 proto-plus-1.23.0 protobuf-4.25.3 pyarrow-11.0.0 pydot-1.4.2 pyjsparser-2.7.1 pymongo-4.7.1 pypdf-3.17.4 tiktoken-0.5.2 tzlocal-5.2 widgetsnbextension-3.6.6 zstandard-0.22.0\r\n",
      "Note: you may need to restart the kernel to use updated packages.\n",
      "Requirement already satisfied: transformers in /Users/jicowan/PycharmProjects/amazon-bedrock-workshop/.venv/lib/python3.11/site-packages (4.40.1)\r\n",
      "Requirement already satisfied: filelock in /Users/jicowan/PycharmProjects/amazon-bedrock-workshop/.venv/lib/python3.11/site-packages (from transformers) (3.13.4)\r\n",
      "Requirement already satisfied: huggingface-hub<1.0,>=0.19.3 in /Users/jicowan/PycharmProjects/amazon-bedrock-workshop/.venv/lib/python3.11/site-packages (from transformers) (0.22.2)\r\n",
      "Requirement already satisfied: numpy>=1.17 in /Users/jicowan/PycharmProjects/amazon-bedrock-workshop/.venv/lib/python3.11/site-packages (from transformers) (1.24.4)\r\n",
      "Requirement already satisfied: packaging>=20.0 in /Users/jicowan/PycharmProjects/amazon-bedrock-workshop/.venv/lib/python3.11/site-packages (from transformers) (23.2)\r\n",
      "Requirement already satisfied: pyyaml>=5.1 in /Users/jicowan/PycharmProjects/amazon-bedrock-workshop/.venv/lib/python3.11/site-packages (from transformers) (6.0.1)\r\n",
      "Requirement already satisfied: regex!=2019.12.17 in /Users/jicowan/PycharmProjects/amazon-bedrock-workshop/.venv/lib/python3.11/site-packages (from transformers) (2024.4.16)\r\n",
      "Requirement already satisfied: requests in /Users/jicowan/PycharmProjects/amazon-bedrock-workshop/.venv/lib/python3.11/site-packages (from transformers) (2.31.0)\r\n",
      "Requirement already satisfied: tokenizers<0.20,>=0.19 in /Users/jicowan/PycharmProjects/amazon-bedrock-workshop/.venv/lib/python3.11/site-packages (from transformers) (0.19.1)\r\n",
      "Requirement already satisfied: safetensors>=0.4.1 in /Users/jicowan/PycharmProjects/amazon-bedrock-workshop/.venv/lib/python3.11/site-packages (from transformers) (0.4.3)\r\n",
      "Requirement already satisfied: tqdm>=4.27 in /Users/jicowan/PycharmProjects/amazon-bedrock-workshop/.venv/lib/python3.11/site-packages (from transformers) (4.66.2)\r\n",
      "Requirement already satisfied: fsspec>=2023.5.0 in /Users/jicowan/PycharmProjects/amazon-bedrock-workshop/.venv/lib/python3.11/site-packages (from huggingface-hub<1.0,>=0.19.3->transformers) (2024.3.1)\r\n",
      "Requirement already satisfied: typing-extensions>=3.7.4.3 in /Users/jicowan/PycharmProjects/amazon-bedrock-workshop/.venv/lib/python3.11/site-packages (from huggingface-hub<1.0,>=0.19.3->transformers) (4.11.0)\r\n",
      "Requirement already satisfied: charset-normalizer<4,>=2 in /Users/jicowan/PycharmProjects/amazon-bedrock-workshop/.venv/lib/python3.11/site-packages (from requests->transformers) (3.3.2)\r\n",
      "Requirement already satisfied: idna<4,>=2.5 in /Users/jicowan/PycharmProjects/amazon-bedrock-workshop/.venv/lib/python3.11/site-packages (from requests->transformers) (3.7)\r\n",
      "Requirement already satisfied: urllib3<3,>=1.21.1 in /Users/jicowan/PycharmProjects/amazon-bedrock-workshop/.venv/lib/python3.11/site-packages (from requests->transformers) (2.2.1)\r\n",
      "Requirement already satisfied: certifi>=2017.4.17 in /Users/jicowan/PycharmProjects/amazon-bedrock-workshop/.venv/lib/python3.11/site-packages (from requests->transformers) (2024.2.2)\r\n",
      "Note: you may need to restart the kernel to use updated packages.\n"
     ]
    }
   ],
   "execution_count": 3
  },
  {
   "cell_type": "markdown",
   "id": "b63a3c03-0f6d-42dd-9e31-cb9dbd7347fc",
   "metadata": {
    "tags": []
   },
   "source": [
    "### Imports"
   ]
  },
  {
   "cell_type": "code",
   "id": "7d56d068-2b8f-4e54-9c22-c356b2bdf883",
   "metadata": {
    "tags": [],
    "ExecuteTime": {
     "end_time": "2024-04-30T17:05:48.848438Z",
     "start_time": "2024-04-30T17:05:36.319249Z"
    }
   },
   "source": [
    "import json\n",
    "import os\n",
    "import sys\n",
    "from langchain_aws import BedrockLLM\n",
    "# import boto3\n",
    "# import botocore\n",
    "from langchain.agents import XMLAgent, tool, AgentExecutor\n",
    "\n",
    "\n",
    "module_path = \"..\"\n",
    "sys.path.append(os.path.abspath(module_path))\n",
    "\n",
    "\n",
    "\n",
    "# boto3_bedrock_runtime = boto3.client('bedrock-runtime')\n",
    "\n",
    "model = BedrockLLM(\n",
    "    model_id=\"anthropic.claude-v2\", \n",
    "    # client=boto3_bedrock_runtime,\n",
    "    model_kwargs={'temperature': 0.3}\n",
    ")"
   ],
   "outputs": [],
   "execution_count": 4
  },
  {
   "cell_type": "markdown",
   "id": "9bf0d4d8-bee7-47ad-aae2-ba149fe806a0",
   "metadata": {},
   "source": [
    "### Load shareholder letter\n",
    "\n",
    "We will be following a process similar to lab 02 in this summarization section. First, let us load the 2022 Amazon shareholder letter"
   ]
  },
  {
   "cell_type": "code",
   "id": "78d739ed-b008-4d5e-b9bd-a4c5b8fea9c7",
   "metadata": {
    "tags": [],
    "ExecuteTime": {
     "end_time": "2024-04-30T17:05:54.420462Z",
     "start_time": "2024-04-30T17:05:54.414843Z"
    }
   },
   "source": [
    "shareholder_letter = \"./letters/2022-letter.txt\"\n",
    "\n",
    "with open(shareholder_letter, \"r\") as file:\n",
    "    letter = file.read()"
   ],
   "outputs": [],
   "execution_count": 5
  },
  {
   "cell_type": "code",
   "id": "e2b27297-6d9e-434c-94a5-67b4cae8a23f",
   "metadata": {
    "scrolled": true,
    "tags": [],
    "ExecuteTime": {
     "end_time": "2024-04-30T17:05:56.230697Z",
     "start_time": "2024-04-30T17:05:56.210055Z"
    }
   },
   "source": [
    "len(letter.split(' '))"
   ],
   "outputs": [
    {
     "data": {
      "text/plain": [
       "5084"
      ]
     },
     "execution_count": 6,
     "metadata": {},
     "output_type": "execute_result"
    }
   ],
   "execution_count": 6
  },
  {
   "cell_type": "code",
   "id": "b45742c5-35bd-484c-9d25-8bf6c7bf7c13",
   "metadata": {
    "tags": [],
    "ExecuteTime": {
     "end_time": "2024-04-30T17:06:03.349901Z",
     "start_time": "2024-04-30T17:06:03.340004Z"
    }
   },
   "source": [
    "from langchain.text_splitter import RecursiveCharacterTextSplitter\n",
    "text_splitter = RecursiveCharacterTextSplitter(\n",
    "    separators=[\"\\n\\n\", \"\\n\"], chunk_size=4000, chunk_overlap=100\n",
    ")\n",
    "\n",
    "docs = text_splitter.create_documents([letter])"
   ],
   "outputs": [],
   "execution_count": 7
  },
  {
   "cell_type": "code",
   "id": "bf767a06-80dc-496c-820e-b0e67f1bd9e4",
   "metadata": {
    "tags": [],
    "ExecuteTime": {
     "end_time": "2024-04-30T17:06:09.506398Z",
     "start_time": "2024-04-30T17:06:08.380641Z"
    }
   },
   "source": [
    "num_docs = len(docs)\n",
    "\n",
    "num_tokens_first_doc = model.get_num_tokens(docs[0].page_content)\n",
    "\n",
    "print(\n",
    "    f\"Now we have {num_docs} documents and the first one has {num_tokens_first_doc} tokens\"\n",
    ")"
   ],
   "outputs": [
    {
     "name": "stdout",
     "output_type": "stream",
     "text": [
      "Now we have 10 documents and the first one has 435 tokens\n"
     ]
    }
   ],
   "execution_count": 8
  },
  {
   "cell_type": "code",
   "id": "8e980a6f-037b-41df-87f4-4c9c81261338",
   "metadata": {
    "tags": [],
    "ExecuteTime": {
     "end_time": "2024-04-30T17:07:18.213194Z",
     "start_time": "2024-04-30T17:07:18.195643Z"
    }
   },
   "source": [
    "from langchain.prompts import PromptTemplate\n",
    "from langchain.output_parsers import XMLOutputParser, PydanticOutputParser\n",
    "from langchain.output_parsers.json import SimpleJsonOutputParser\n",
    "from langchain.schema.output_parser import StrOutputParser\n",
    "\n",
    "\n",
    "xml_parser = XMLOutputParser(tags=['insight'])\n",
    "str_parser = StrOutputParser()\n",
    "\n",
    "prompt = PromptTemplate(\n",
    "    template=\"\"\"\n",
    "    \n",
    "    Human:\n",
    "    {instructions} : \\\"{document}\\\"\n",
    "    Format help: {format_instructions}.\n",
    "    Assistant:\"\"\",\n",
    "    input_variables=[\"instructions\",\"document\"],\n",
    "    partial_variables={\"format_instructions\": xml_parser.get_format_instructions()},\n",
    ")\n",
    "\n",
    "insight_chain = prompt | model | StrOutputParser()"
   ],
   "outputs": [],
   "execution_count": 9
  },
  {
   "cell_type": "markdown",
   "id": "9977f205-c0d0-4f0f-90dc-ffe1a0085924",
   "metadata": {},
   "source": "# Option 1: Manually process insights, then summarize"
  },
  {
   "cell_type": "code",
   "id": "62159569-331e-43c6-a5e7-ecdbcd4bdba9",
   "metadata": {
    "tags": [],
    "ExecuteTime": {
     "end_time": "2024-04-30T17:23:49.984933Z",
     "start_time": "2024-04-30T17:22:43.113292Z"
    }
   },
   "source": [
    "%%time\n",
    "insights=[]\n",
    "for page, insight in enumerate(docs):\n",
    "    insights.append(\n",
    "        insight_chain.invoke({\n",
    "        \"instructions\":\"Provide Key insights from the following text\",\n",
    "        \"document\": {insight.page_content}\n",
    "    }))"
   ],
   "outputs": [
    {
     "name": "stdout",
     "output_type": "stream",
     "text": [
      "CPU times: user 66.5 ms, sys: 7.96 ms, total: 74.5 ms\n",
      "Wall time: 1min 6s\n"
     ]
    }
   ],
   "execution_count": 22
  },
  {
   "metadata": {
    "ExecuteTime": {
     "end_time": "2024-04-30T17:29:24.166844Z",
     "start_time": "2024-04-30T17:29:24.162997Z"
    }
   },
   "cell_type": "code",
   "source": [
    "# prints an insight from the insight's list\n",
    "insights[5]"
   ],
   "id": "78393df778af698",
   "outputs": [
    {
     "data": {
      "text/plain": [
       "\" <insight>\\n<insight1>\\nAmazon is making large investments in machine learning to improve its advertising algorithms and provide better insights and measurement tools for advertisers through products like Amazon Marketing Cloud. This allows advertisers to analyze audience data and campaign performance to optimize their marketing strategies.\\n</insight1>\\n\\n<insight2>\\nAmazon believes there are future opportunities to integrate advertising into its video, live sports, audio, and grocery offerings to help brands engage their target audiences. The company will continue growing its advertising business.\\n</insight2> \\n\\n<insight3>\\nAmazon uses a systematic process to evaluate new investment opportunities based on their potential size, current level of service in the market, whether Amazon has a differentiated approach, and if Amazon has the needed competencies or can acquire them quickly. This framework has led Amazon to expand into new areas like international stores.\\n</insight3>\\n\\n<insight4>\\nAmazon's established international businesses like UK, Germany and Japan have shown impressive growth even on a large base. The company has also invested in emerging geographies which require some fixed investment initially but have growth patterns similar to North America and established countries. Amazon believes serving more international customers will allow it to build a larger free cash flow generating consumer business.\\n</insight4>\\n</insight>\""
      ]
     },
     "execution_count": 31,
     "metadata": {},
     "output_type": "execute_result"
    }
   ],
   "execution_count": 31
  },
  {
   "cell_type": "code",
   "id": "aaffe084-6e8c-4a9a-a805-de7019de625e",
   "metadata": {
    "tags": [],
    "ExecuteTime": {
     "end_time": "2024-04-30T17:24:30.464107Z",
     "start_time": "2024-04-30T17:24:30.460136Z"
    }
   },
   "source": [
    "# str_parser = StrOutputParser()\n",
    "\n",
    "prompt = PromptTemplate(\n",
    "    template=\"\"\"\n",
    "    \n",
    "    Human:\n",
    "    {instructions} : \\\"{document}\\\"\n",
    "    Assistant:\"\"\",\n",
    "    input_variables=[\"instructions\",\"document\"]\n",
    ")\n",
    "\n",
    "summary_chain = prompt | model | StrOutputParser()"
   ],
   "outputs": [],
   "execution_count": 24
  },
  {
   "cell_type": "code",
   "id": "8e270675-de38-42c7-8783-144f1b6d09d5",
   "metadata": {
    "tags": [],
    "ExecuteTime": {
     "end_time": "2024-04-30T17:24:56.258956Z",
     "start_time": "2024-04-30T17:24:49.335243Z"
    }
   },
   "source": [
    "%%time\n",
    "print(summary_chain.invoke({\n",
    "        \"instructions\":\"You will be provided with multiple sets of insights. Compile and summarize these insights and provide key takeaways in one concise paragraph. Do not use the original xml tags. Just provide a paragraph with your compiled insights.\",\n",
    "        \"document\": {'\\n'.join(insights)}\n",
    "    }))"
   ],
   "outputs": [
    {
     "name": "stdout",
     "output_type": "stream",
     "text": [
      " Here is a concise paragraph summarizing the key insights:\n",
      "\n",
      "Amazon has transformed over 25 years from an online bookseller to a global e-commerce and cloud computing giant, pioneering innovations like Kindle, Alexa, and AWS along the way. Despite economic challenges, Amazon continues investing for the long-term in high-potential areas and optimizing operations to improve efficiency. Key focus areas going forward are expanding grocery and advertising, geographic growth, new healthcare offerings, satellite broadband access, and generative AI/machine learning. Amazon believes its best days lie ahead as it leads in customer experience, innovation and hard work across its consumer business, AWS, and new initiatives.\n",
      "CPU times: user 8.63 ms, sys: 3.06 ms, total: 11.7 ms\n",
      "Wall time: 6.92 s\n"
     ]
    }
   ],
   "execution_count": 25
  },
  {
   "cell_type": "markdown",
   "id": "10de5c80-0a16-4c9b-8afc-1714bcf6c14b",
   "metadata": {},
   "source": "# Option 2: Use Map reduce pattern on Langchain"
  },
  {
   "cell_type": "code",
   "id": "0cec31ee-5614-4bab-8eb1-bfcd75850391",
   "metadata": {
    "tags": [],
    "ExecuteTime": {
     "end_time": "2024-04-30T17:26:09.606332Z",
     "start_time": "2024-04-30T17:26:09.593801Z"
    }
   },
   "source": [
    "from langchain.chains.summarize import load_summarize_chain\n",
    "summary_chain = load_summarize_chain(llm=model, chain_type=\"map_reduce\", verbose=False)"
   ],
   "outputs": [],
   "execution_count": 26
  },
  {
   "cell_type": "code",
   "id": "adcf6da2-3530-45dd-9d50-50732da088c8",
   "metadata": {
    "tags": [],
    "ExecuteTime": {
     "end_time": "2024-04-30T17:27:17.802405Z",
     "start_time": "2024-04-30T17:26:12.177624Z"
    }
   },
   "source": [
    "%%time\n",
    "print(summary_chain.invoke(docs))"
   ],
   "outputs": [
    {
     "name": "stderr",
     "output_type": "stream",
     "text": [
      "/Users/jicowan/PycharmProjects/amazon-bedrock-workshop/.venv/lib/python3.11/site-packages/langchain_core/_api/deprecation.py:119: LangChainDeprecationWarning: The method `Chain.run` was deprecated in langchain 0.1.0 and will be removed in 0.2.0. Use invoke instead.\n",
      "  warn_deprecated(\n"
     ]
    },
    {
     "name": "stdout",
     "output_type": "stream",
     "text": [
      " Here is a concise summary of the key points:\n",
      "\n",
      "Amazon has faced macroeconomic challenges in 2022 but remains optimistic about future growth opportunities. The company continues to innovate, expanding into new business areas like healthcare and satellite broadband. Amazon is focused on long-term investments like AWS and advertising despite needing to streamline costs with workforce reductions. The leadership team embraces change, rapidly evolving the business over 25+ years from an online bookseller to a global ecommerce and cloud giant. Amazon believes in-person collaboration drives innovation so is asking corporate employees to return to the office. The company is leveraging strengths like logistics and customer service to disrupt massive markets like grocery and business procurement. Amazon is investing heavily in AI like large language models to improve customer experiences, positioning itself to capture significant market share as retail and IT spending move online.\n",
      "CPU times: user 80.4 ms, sys: 23.8 ms, total: 104 ms\n",
      "Wall time: 1min 5s\n"
     ]
    }
   ],
   "execution_count": 27
  },
  {
   "metadata": {},
   "cell_type": "code",
   "outputs": [],
   "execution_count": null,
   "source": "",
   "id": "e840ddd9ea40afe5"
  }
 ],
 "metadata": {
  "availableInstances": [
   {
    "_defaultOrder": 0,
    "_isFastLaunch": true,
    "category": "General purpose",
    "gpuNum": 0,
    "hideHardwareSpecs": false,
    "memoryGiB": 4,
    "name": "ml.t3.medium",
    "vcpuNum": 2
   },
   {
    "_defaultOrder": 1,
    "_isFastLaunch": false,
    "category": "General purpose",
    "gpuNum": 0,
    "hideHardwareSpecs": false,
    "memoryGiB": 8,
    "name": "ml.t3.large",
    "vcpuNum": 2
   },
   {
    "_defaultOrder": 2,
    "_isFastLaunch": false,
    "category": "General purpose",
    "gpuNum": 0,
    "hideHardwareSpecs": false,
    "memoryGiB": 16,
    "name": "ml.t3.xlarge",
    "vcpuNum": 4
   },
   {
    "_defaultOrder": 3,
    "_isFastLaunch": false,
    "category": "General purpose",
    "gpuNum": 0,
    "hideHardwareSpecs": false,
    "memoryGiB": 32,
    "name": "ml.t3.2xlarge",
    "vcpuNum": 8
   },
   {
    "_defaultOrder": 4,
    "_isFastLaunch": true,
    "category": "General purpose",
    "gpuNum": 0,
    "hideHardwareSpecs": false,
    "memoryGiB": 8,
    "name": "ml.m5.large",
    "vcpuNum": 2
   },
   {
    "_defaultOrder": 5,
    "_isFastLaunch": false,
    "category": "General purpose",
    "gpuNum": 0,
    "hideHardwareSpecs": false,
    "memoryGiB": 16,
    "name": "ml.m5.xlarge",
    "vcpuNum": 4
   },
   {
    "_defaultOrder": 6,
    "_isFastLaunch": false,
    "category": "General purpose",
    "gpuNum": 0,
    "hideHardwareSpecs": false,
    "memoryGiB": 32,
    "name": "ml.m5.2xlarge",
    "vcpuNum": 8
   },
   {
    "_defaultOrder": 7,
    "_isFastLaunch": false,
    "category": "General purpose",
    "gpuNum": 0,
    "hideHardwareSpecs": false,
    "memoryGiB": 64,
    "name": "ml.m5.4xlarge",
    "vcpuNum": 16
   },
   {
    "_defaultOrder": 8,
    "_isFastLaunch": false,
    "category": "General purpose",
    "gpuNum": 0,
    "hideHardwareSpecs": false,
    "memoryGiB": 128,
    "name": "ml.m5.8xlarge",
    "vcpuNum": 32
   },
   {
    "_defaultOrder": 9,
    "_isFastLaunch": false,
    "category": "General purpose",
    "gpuNum": 0,
    "hideHardwareSpecs": false,
    "memoryGiB": 192,
    "name": "ml.m5.12xlarge",
    "vcpuNum": 48
   },
   {
    "_defaultOrder": 10,
    "_isFastLaunch": false,
    "category": "General purpose",
    "gpuNum": 0,
    "hideHardwareSpecs": false,
    "memoryGiB": 256,
    "name": "ml.m5.16xlarge",
    "vcpuNum": 64
   },
   {
    "_defaultOrder": 11,
    "_isFastLaunch": false,
    "category": "General purpose",
    "gpuNum": 0,
    "hideHardwareSpecs": false,
    "memoryGiB": 384,
    "name": "ml.m5.24xlarge",
    "vcpuNum": 96
   },
   {
    "_defaultOrder": 12,
    "_isFastLaunch": false,
    "category": "General purpose",
    "gpuNum": 0,
    "hideHardwareSpecs": false,
    "memoryGiB": 8,
    "name": "ml.m5d.large",
    "vcpuNum": 2
   },
   {
    "_defaultOrder": 13,
    "_isFastLaunch": false,
    "category": "General purpose",
    "gpuNum": 0,
    "hideHardwareSpecs": false,
    "memoryGiB": 16,
    "name": "ml.m5d.xlarge",
    "vcpuNum": 4
   },
   {
    "_defaultOrder": 14,
    "_isFastLaunch": false,
    "category": "General purpose",
    "gpuNum": 0,
    "hideHardwareSpecs": false,
    "memoryGiB": 32,
    "name": "ml.m5d.2xlarge",
    "vcpuNum": 8
   },
   {
    "_defaultOrder": 15,
    "_isFastLaunch": false,
    "category": "General purpose",
    "gpuNum": 0,
    "hideHardwareSpecs": false,
    "memoryGiB": 64,
    "name": "ml.m5d.4xlarge",
    "vcpuNum": 16
   },
   {
    "_defaultOrder": 16,
    "_isFastLaunch": false,
    "category": "General purpose",
    "gpuNum": 0,
    "hideHardwareSpecs": false,
    "memoryGiB": 128,
    "name": "ml.m5d.8xlarge",
    "vcpuNum": 32
   },
   {
    "_defaultOrder": 17,
    "_isFastLaunch": false,
    "category": "General purpose",
    "gpuNum": 0,
    "hideHardwareSpecs": false,
    "memoryGiB": 192,
    "name": "ml.m5d.12xlarge",
    "vcpuNum": 48
   },
   {
    "_defaultOrder": 18,
    "_isFastLaunch": false,
    "category": "General purpose",
    "gpuNum": 0,
    "hideHardwareSpecs": false,
    "memoryGiB": 256,
    "name": "ml.m5d.16xlarge",
    "vcpuNum": 64
   },
   {
    "_defaultOrder": 19,
    "_isFastLaunch": false,
    "category": "General purpose",
    "gpuNum": 0,
    "hideHardwareSpecs": false,
    "memoryGiB": 384,
    "name": "ml.m5d.24xlarge",
    "vcpuNum": 96
   },
   {
    "_defaultOrder": 20,
    "_isFastLaunch": false,
    "category": "General purpose",
    "gpuNum": 0,
    "hideHardwareSpecs": true,
    "memoryGiB": 0,
    "name": "ml.geospatial.interactive",
    "supportedImageNames": [
     "sagemaker-geospatial-v1-0"
    ],
    "vcpuNum": 0
   },
   {
    "_defaultOrder": 21,
    "_isFastLaunch": true,
    "category": "Compute optimized",
    "gpuNum": 0,
    "hideHardwareSpecs": false,
    "memoryGiB": 4,
    "name": "ml.c5.large",
    "vcpuNum": 2
   },
   {
    "_defaultOrder": 22,
    "_isFastLaunch": false,
    "category": "Compute optimized",
    "gpuNum": 0,
    "hideHardwareSpecs": false,
    "memoryGiB": 8,
    "name": "ml.c5.xlarge",
    "vcpuNum": 4
   },
   {
    "_defaultOrder": 23,
    "_isFastLaunch": false,
    "category": "Compute optimized",
    "gpuNum": 0,
    "hideHardwareSpecs": false,
    "memoryGiB": 16,
    "name": "ml.c5.2xlarge",
    "vcpuNum": 8
   },
   {
    "_defaultOrder": 24,
    "_isFastLaunch": false,
    "category": "Compute optimized",
    "gpuNum": 0,
    "hideHardwareSpecs": false,
    "memoryGiB": 32,
    "name": "ml.c5.4xlarge",
    "vcpuNum": 16
   },
   {
    "_defaultOrder": 25,
    "_isFastLaunch": false,
    "category": "Compute optimized",
    "gpuNum": 0,
    "hideHardwareSpecs": false,
    "memoryGiB": 72,
    "name": "ml.c5.9xlarge",
    "vcpuNum": 36
   },
   {
    "_defaultOrder": 26,
    "_isFastLaunch": false,
    "category": "Compute optimized",
    "gpuNum": 0,
    "hideHardwareSpecs": false,
    "memoryGiB": 96,
    "name": "ml.c5.12xlarge",
    "vcpuNum": 48
   },
   {
    "_defaultOrder": 27,
    "_isFastLaunch": false,
    "category": "Compute optimized",
    "gpuNum": 0,
    "hideHardwareSpecs": false,
    "memoryGiB": 144,
    "name": "ml.c5.18xlarge",
    "vcpuNum": 72
   },
   {
    "_defaultOrder": 28,
    "_isFastLaunch": false,
    "category": "Compute optimized",
    "gpuNum": 0,
    "hideHardwareSpecs": false,
    "memoryGiB": 192,
    "name": "ml.c5.24xlarge",
    "vcpuNum": 96
   },
   {
    "_defaultOrder": 29,
    "_isFastLaunch": true,
    "category": "Accelerated computing",
    "gpuNum": 1,
    "hideHardwareSpecs": false,
    "memoryGiB": 16,
    "name": "ml.g4dn.xlarge",
    "vcpuNum": 4
   },
   {
    "_defaultOrder": 30,
    "_isFastLaunch": false,
    "category": "Accelerated computing",
    "gpuNum": 1,
    "hideHardwareSpecs": false,
    "memoryGiB": 32,
    "name": "ml.g4dn.2xlarge",
    "vcpuNum": 8
   },
   {
    "_defaultOrder": 31,
    "_isFastLaunch": false,
    "category": "Accelerated computing",
    "gpuNum": 1,
    "hideHardwareSpecs": false,
    "memoryGiB": 64,
    "name": "ml.g4dn.4xlarge",
    "vcpuNum": 16
   },
   {
    "_defaultOrder": 32,
    "_isFastLaunch": false,
    "category": "Accelerated computing",
    "gpuNum": 1,
    "hideHardwareSpecs": false,
    "memoryGiB": 128,
    "name": "ml.g4dn.8xlarge",
    "vcpuNum": 32
   },
   {
    "_defaultOrder": 33,
    "_isFastLaunch": false,
    "category": "Accelerated computing",
    "gpuNum": 4,
    "hideHardwareSpecs": false,
    "memoryGiB": 192,
    "name": "ml.g4dn.12xlarge",
    "vcpuNum": 48
   },
   {
    "_defaultOrder": 34,
    "_isFastLaunch": false,
    "category": "Accelerated computing",
    "gpuNum": 1,
    "hideHardwareSpecs": false,
    "memoryGiB": 256,
    "name": "ml.g4dn.16xlarge",
    "vcpuNum": 64
   },
   {
    "_defaultOrder": 35,
    "_isFastLaunch": false,
    "category": "Accelerated computing",
    "gpuNum": 1,
    "hideHardwareSpecs": false,
    "memoryGiB": 61,
    "name": "ml.p3.2xlarge",
    "vcpuNum": 8
   },
   {
    "_defaultOrder": 36,
    "_isFastLaunch": false,
    "category": "Accelerated computing",
    "gpuNum": 4,
    "hideHardwareSpecs": false,
    "memoryGiB": 244,
    "name": "ml.p3.8xlarge",
    "vcpuNum": 32
   },
   {
    "_defaultOrder": 37,
    "_isFastLaunch": false,
    "category": "Accelerated computing",
    "gpuNum": 8,
    "hideHardwareSpecs": false,
    "memoryGiB": 488,
    "name": "ml.p3.16xlarge",
    "vcpuNum": 64
   },
   {
    "_defaultOrder": 38,
    "_isFastLaunch": false,
    "category": "Accelerated computing",
    "gpuNum": 8,
    "hideHardwareSpecs": false,
    "memoryGiB": 768,
    "name": "ml.p3dn.24xlarge",
    "vcpuNum": 96
   },
   {
    "_defaultOrder": 39,
    "_isFastLaunch": false,
    "category": "Memory Optimized",
    "gpuNum": 0,
    "hideHardwareSpecs": false,
    "memoryGiB": 16,
    "name": "ml.r5.large",
    "vcpuNum": 2
   },
   {
    "_defaultOrder": 40,
    "_isFastLaunch": false,
    "category": "Memory Optimized",
    "gpuNum": 0,
    "hideHardwareSpecs": false,
    "memoryGiB": 32,
    "name": "ml.r5.xlarge",
    "vcpuNum": 4
   },
   {
    "_defaultOrder": 41,
    "_isFastLaunch": false,
    "category": "Memory Optimized",
    "gpuNum": 0,
    "hideHardwareSpecs": false,
    "memoryGiB": 64,
    "name": "ml.r5.2xlarge",
    "vcpuNum": 8
   },
   {
    "_defaultOrder": 42,
    "_isFastLaunch": false,
    "category": "Memory Optimized",
    "gpuNum": 0,
    "hideHardwareSpecs": false,
    "memoryGiB": 128,
    "name": "ml.r5.4xlarge",
    "vcpuNum": 16
   },
   {
    "_defaultOrder": 43,
    "_isFastLaunch": false,
    "category": "Memory Optimized",
    "gpuNum": 0,
    "hideHardwareSpecs": false,
    "memoryGiB": 256,
    "name": "ml.r5.8xlarge",
    "vcpuNum": 32
   },
   {
    "_defaultOrder": 44,
    "_isFastLaunch": false,
    "category": "Memory Optimized",
    "gpuNum": 0,
    "hideHardwareSpecs": false,
    "memoryGiB": 384,
    "name": "ml.r5.12xlarge",
    "vcpuNum": 48
   },
   {
    "_defaultOrder": 45,
    "_isFastLaunch": false,
    "category": "Memory Optimized",
    "gpuNum": 0,
    "hideHardwareSpecs": false,
    "memoryGiB": 512,
    "name": "ml.r5.16xlarge",
    "vcpuNum": 64
   },
   {
    "_defaultOrder": 46,
    "_isFastLaunch": false,
    "category": "Memory Optimized",
    "gpuNum": 0,
    "hideHardwareSpecs": false,
    "memoryGiB": 768,
    "name": "ml.r5.24xlarge",
    "vcpuNum": 96
   },
   {
    "_defaultOrder": 47,
    "_isFastLaunch": false,
    "category": "Accelerated computing",
    "gpuNum": 1,
    "hideHardwareSpecs": false,
    "memoryGiB": 16,
    "name": "ml.g5.xlarge",
    "vcpuNum": 4
   },
   {
    "_defaultOrder": 48,
    "_isFastLaunch": false,
    "category": "Accelerated computing",
    "gpuNum": 1,
    "hideHardwareSpecs": false,
    "memoryGiB": 32,
    "name": "ml.g5.2xlarge",
    "vcpuNum": 8
   },
   {
    "_defaultOrder": 49,
    "_isFastLaunch": false,
    "category": "Accelerated computing",
    "gpuNum": 1,
    "hideHardwareSpecs": false,
    "memoryGiB": 64,
    "name": "ml.g5.4xlarge",
    "vcpuNum": 16
   },
   {
    "_defaultOrder": 50,
    "_isFastLaunch": false,
    "category": "Accelerated computing",
    "gpuNum": 1,
    "hideHardwareSpecs": false,
    "memoryGiB": 128,
    "name": "ml.g5.8xlarge",
    "vcpuNum": 32
   },
   {
    "_defaultOrder": 51,
    "_isFastLaunch": false,
    "category": "Accelerated computing",
    "gpuNum": 1,
    "hideHardwareSpecs": false,
    "memoryGiB": 256,
    "name": "ml.g5.16xlarge",
    "vcpuNum": 64
   },
   {
    "_defaultOrder": 52,
    "_isFastLaunch": false,
    "category": "Accelerated computing",
    "gpuNum": 4,
    "hideHardwareSpecs": false,
    "memoryGiB": 192,
    "name": "ml.g5.12xlarge",
    "vcpuNum": 48
   },
   {
    "_defaultOrder": 53,
    "_isFastLaunch": false,
    "category": "Accelerated computing",
    "gpuNum": 4,
    "hideHardwareSpecs": false,
    "memoryGiB": 384,
    "name": "ml.g5.24xlarge",
    "vcpuNum": 96
   },
   {
    "_defaultOrder": 54,
    "_isFastLaunch": false,
    "category": "Accelerated computing",
    "gpuNum": 8,
    "hideHardwareSpecs": false,
    "memoryGiB": 768,
    "name": "ml.g5.48xlarge",
    "vcpuNum": 192
   },
   {
    "_defaultOrder": 55,
    "_isFastLaunch": false,
    "category": "Accelerated computing",
    "gpuNum": 8,
    "hideHardwareSpecs": false,
    "memoryGiB": 1152,
    "name": "ml.p4d.24xlarge",
    "vcpuNum": 96
   },
   {
    "_defaultOrder": 56,
    "_isFastLaunch": false,
    "category": "Accelerated computing",
    "gpuNum": 8,
    "hideHardwareSpecs": false,
    "memoryGiB": 1152,
    "name": "ml.p4de.24xlarge",
    "vcpuNum": 96
   },
   {
    "_defaultOrder": 57,
    "_isFastLaunch": false,
    "category": "Accelerated computing",
    "gpuNum": 0,
    "hideHardwareSpecs": false,
    "memoryGiB": 32,
    "name": "ml.trn1.2xlarge",
    "vcpuNum": 8
   },
   {
    "_defaultOrder": 58,
    "_isFastLaunch": false,
    "category": "Accelerated computing",
    "gpuNum": 0,
    "hideHardwareSpecs": false,
    "memoryGiB": 512,
    "name": "ml.trn1.32xlarge",
    "vcpuNum": 128
   },
   {
    "_defaultOrder": 59,
    "_isFastLaunch": false,
    "category": "Accelerated computing",
    "gpuNum": 0,
    "hideHardwareSpecs": false,
    "memoryGiB": 512,
    "name": "ml.trn1n.32xlarge",
    "vcpuNum": 128
   }
  ],
  "instance_type": "ml.t3.medium",
  "kernelspec": {
   "display_name": "Python 3 (ipykernel)",
   "language": "python",
   "name": "python3"
  },
  "language_info": {
   "codemirror_mode": {
    "name": "ipython",
    "version": 3
   },
   "file_extension": ".py",
   "mimetype": "text/x-python",
   "name": "python",
   "nbconvert_exporter": "python",
   "pygments_lexer": "ipython3",
   "version": "3.10.8"
  }
 },
 "nbformat": 4,
 "nbformat_minor": 5
}
